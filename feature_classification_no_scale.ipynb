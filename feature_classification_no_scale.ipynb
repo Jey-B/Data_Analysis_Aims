{
 "cells": [
  {
   "cell_type": "markdown",
   "metadata": {
    "id": "Zs3Vxo5dmP7j"
   },
   "source": [
    "## Feature based classification\n",
    "\n",
    "### jey@aims.ac.za"
   ]
  },
  {
   "cell_type": "markdown",
   "metadata": {},
   "source": [
    "# Module importation"
   ]
  },
  {
   "cell_type": "code",
   "execution_count": null,
   "metadata": {
    "colab": {
     "base_uri": "https://localhost:8080/",
     "height": 101
    },
    "id": "T-5ywHOxNb7y",
    "outputId": "323ef928-249e-4493-d015-c9f7c3cde176"
   },
   "outputs": [
    {
     "name": "stderr",
     "output_type": "stream",
     "text": [
      "Using TensorFlow backend.\n"
     ]
    },
    {
     "data": {
      "text/html": [
       "<p style=\"color: red;\">\n",
       "The default version of TensorFlow in Colab will soon switch to TensorFlow 2.x.<br>\n",
       "We recommend you <a href=\"https://www.tensorflow.org/guide/migrate\" target=\"_blank\">upgrade</a> now \n",
       "or ensure your notebook will continue to use TensorFlow 1.x via the <code>%tensorflow_version 1.x</code> magic:\n",
       "<a href=\"https://colab.research.google.com/notebooks/tensorflow_version.ipynb\" target=\"_blank\">more info</a>.</p>\n"
      ],
      "text/plain": [
       "<IPython.core.display.HTML object>"
      ]
     },
     "metadata": {
      "tags": []
     },
     "output_type": "display_data"
    },
    {
     "name": "stdout",
     "output_type": "stream",
     "text": [
      "1.15.0\n"
     ]
    }
   ],
   "source": [
    "import pandas as pd\n",
    "\n",
    "from keras.models import Sequential\n",
    "from keras.layers import Dense, Conv2D, MaxPooling2D, Flatten, Dropout\n",
    "from keras.datasets import mnist\n",
    "import numpy as np\n",
    "from keras.models import model_from_json\n",
    "import matplotlib.pyplot as plt\n",
    "from sklearn.metrics import mean_squared_error\n",
    "from keras.utils import np_utils\n",
    "from sklearn.metrics import accuracy_score, confusion_matrix\n",
    "from keras.utils import to_categorical\n",
    "from sklearn.preprocessing import LabelEncoder\n",
    "import pandas as pd\n",
    "from sklearn.model_selection import train_test_split\n",
    "\n",
    "%matplotlib inline\n",
    "\n",
    "%tensorflow_version 1.x\n",
    "import tensorflow as tf\n",
    "print(tf.__version__)"
   ]
  },
  {
   "cell_type": "markdown",
   "metadata": {
    "id": "74QOVpN4WwRq"
   },
   "source": [
    "## Load the dataset"
   ]
  },
  {
   "cell_type": "code",
   "execution_count": null,
   "metadata": {
    "id": "-f_P0_9Zhcwx"
   },
   "outputs": [],
   "source": [
    "dataset = pd.read_csv('https://drive.google.com/uc?export=download&id=1XpIaZzSMfyTUH-KFxpXFDsL1PZO_mrC0', header=None,\n",
    "                      names = ['region-centroid-col', 'region-centroid-row', 'region-pixel-count', 'short-line-density-5', \n",
    "                               'short-line-density-2', 'vedge-mean', 'vegde-sd', 'hedge-mean', 'hedge-sd', \n",
    "                               'intensity-mean', 'rawred-mean', 'rawblue-mean', 'rawgreen-mean', 'exred-mean', \n",
    "                               'exblue-mean', 'exgreen-mean', 'value-mean', 'saturatoin-mean', 'hue-mean', 'target'],delim_whitespace=True)"
   ]
  },
  {
   "cell_type": "markdown",
   "metadata": {
    "id": "0enHe6T-O4xs"
   },
   "source": [
    "## 1. Read dataset"
   ]
  },
  {
   "cell_type": "code",
   "execution_count": null,
   "metadata": {
    "colab": {
     "base_uri": "https://localhost:8080/",
     "height": 270
    },
    "id": "CqLvznMeOY0a",
    "outputId": "fdc7e14d-396b-4df1-d247-0c9eaf3f9a38"
   },
   "outputs": [
    {
     "data": {
      "text/html": [
       "<div>\n",
       "<style scoped>\n",
       "    .dataframe tbody tr th:only-of-type {\n",
       "        vertical-align: middle;\n",
       "    }\n",
       "\n",
       "    .dataframe tbody tr th {\n",
       "        vertical-align: top;\n",
       "    }\n",
       "\n",
       "    .dataframe thead th {\n",
       "        text-align: right;\n",
       "    }\n",
       "</style>\n",
       "<table border=\"1\" class=\"dataframe\">\n",
       "  <thead>\n",
       "    <tr style=\"text-align: right;\">\n",
       "      <th></th>\n",
       "      <th>region-centroid-col</th>\n",
       "      <th>region-centroid-row</th>\n",
       "      <th>region-pixel-count</th>\n",
       "      <th>short-line-density-5</th>\n",
       "      <th>short-line-density-2</th>\n",
       "      <th>vedge-mean</th>\n",
       "      <th>vegde-sd</th>\n",
       "      <th>hedge-mean</th>\n",
       "      <th>hedge-sd</th>\n",
       "      <th>intensity-mean</th>\n",
       "      <th>rawred-mean</th>\n",
       "      <th>rawblue-mean</th>\n",
       "      <th>rawgreen-mean</th>\n",
       "      <th>exred-mean</th>\n",
       "      <th>exblue-mean</th>\n",
       "      <th>exgreen-mean</th>\n",
       "      <th>value-mean</th>\n",
       "      <th>saturatoin-mean</th>\n",
       "      <th>hue-mean</th>\n",
       "      <th>target</th>\n",
       "    </tr>\n",
       "  </thead>\n",
       "  <tbody>\n",
       "    <tr>\n",
       "      <th>0</th>\n",
       "      <td>218.0</td>\n",
       "      <td>178.0</td>\n",
       "      <td>9</td>\n",
       "      <td>0.111111</td>\n",
       "      <td>0.0</td>\n",
       "      <td>0.833333</td>\n",
       "      <td>0.547722</td>\n",
       "      <td>1.111109</td>\n",
       "      <td>0.544331</td>\n",
       "      <td>59.629630</td>\n",
       "      <td>52.444443</td>\n",
       "      <td>75.222220</td>\n",
       "      <td>51.222220</td>\n",
       "      <td>-21.555555</td>\n",
       "      <td>46.77778</td>\n",
       "      <td>-25.222221</td>\n",
       "      <td>75.222220</td>\n",
       "      <td>0.318996</td>\n",
       "      <td>-2.040554</td>\n",
       "      <td>6</td>\n",
       "    </tr>\n",
       "    <tr>\n",
       "      <th>1</th>\n",
       "      <td>113.0</td>\n",
       "      <td>130.0</td>\n",
       "      <td>9</td>\n",
       "      <td>0.000000</td>\n",
       "      <td>0.0</td>\n",
       "      <td>0.277778</td>\n",
       "      <td>0.250924</td>\n",
       "      <td>0.333333</td>\n",
       "      <td>0.365148</td>\n",
       "      <td>0.888889</td>\n",
       "      <td>0.000000</td>\n",
       "      <td>2.555556</td>\n",
       "      <td>0.111111</td>\n",
       "      <td>-2.666667</td>\n",
       "      <td>5.00000</td>\n",
       "      <td>-2.333333</td>\n",
       "      <td>2.555556</td>\n",
       "      <td>1.000000</td>\n",
       "      <td>-2.123254</td>\n",
       "      <td>3</td>\n",
       "    </tr>\n",
       "    <tr>\n",
       "      <th>2</th>\n",
       "      <td>202.0</td>\n",
       "      <td>41.0</td>\n",
       "      <td>9</td>\n",
       "      <td>0.000000</td>\n",
       "      <td>0.0</td>\n",
       "      <td>0.944448</td>\n",
       "      <td>0.772202</td>\n",
       "      <td>1.111112</td>\n",
       "      <td>1.025597</td>\n",
       "      <td>123.037040</td>\n",
       "      <td>111.888885</td>\n",
       "      <td>139.777790</td>\n",
       "      <td>117.444440</td>\n",
       "      <td>-33.444443</td>\n",
       "      <td>50.22222</td>\n",
       "      <td>-16.777779</td>\n",
       "      <td>139.777790</td>\n",
       "      <td>0.199347</td>\n",
       "      <td>-2.299918</td>\n",
       "      <td>2</td>\n",
       "    </tr>\n",
       "    <tr>\n",
       "      <th>3</th>\n",
       "      <td>32.0</td>\n",
       "      <td>173.0</td>\n",
       "      <td>9</td>\n",
       "      <td>0.000000</td>\n",
       "      <td>0.0</td>\n",
       "      <td>1.722222</td>\n",
       "      <td>1.781593</td>\n",
       "      <td>9.000000</td>\n",
       "      <td>6.749488</td>\n",
       "      <td>43.592594</td>\n",
       "      <td>39.555557</td>\n",
       "      <td>52.888890</td>\n",
       "      <td>38.333336</td>\n",
       "      <td>-12.111111</td>\n",
       "      <td>27.88889</td>\n",
       "      <td>-15.777778</td>\n",
       "      <td>52.888890</td>\n",
       "      <td>0.266914</td>\n",
       "      <td>-1.998858</td>\n",
       "      <td>6</td>\n",
       "    </tr>\n",
       "    <tr>\n",
       "      <th>4</th>\n",
       "      <td>61.0</td>\n",
       "      <td>197.0</td>\n",
       "      <td>9</td>\n",
       "      <td>0.000000</td>\n",
       "      <td>0.0</td>\n",
       "      <td>1.444444</td>\n",
       "      <td>1.515353</td>\n",
       "      <td>2.611111</td>\n",
       "      <td>1.925463</td>\n",
       "      <td>49.592594</td>\n",
       "      <td>44.222220</td>\n",
       "      <td>61.555557</td>\n",
       "      <td>43.000000</td>\n",
       "      <td>-16.111110</td>\n",
       "      <td>35.88889</td>\n",
       "      <td>-19.777779</td>\n",
       "      <td>61.555557</td>\n",
       "      <td>0.302925</td>\n",
       "      <td>-2.022274</td>\n",
       "      <td>6</td>\n",
       "    </tr>\n",
       "  </tbody>\n",
       "</table>\n",
       "</div>"
      ],
      "text/plain": [
       "   region-centroid-col  region-centroid-row  ...  hue-mean  target\n",
       "0                218.0                178.0  ... -2.040554       6\n",
       "1                113.0                130.0  ... -2.123254       3\n",
       "2                202.0                 41.0  ... -2.299918       2\n",
       "3                 32.0                173.0  ... -1.998858       6\n",
       "4                 61.0                197.0  ... -2.022274       6\n",
       "\n",
       "[5 rows x 20 columns]"
      ]
     },
     "execution_count": 3,
     "metadata": {
      "tags": []
     },
     "output_type": "execute_result"
    }
   ],
   "source": [
    "dataset.head()"
   ]
  },
  {
   "cell_type": "markdown",
   "metadata": {
    "id": "q7w3KipGP8PS"
   },
   "source": [
    "# 2. Split the data into training, validation and testing"
   ]
  },
  {
   "cell_type": "code",
   "execution_count": null,
   "metadata": {
    "id": "y8QMPA7umk_T"
   },
   "outputs": [],
   "source": [
    "dataset[\"target\"]=dataset[\"target\"]-1"
   ]
  },
  {
   "cell_type": "code",
   "execution_count": null,
   "metadata": {
    "id": "MnRN8LIyQKlW"
   },
   "outputs": [],
   "source": [
    "X = dataset.drop(columns=['target']).values\n",
    "Y = dataset['target'].values"
   ]
  },
  {
   "cell_type": "markdown",
   "metadata": {
    "id": "z5ZULv-tT4Nh"
   },
   "source": [
    "### Checking the shape"
   ]
  },
  {
   "cell_type": "code",
   "execution_count": null,
   "metadata": {
    "colab": {
     "base_uri": "https://localhost:8080/",
     "height": 35
    },
    "id": "Sr4S9I89QK3A",
    "outputId": "af3ef091-8a05-498c-8add-7ef782638d85"
   },
   "outputs": [
    {
     "data": {
      "text/plain": [
       "(2310, 19)"
      ]
     },
     "execution_count": 7,
     "metadata": {
      "tags": []
     },
     "output_type": "execute_result"
    }
   ],
   "source": [
    "X.shape"
   ]
  },
  {
   "cell_type": "code",
   "execution_count": null,
   "metadata": {
    "colab": {
     "base_uri": "https://localhost:8080/",
     "height": 35
    },
    "id": "j-eIBgi_QLCO",
    "outputId": "4589a291-2574-4baa-feb3-7f8221a59694"
   },
   "outputs": [
    {
     "data": {
      "text/plain": [
       "(2310,)"
      ]
     },
     "execution_count": 8,
     "metadata": {
      "tags": []
     },
     "output_type": "execute_result"
    }
   ],
   "source": [
    "Y.shape"
   ]
  },
  {
   "cell_type": "markdown",
   "metadata": {
    "id": "dXYukW4mUSyp"
   },
   "source": [
    "### Splitting the data"
   ]
  },
  {
   "cell_type": "code",
   "execution_count": null,
   "metadata": {
    "id": "CWn7u5DUQLFO"
   },
   "outputs": [],
   "source": [
    "X_train, X_test, Y_train, Y_test = train_test_split(X, Y, test_size=.3)\n",
    "X_train, X_val, Y_train, Y_val = train_test_split(X_train, Y_train, test_size=.3)"
   ]
  },
  {
   "cell_type": "markdown",
   "metadata": {
    "id": "qVGW8qqAVWuR"
   },
   "source": [
    "### Checking the splitting shape"
   ]
  },
  {
   "cell_type": "code",
   "execution_count": null,
   "metadata": {
    "colab": {
     "base_uri": "https://localhost:8080/",
     "height": 54
    },
    "id": "cn-tCsKvVUYW",
    "outputId": "16f08592-1ac9-436d-bad7-b01896adee4e"
   },
   "outputs": [
    {
     "name": "stdout",
     "output_type": "stream",
     "text": [
      "(1131, 19)\n",
      "(1131,)\n"
     ]
    }
   ],
   "source": [
    "print (X_train.shape)\n",
    "print (Y_train.shape)"
   ]
  },
  {
   "cell_type": "code",
   "execution_count": null,
   "metadata": {
    "colab": {
     "base_uri": "https://localhost:8080/",
     "height": 54
    },
    "id": "8t4zfENrVvYv",
    "outputId": "a31706f1-6ae7-4158-b867-6952a8a8e713"
   },
   "outputs": [
    {
     "name": "stdout",
     "output_type": "stream",
     "text": [
      "(693, 19)\n",
      "(693,)\n"
     ]
    }
   ],
   "source": [
    "print(X_test.shape)\n",
    "print (Y_test.shape)"
   ]
  },
  {
   "cell_type": "code",
   "execution_count": null,
   "metadata": {
    "colab": {
     "base_uri": "https://localhost:8080/",
     "height": 54
    },
    "id": "C0dSsy6hVvVL",
    "outputId": "91cdda6a-34dd-4504-fdaf-2d24957d154c"
   },
   "outputs": [
    {
     "name": "stdout",
     "output_type": "stream",
     "text": [
      "(486, 19)\n",
      "(486,)\n"
     ]
    }
   ],
   "source": [
    "print(X_val.shape)\n",
    "print (Y_val.shape)"
   ]
  },
  {
   "cell_type": "markdown",
   "metadata": {
    "id": "2t1gZbgdY6L4"
   },
   "source": [
    "### Find the unique numbers from the train labels\n"
   ]
  },
  {
   "cell_type": "code",
   "execution_count": null,
   "metadata": {
    "colab": {
     "base_uri": "https://localhost:8080/",
     "height": 54
    },
    "id": "LJYFQXaJVvSU",
    "outputId": "57ed96e5-38fe-4583-db25-fe645051d9c2"
   },
   "outputs": [
    {
     "name": "stdout",
     "output_type": "stream",
     "text": [
      "Total number of outputs :  7\n",
      "Output classes :  [0 1 2 3 4 5 6]\n"
     ]
    }
   ],
   "source": [
    "classes = np.unique(Y_train)\n",
    "nClasses = len(classes)\n",
    "print('Total number of outputs : ', nClasses)\n",
    "print('Output classes : ', classes)"
   ]
  },
  {
   "cell_type": "markdown",
   "metadata": {
    "id": "ma3FYA78fAAh"
   },
   "source": [
    "### Convert from categorical labels to one-hot encoded vectors\n"
   ]
  },
  {
   "cell_type": "code",
   "execution_count": null,
   "metadata": {
    "id": "hDVxH3D4VvKO"
   },
   "outputs": [],
   "source": [
    "Y_train = np_utils.to_categorical(Y_train,7)\n",
    "\n",
    "Y_val = np_utils.to_categorical(Y_val, 7)\n",
    "Y_test = np_utils.to_categorical(Y_test, 7)"
   ]
  },
  {
   "cell_type": "code",
   "execution_count": null,
   "metadata": {
    "colab": {
     "base_uri": "https://localhost:8080/",
     "height": 35
    },
    "id": "JxuADhJMRAB4",
    "outputId": "a5d2e848-77dc-44f6-c508-486395a4e1e2"
   },
   "outputs": [
    {
     "data": {
      "text/plain": [
       "array([0., 0., 1., 0., 0., 0., 0.], dtype=float32)"
      ]
     },
     "execution_count": 15,
     "metadata": {
      "tags": []
     },
     "output_type": "execute_result"
    }
   ],
   "source": [
    "Y_train[0]"
   ]
  },
  {
   "cell_type": "markdown",
   "metadata": {
    "id": "WcfaDwRNtApQ"
   },
   "source": []
  },
  {
   "cell_type": "code",
   "execution_count": null,
   "metadata": {
    "colab": {
     "base_uri": "https://localhost:8080/",
     "height": 35
    },
    "id": "VajMENq6ZnRM",
    "outputId": "0df5d863-1b0a-43a2-c2e9-3742aa36d071"
   },
   "outputs": [
    {
     "data": {
      "text/plain": [
       "array([0., 0., 1., 0., 0., 0., 0.], dtype=float32)"
      ]
     },
     "execution_count": 16,
     "metadata": {
      "tags": []
     },
     "output_type": "execute_result"
    }
   ],
   "source": [
    "Y_train[0]"
   ]
  },
  {
   "cell_type": "markdown",
   "metadata": {
    "id": "3U4u1qiLPlnN"
   },
   "source": []
  },
  {
   "cell_type": "code",
   "execution_count": null,
   "metadata": {
    "colab": {
     "base_uri": "https://localhost:8080/",
     "height": 35
    },
    "id": "BJmPfQJDZnWs",
    "outputId": "50178037-bb60-4eff-9da6-0d06220418d3"
   },
   "outputs": [
    {
     "data": {
      "text/plain": [
       "array([0., 0., 0., 1., 0., 0., 0.], dtype=float32)"
      ]
     },
     "execution_count": 17,
     "metadata": {
      "tags": []
     },
     "output_type": "execute_result"
    }
   ],
   "source": [
    "Y_val[0]"
   ]
  },
  {
   "cell_type": "code",
   "execution_count": null,
   "metadata": {
    "colab": {
     "base_uri": "https://localhost:8080/",
     "height": 35
    },
    "id": "g4ifo7OUZnai",
    "outputId": "84ec690c-6d0b-4ef2-86c2-e67040864c83"
   },
   "outputs": [
    {
     "data": {
      "text/plain": [
       "array([0., 0., 1., 0., 0., 0., 0.], dtype=float32)"
      ]
     },
     "execution_count": 18,
     "metadata": {
      "tags": []
     },
     "output_type": "execute_result"
    }
   ],
   "source": [
    "Y_test[0]"
   ]
  },
  {
   "cell_type": "markdown",
   "metadata": {
    "id": "6qVa13dLtRvl"
   },
   "source": [
    "# 4. Creation of NN model\n"
   ]
  },
  {
   "cell_type": "markdown",
   "metadata": {
    "id": "TWGUBI2RfoMN"
   },
   "source": [
    "### Network1"
   ]
  },
  {
   "cell_type": "code",
   "execution_count": null,
   "metadata": {
    "id": "pospSRpIZmqw"
   },
   "outputs": [],
   "source": [
    "def network1():\n",
    "  \n",
    "    model = Sequential()\n",
    "    model.add(Dense(21, input_dim=19, activation='relu'))\n",
    "    model.add(Dense(7, activation='softmax'))\n",
    "    \n",
    "    # Compile model\n",
    "    model.compile(loss='categorical_crossentropy', \n",
    "                  optimizer='adam', \n",
    "                  metrics=['accuracy'])\n",
    "    \n",
    "    return model"
   ]
  },
  {
   "cell_type": "markdown",
   "metadata": {
    "id": "zRBfFeGygGb8"
   },
   "source": [
    "**network1**: simple network with one layer, 19 inputs(19 features) and 21 filters between the inputs and the 7 outputs. the activation fuctions used is \"**relu**\" for the filters and \"softmax\" for the output.\n",
    "\n",
    "  Validation performance on the training was :accuracy around 65% and 75%, the confusion *matrix*"
   ]
  },
  {
   "cell_type": "markdown",
   "metadata": {
    "id": "dWzaGw18fsEU"
   },
   "source": [
    "### Network2"
   ]
  },
  {
   "cell_type": "code",
   "execution_count": null,
   "metadata": {
    "id": "qaX9Gsvdfv-d"
   },
   "outputs": [],
   "source": [
    "def network2():\n",
    "  \n",
    "    model = Sequential()\n",
    "    model.add(Dense(21, input_dim=19, activation='relu'))\n",
    "    model.add(Dense(10, activation='relu'))\n",
    "\n",
    "    model.add(Dense(7, activation='softmax'))\n",
    "    \n",
    "    # Compile model\n",
    "    model.compile(loss='categorical_crossentropy', \n",
    "                  optimizer='adam', \n",
    "                  metrics=['accuracy'])\n",
    "    \n",
    "    return model"
   ]
  },
  {
   "cell_type": "markdown",
   "metadata": {
    "id": "U-3kcwrrgCcO"
   },
   "source": [
    "**network2**: network with 2 layers, 19 inputs(19 features), 21 filters between layer 1 and layer 2 and 10 filters between layer 2 and the 7 outputs. the activation fuctions used are \"relu\" for the both layers and \"softmax\" for the output.\n",
    "\n",
    "  Validation performance on training was :accuracy around 90% and the confusion *matrix* which has shown few prediction errors."
   ]
  },
  {
   "cell_type": "markdown",
   "metadata": {
    "id": "qUhFIexkf0_A"
   },
   "source": [
    "### Network3"
   ]
  },
  {
   "cell_type": "code",
   "execution_count": null,
   "metadata": {
    "id": "F1rk7zaDf3a2"
   },
   "outputs": [],
   "source": [
    "def network3():\n",
    "  \n",
    "    model = Sequential()\n",
    "    model.add(Dense(21, input_dim=19, activation='relu'))\n",
    "    model.add(Dense(10, activation='linear'))\n",
    "    model.add(Dense(15, activation='relu'))\n",
    "    model.add(Dense(7, activation='softmax'))\n",
    "    \n",
    "    # Compile model\n",
    "    model.compile(loss='categorical_crossentropy', \n",
    "                  optimizer='adam', \n",
    "                  metrics=['accuracy'])\n",
    "    \n",
    "    return model"
   ]
  },
  {
   "cell_type": "markdown",
   "metadata": {
    "id": "WO4AawHTfiK3"
   },
   "source": [
    "**network3**: network with 3 layers, 19 inputs(19 features), 21 filters between layer 1 and layer 2, 10 filters between layer 2 and layer 2, 15 filters between layer2 and layer3 and the 7 outputs. the activation fuctions used are respectively \"relu\",\"lnear\",\"relu\" for layers and \"softmax\" for the output.\n",
    "\n",
    "  Validation performance on the training was :accuracy around 80% and the confusion *matrix* which has shown more prediction errors comparative to the previous"
   ]
  },
  {
   "cell_type": "markdown",
   "metadata": {
    "id": "SZdEiQffiY0q"
   },
   "source": [
    "## Choice of model"
   ]
  },
  {
   "cell_type": "markdown",
   "metadata": {
    "id": "zqbIGy2ZicX0"
   },
   "source": [
    "Based on the validation performance on the training and validation data! We decide to use the **network2** on the testing data."
   ]
  },
  {
   "cell_type": "markdown",
   "metadata": {
    "id": "vKfNBl7jgOEY"
   },
   "source": [
    "## Testing data"
   ]
  },
  {
   "cell_type": "code",
   "execution_count": null,
   "metadata": {
    "id": "jJ7aKwQpZmoB"
   },
   "outputs": [],
   "source": [
    "model = network2()"
   ]
  },
  {
   "cell_type": "code",
   "execution_count": null,
   "metadata": {
    "colab": {
     "base_uri": "https://localhost:8080/",
     "height": 272
    },
    "id": "I9-b7pgtZml3",
    "outputId": "b19595e0-ad9c-4ec0-d433-a3b9cb89ac92"
   },
   "outputs": [
    {
     "name": "stdout",
     "output_type": "stream",
     "text": [
      "Model: \"sequential_4\"\n",
      "_________________________________________________________________\n",
      "Layer (type)                 Output Shape              Param #   \n",
      "=================================================================\n",
      "dense_10 (Dense)             (None, 21)                420       \n",
      "_________________________________________________________________\n",
      "dense_11 (Dense)             (None, 10)                220       \n",
      "_________________________________________________________________\n",
      "dense_12 (Dense)             (None, 7)                 77        \n",
      "=================================================================\n",
      "Total params: 717\n",
      "Trainable params: 717\n",
      "Non-trainable params: 0\n",
      "_________________________________________________________________\n"
     ]
    }
   ],
   "source": [
    "model.summary()"
   ]
  },
  {
   "cell_type": "code",
   "execution_count": null,
   "metadata": {
    "colab": {
     "base_uri": "https://localhost:8080/",
     "height": 1000
    },
    "id": "lKKAY2_8Zmjn",
    "outputId": "1991f3d6-4db1-4371-b8c1-1dfa021a573c"
   },
   "outputs": [
    {
     "name": "stdout",
     "output_type": "stream",
     "text": [
      "Train on 1131 samples, validate on 486 samples\n",
      "Epoch 1/100\n",
      "1131/1131 [==============================] - 1s 628us/step - loss: 8.0593 - acc: 0.1813 - val_loss: 5.2039 - val_acc: 0.3333\n",
      "Epoch 2/100\n",
      "1131/1131 [==============================] - 0s 69us/step - loss: 4.9404 - acc: 0.3457 - val_loss: 3.9157 - val_acc: 0.4506\n",
      "Epoch 3/100\n",
      "1131/1131 [==============================] - 0s 51us/step - loss: 3.5387 - acc: 0.4598 - val_loss: 2.4733 - val_acc: 0.4753\n",
      "Epoch 4/100\n",
      "1131/1131 [==============================] - 0s 47us/step - loss: 1.9625 - acc: 0.4598 - val_loss: 1.6282 - val_acc: 0.4609\n",
      "Epoch 5/100\n",
      "1131/1131 [==============================] - 0s 52us/step - loss: 1.4538 - acc: 0.5544 - val_loss: 1.1535 - val_acc: 0.6049\n",
      "Epoch 6/100\n",
      "1131/1131 [==============================] - 0s 58us/step - loss: 1.1729 - acc: 0.6083 - val_loss: 1.0271 - val_acc: 0.6317\n",
      "Epoch 7/100\n",
      "1131/1131 [==============================] - 0s 55us/step - loss: 1.0303 - acc: 0.6428 - val_loss: 0.9265 - val_acc: 0.6605\n",
      "Epoch 8/100\n",
      "1131/1131 [==============================] - 0s 55us/step - loss: 0.9170 - acc: 0.6649 - val_loss: 0.8603 - val_acc: 0.6708\n",
      "Epoch 9/100\n",
      "1131/1131 [==============================] - 0s 62us/step - loss: 0.8248 - acc: 0.6870 - val_loss: 0.7996 - val_acc: 0.7037\n",
      "Epoch 10/100\n",
      "1131/1131 [==============================] - 0s 50us/step - loss: 0.7645 - acc: 0.7109 - val_loss: 0.7605 - val_acc: 0.7078\n",
      "Epoch 11/100\n",
      "1131/1131 [==============================] - 0s 58us/step - loss: 0.7269 - acc: 0.7233 - val_loss: 0.7483 - val_acc: 0.7058\n",
      "Epoch 12/100\n",
      "1131/1131 [==============================] - 0s 48us/step - loss: 0.6738 - acc: 0.7365 - val_loss: 0.7075 - val_acc: 0.7119\n",
      "Epoch 13/100\n",
      "1131/1131 [==============================] - 0s 55us/step - loss: 0.6705 - acc: 0.7401 - val_loss: 0.6812 - val_acc: 0.7263\n",
      "Epoch 14/100\n",
      "1131/1131 [==============================] - 0s 60us/step - loss: 0.6338 - acc: 0.7401 - val_loss: 0.6827 - val_acc: 0.7593\n",
      "Epoch 15/100\n",
      "1131/1131 [==============================] - 0s 56us/step - loss: 0.6085 - acc: 0.7515 - val_loss: 0.6582 - val_acc: 0.7243\n",
      "Epoch 16/100\n",
      "1131/1131 [==============================] - 0s 49us/step - loss: 0.5671 - acc: 0.7807 - val_loss: 0.6791 - val_acc: 0.7037\n",
      "Epoch 17/100\n",
      "1131/1131 [==============================] - 0s 52us/step - loss: 0.5674 - acc: 0.7737 - val_loss: 0.5952 - val_acc: 0.7778\n",
      "Epoch 18/100\n",
      "1131/1131 [==============================] - 0s 52us/step - loss: 0.5347 - acc: 0.7949 - val_loss: 0.5848 - val_acc: 0.7963\n",
      "Epoch 19/100\n",
      "1131/1131 [==============================] - 0s 51us/step - loss: 0.5153 - acc: 0.8126 - val_loss: 0.5609 - val_acc: 0.7798\n",
      "Epoch 20/100\n",
      "1131/1131 [==============================] - 0s 55us/step - loss: 0.5042 - acc: 0.8081 - val_loss: 0.5370 - val_acc: 0.8045\n",
      "Epoch 21/100\n",
      "1131/1131 [==============================] - 0s 50us/step - loss: 0.4988 - acc: 0.8285 - val_loss: 0.5541 - val_acc: 0.7860\n",
      "Epoch 22/100\n",
      "1131/1131 [==============================] - 0s 52us/step - loss: 0.4916 - acc: 0.8170 - val_loss: 0.5352 - val_acc: 0.8313\n",
      "Epoch 23/100\n",
      "1131/1131 [==============================] - 0s 54us/step - loss: 0.4932 - acc: 0.8267 - val_loss: 0.5634 - val_acc: 0.7901\n",
      "Epoch 24/100\n",
      "1131/1131 [==============================] - 0s 52us/step - loss: 0.4789 - acc: 0.8302 - val_loss: 0.5278 - val_acc: 0.8189\n",
      "Epoch 25/100\n",
      "1131/1131 [==============================] - 0s 54us/step - loss: 0.4293 - acc: 0.8488 - val_loss: 0.4748 - val_acc: 0.8313\n",
      "Epoch 26/100\n",
      "1131/1131 [==============================] - 0s 51us/step - loss: 0.4308 - acc: 0.8453 - val_loss: 0.4761 - val_acc: 0.8272\n",
      "Epoch 27/100\n",
      "1131/1131 [==============================] - 0s 52us/step - loss: 0.4261 - acc: 0.8585 - val_loss: 0.4663 - val_acc: 0.8313\n",
      "Epoch 28/100\n",
      "1131/1131 [==============================] - 0s 52us/step - loss: 0.4022 - acc: 0.8594 - val_loss: 0.4356 - val_acc: 0.8704\n",
      "Epoch 29/100\n",
      "1131/1131 [==============================] - 0s 56us/step - loss: 0.4183 - acc: 0.8541 - val_loss: 0.4528 - val_acc: 0.8560\n",
      "Epoch 30/100\n",
      "1131/1131 [==============================] - 0s 53us/step - loss: 0.3996 - acc: 0.8736 - val_loss: 0.4420 - val_acc: 0.8374\n",
      "Epoch 31/100\n",
      "1131/1131 [==============================] - 0s 70us/step - loss: 0.4000 - acc: 0.8444 - val_loss: 0.4848 - val_acc: 0.8313\n",
      "Epoch 32/100\n",
      "1131/1131 [==============================] - 0s 58us/step - loss: 0.3818 - acc: 0.8656 - val_loss: 0.4070 - val_acc: 0.8642\n",
      "Epoch 33/100\n",
      "1131/1131 [==============================] - 0s 56us/step - loss: 0.3613 - acc: 0.8700 - val_loss: 0.4204 - val_acc: 0.8560\n",
      "Epoch 34/100\n",
      "1131/1131 [==============================] - 0s 49us/step - loss: 0.3522 - acc: 0.8762 - val_loss: 0.4181 - val_acc: 0.8539\n",
      "Epoch 35/100\n",
      "1131/1131 [==============================] - 0s 78us/step - loss: 0.3553 - acc: 0.8638 - val_loss: 0.3971 - val_acc: 0.8601\n",
      "Epoch 36/100\n",
      "1131/1131 [==============================] - 0s 49us/step - loss: 0.3489 - acc: 0.8762 - val_loss: 0.4143 - val_acc: 0.8601\n",
      "Epoch 37/100\n",
      "1131/1131 [==============================] - 0s 52us/step - loss: 0.3372 - acc: 0.8674 - val_loss: 0.4091 - val_acc: 0.8560\n",
      "Epoch 38/100\n",
      "1131/1131 [==============================] - 0s 48us/step - loss: 0.3292 - acc: 0.8700 - val_loss: 0.3657 - val_acc: 0.8683\n",
      "Epoch 39/100\n",
      "1131/1131 [==============================] - 0s 54us/step - loss: 0.3116 - acc: 0.8789 - val_loss: 0.4272 - val_acc: 0.8457\n",
      "Epoch 40/100\n",
      "1131/1131 [==============================] - 0s 50us/step - loss: 0.3210 - acc: 0.8718 - val_loss: 0.3956 - val_acc: 0.8642\n",
      "Epoch 41/100\n",
      "1131/1131 [==============================] - 0s 53us/step - loss: 0.2963 - acc: 0.8868 - val_loss: 0.3464 - val_acc: 0.8930\n",
      "Epoch 42/100\n",
      "1131/1131 [==============================] - 0s 55us/step - loss: 0.2950 - acc: 0.8842 - val_loss: 0.3372 - val_acc: 0.8909\n",
      "Epoch 43/100\n",
      "1131/1131 [==============================] - 0s 52us/step - loss: 0.2810 - acc: 0.8921 - val_loss: 0.3376 - val_acc: 0.8745\n",
      "Epoch 44/100\n",
      "1131/1131 [==============================] - 0s 51us/step - loss: 0.2826 - acc: 0.8798 - val_loss: 0.3339 - val_acc: 0.8930\n",
      "Epoch 45/100\n",
      "1131/1131 [==============================] - 0s 51us/step - loss: 0.2704 - acc: 0.8983 - val_loss: 0.3629 - val_acc: 0.8580\n",
      "Epoch 46/100\n",
      "1131/1131 [==============================] - 0s 54us/step - loss: 0.2696 - acc: 0.8992 - val_loss: 0.3481 - val_acc: 0.8642\n",
      "Epoch 47/100\n",
      "1131/1131 [==============================] - 0s 53us/step - loss: 0.2762 - acc: 0.8930 - val_loss: 0.3204 - val_acc: 0.8704\n",
      "Epoch 48/100\n",
      "1131/1131 [==============================] - 0s 53us/step - loss: 0.2632 - acc: 0.9001 - val_loss: 0.3174 - val_acc: 0.8765\n",
      "Epoch 49/100\n",
      "1131/1131 [==============================] - 0s 51us/step - loss: 0.2581 - acc: 0.8983 - val_loss: 0.3549 - val_acc: 0.8601\n",
      "Epoch 50/100\n",
      "1131/1131 [==============================] - 0s 53us/step - loss: 0.2637 - acc: 0.8921 - val_loss: 0.3057 - val_acc: 0.8909\n",
      "Epoch 51/100\n",
      "1131/1131 [==============================] - 0s 53us/step - loss: 0.2580 - acc: 0.8966 - val_loss: 0.3132 - val_acc: 0.8704\n",
      "Epoch 52/100\n",
      "1131/1131 [==============================] - 0s 51us/step - loss: 0.2534 - acc: 0.9036 - val_loss: 0.3231 - val_acc: 0.8786\n",
      "Epoch 53/100\n",
      "1131/1131 [==============================] - 0s 53us/step - loss: 0.2453 - acc: 0.9027 - val_loss: 0.3212 - val_acc: 0.8724\n",
      "Epoch 54/100\n",
      "1131/1131 [==============================] - 0s 49us/step - loss: 0.2443 - acc: 0.8992 - val_loss: 0.2967 - val_acc: 0.8848\n",
      "Epoch 55/100\n",
      "1131/1131 [==============================] - 0s 53us/step - loss: 0.2446 - acc: 0.9027 - val_loss: 0.3021 - val_acc: 0.8868\n",
      "Epoch 56/100\n",
      "1131/1131 [==============================] - 0s 55us/step - loss: 0.2326 - acc: 0.9107 - val_loss: 0.2832 - val_acc: 0.8930\n",
      "Epoch 57/100\n",
      "1131/1131 [==============================] - 0s 52us/step - loss: 0.2219 - acc: 0.9125 - val_loss: 0.2803 - val_acc: 0.9136\n",
      "Epoch 58/100\n",
      "1131/1131 [==============================] - 0s 54us/step - loss: 0.2205 - acc: 0.9019 - val_loss: 0.2912 - val_acc: 0.8807\n",
      "Epoch 59/100\n",
      "1131/1131 [==============================] - 0s 52us/step - loss: 0.2167 - acc: 0.9098 - val_loss: 0.2691 - val_acc: 0.8992\n",
      "Epoch 60/100\n",
      "1131/1131 [==============================] - 0s 50us/step - loss: 0.2128 - acc: 0.9187 - val_loss: 0.2649 - val_acc: 0.8971\n",
      "Epoch 61/100\n",
      "1131/1131 [==============================] - 0s 54us/step - loss: 0.2189 - acc: 0.9072 - val_loss: 0.2701 - val_acc: 0.9033\n",
      "Epoch 62/100\n",
      "1131/1131 [==============================] - 0s 51us/step - loss: 0.2185 - acc: 0.9080 - val_loss: 0.2604 - val_acc: 0.9074\n",
      "Epoch 63/100\n",
      "1131/1131 [==============================] - 0s 52us/step - loss: 0.2175 - acc: 0.9089 - val_loss: 0.2555 - val_acc: 0.9074\n",
      "Epoch 64/100\n",
      "1131/1131 [==============================] - 0s 49us/step - loss: 0.2004 - acc: 0.9151 - val_loss: 0.2568 - val_acc: 0.9012\n",
      "Epoch 65/100\n",
      "1131/1131 [==============================] - 0s 50us/step - loss: 0.2037 - acc: 0.9160 - val_loss: 0.2735 - val_acc: 0.8971\n",
      "Epoch 66/100\n",
      "1131/1131 [==============================] - 0s 52us/step - loss: 0.2016 - acc: 0.9204 - val_loss: 0.2462 - val_acc: 0.9033\n",
      "Epoch 67/100\n",
      "1131/1131 [==============================] - 0s 51us/step - loss: 0.1935 - acc: 0.9160 - val_loss: 0.2527 - val_acc: 0.9239\n",
      "Epoch 68/100\n",
      "1131/1131 [==============================] - 0s 51us/step - loss: 0.2022 - acc: 0.9204 - val_loss: 0.2617 - val_acc: 0.9115\n",
      "Epoch 69/100\n",
      "1131/1131 [==============================] - 0s 53us/step - loss: 0.1974 - acc: 0.9160 - val_loss: 0.2519 - val_acc: 0.9136\n",
      "Epoch 70/100\n",
      "1131/1131 [==============================] - 0s 52us/step - loss: 0.1956 - acc: 0.9142 - val_loss: 0.2374 - val_acc: 0.9095\n",
      "Epoch 71/100\n",
      "1131/1131 [==============================] - 0s 55us/step - loss: 0.1842 - acc: 0.9195 - val_loss: 0.2528 - val_acc: 0.9033\n",
      "Epoch 72/100\n",
      "1131/1131 [==============================] - 0s 52us/step - loss: 0.1876 - acc: 0.9213 - val_loss: 0.2407 - val_acc: 0.9033\n",
      "Epoch 73/100\n",
      "1131/1131 [==============================] - 0s 50us/step - loss: 0.1878 - acc: 0.9302 - val_loss: 0.2440 - val_acc: 0.9115\n",
      "Epoch 74/100\n",
      "1131/1131 [==============================] - 0s 54us/step - loss: 0.1847 - acc: 0.9213 - val_loss: 0.2490 - val_acc: 0.9053\n",
      "Epoch 75/100\n",
      "1131/1131 [==============================] - 0s 52us/step - loss: 0.1959 - acc: 0.9151 - val_loss: 0.2343 - val_acc: 0.9136\n",
      "Epoch 76/100\n",
      "1131/1131 [==============================] - 0s 52us/step - loss: 0.1706 - acc: 0.9284 - val_loss: 0.2292 - val_acc: 0.9198\n",
      "Epoch 77/100\n",
      "1131/1131 [==============================] - 0s 49us/step - loss: 0.1784 - acc: 0.9187 - val_loss: 0.2293 - val_acc: 0.9095\n",
      "Epoch 78/100\n",
      "1131/1131 [==============================] - 0s 54us/step - loss: 0.1822 - acc: 0.9187 - val_loss: 0.2355 - val_acc: 0.9074\n",
      "Epoch 79/100\n",
      "1131/1131 [==============================] - 0s 52us/step - loss: 0.1669 - acc: 0.9302 - val_loss: 0.2604 - val_acc: 0.9033\n",
      "Epoch 80/100\n",
      "1131/1131 [==============================] - 0s 49us/step - loss: 0.1701 - acc: 0.9302 - val_loss: 0.2480 - val_acc: 0.9095\n",
      "Epoch 81/100\n",
      "1131/1131 [==============================] - 0s 50us/step - loss: 0.1746 - acc: 0.9310 - val_loss: 0.2365 - val_acc: 0.9095\n",
      "Epoch 82/100\n",
      "1131/1131 [==============================] - 0s 50us/step - loss: 0.1696 - acc: 0.9222 - val_loss: 0.2297 - val_acc: 0.9095\n",
      "Epoch 83/100\n",
      "1131/1131 [==============================] - 0s 50us/step - loss: 0.1784 - acc: 0.9195 - val_loss: 0.2237 - val_acc: 0.9218\n",
      "Epoch 84/100\n",
      "1131/1131 [==============================] - 0s 52us/step - loss: 0.1675 - acc: 0.9319 - val_loss: 0.2132 - val_acc: 0.9177\n",
      "Epoch 85/100\n",
      "1131/1131 [==============================] - 0s 49us/step - loss: 0.1635 - acc: 0.9355 - val_loss: 0.2152 - val_acc: 0.9218\n",
      "Epoch 86/100\n",
      "1131/1131 [==============================] - 0s 49us/step - loss: 0.1593 - acc: 0.9310 - val_loss: 0.2220 - val_acc: 0.9033\n",
      "Epoch 87/100\n",
      "1131/1131 [==============================] - 0s 52us/step - loss: 0.1605 - acc: 0.9310 - val_loss: 0.2318 - val_acc: 0.9198\n",
      "Epoch 88/100\n",
      "1131/1131 [==============================] - 0s 53us/step - loss: 0.1589 - acc: 0.9443 - val_loss: 0.2036 - val_acc: 0.9239\n",
      "Epoch 89/100\n",
      "1131/1131 [==============================] - 0s 51us/step - loss: 0.1518 - acc: 0.9355 - val_loss: 0.1977 - val_acc: 0.9280\n",
      "Epoch 90/100\n",
      "1131/1131 [==============================] - 0s 50us/step - loss: 0.1478 - acc: 0.9399 - val_loss: 0.1965 - val_acc: 0.9259\n",
      "Epoch 91/100\n",
      "1131/1131 [==============================] - 0s 55us/step - loss: 0.1617 - acc: 0.9319 - val_loss: 0.1941 - val_acc: 0.9321\n",
      "Epoch 92/100\n",
      "1131/1131 [==============================] - 0s 54us/step - loss: 0.1477 - acc: 0.9425 - val_loss: 0.2133 - val_acc: 0.9115\n",
      "Epoch 93/100\n",
      "1131/1131 [==============================] - 0s 53us/step - loss: 0.1480 - acc: 0.9408 - val_loss: 0.2037 - val_acc: 0.9218\n",
      "Epoch 94/100\n",
      "1131/1131 [==============================] - 0s 50us/step - loss: 0.1417 - acc: 0.9452 - val_loss: 0.1770 - val_acc: 0.9342\n",
      "Epoch 95/100\n",
      "1131/1131 [==============================] - 0s 52us/step - loss: 0.1406 - acc: 0.9461 - val_loss: 0.1819 - val_acc: 0.9259\n",
      "Epoch 96/100\n",
      "1131/1131 [==============================] - 0s 53us/step - loss: 0.1410 - acc: 0.9443 - val_loss: 0.1766 - val_acc: 0.9300\n",
      "Epoch 97/100\n",
      "1131/1131 [==============================] - 0s 53us/step - loss: 0.1452 - acc: 0.9514 - val_loss: 0.2192 - val_acc: 0.9218\n",
      "Epoch 98/100\n",
      "1131/1131 [==============================] - 0s 56us/step - loss: 0.1688 - acc: 0.9248 - val_loss: 0.1945 - val_acc: 0.9218\n",
      "Epoch 99/100\n",
      "1131/1131 [==============================] - 0s 53us/step - loss: 0.1386 - acc: 0.9434 - val_loss: 0.1795 - val_acc: 0.9259\n",
      "Epoch 100/100\n",
      "1131/1131 [==============================] - 0s 51us/step - loss: 0.1302 - acc: 0.9549 - val_loss: 0.1661 - val_acc: 0.9362\n"
     ]
    }
   ],
   "source": [
    "history = model.fit(X_train, Y_train, validation_data=(X_val, Y_val) ,epochs = 100)"
   ]
  },
  {
   "cell_type": "code",
   "execution_count": null,
   "metadata": {
    "id": "sM9XFoqtvMZf"
   },
   "outputs": [],
   "source": [
    "prediction = model.predict(X_test)"
   ]
  },
  {
   "cell_type": "code",
   "execution_count": null,
   "metadata": {
    "colab": {
     "base_uri": "https://localhost:8080/",
     "height": 254
    },
    "id": "yvLhUQtsvMjb",
    "outputId": "d440afd3-3ca9-4708-f47e-4bcf812c15a5"
   },
   "outputs": [
    {
     "data": {
      "text/plain": [
       "array([[1.0061443e-03, 2.0192775e-11, 4.8491216e-01, ..., 1.7399164e-01,\n",
       "        5.2535376e-10, 9.3826662e-09],\n",
       "       [9.5882267e-01, 1.0237470e-09, 3.7208906e-06, ..., 3.1379573e-02,\n",
       "        1.8549887e-03, 2.5342119e-05],\n",
       "       [6.6144744e-06, 3.3840422e-09, 1.0450917e-06, ..., 1.3307115e-03,\n",
       "        9.8743314e-01, 1.5231285e-03],\n",
       "       ...,\n",
       "       [9.9985933e-01, 2.2983121e-11, 5.7288157e-11, ..., 1.5520289e-06,\n",
       "        3.4878917e-06, 2.4739056e-12],\n",
       "       [2.9282823e-05, 8.9202874e-04, 1.9462923e-10, ..., 1.2551819e-05,\n",
       "        8.0066047e-07, 3.0035185e-15],\n",
       "       [1.2237915e-20, 9.9430048e-01, 1.4552989e-17, ..., 9.1762216e-05,\n",
       "        2.4053730e-19, 1.3028259e-24]], dtype=float32)"
      ]
     },
     "execution_count": 98,
     "metadata": {
      "tags": []
     },
     "output_type": "execute_result"
    }
   ],
   "source": [
    "prediction"
   ]
  },
  {
   "cell_type": "code",
   "execution_count": null,
   "metadata": {
    "id": "rrHg8gDwvMnu"
   },
   "outputs": [],
   "source": [
    "prediction_classes = model.predict_classes(X_test)\n",
    "prediction_classes_val = model.predict_classes(X_val)\n"
   ]
  },
  {
   "cell_type": "code",
   "execution_count": null,
   "metadata": {
    "colab": {
     "base_uri": "https://localhost:8080/",
     "height": 599
    },
    "id": "GHkUGMWovMgM",
    "outputId": "6928d11c-454b-44d3-f397-be846ad54e1b"
   },
   "outputs": [
    {
     "data": {
      "text/plain": [
       "array([2, 0, 5, 3, 3, 2, 4, 6, 5, 3, 1, 5, 1, 2, 5, 3, 4, 5, 5, 6, 5, 1,\n",
       "       1, 5, 3, 0, 3, 5, 4, 6, 5, 3, 0, 2, 2, 6, 4, 6, 5, 0, 0, 5, 5, 3,\n",
       "       3, 0, 6, 0, 2, 3, 5, 1, 5, 3, 2, 0, 0, 1, 1, 0, 0, 1, 0, 4, 2, 1,\n",
       "       4, 1, 4, 1, 1, 3, 2, 2, 1, 4, 5, 5, 4, 3, 3, 6, 1, 2, 1, 3, 2, 3,\n",
       "       1, 0, 0, 2, 6, 2, 3, 0, 3, 5, 1, 3, 1, 5, 1, 5, 4, 2, 2, 0, 3, 3,\n",
       "       4, 6, 5, 6, 1, 1, 5, 5, 4, 6, 2, 5, 2, 1, 5, 5, 5, 0, 2, 2, 4, 3,\n",
       "       2, 5, 2, 4, 5, 5, 0, 0, 4, 1, 5, 1, 0, 1, 4, 3, 2, 6, 0, 0, 6, 3,\n",
       "       1, 1, 3, 3, 2, 2, 1, 5, 3, 0, 4, 5, 5, 0, 5, 0, 6, 1, 4, 4, 0, 6,\n",
       "       0, 0, 5, 1, 4, 3, 3, 5, 5, 4, 5, 4, 3, 1, 5, 3, 0, 5, 6, 0, 4, 5,\n",
       "       2, 6, 2, 4, 3, 3, 2, 2, 5, 2, 0, 6, 3, 1, 1, 2, 5, 2, 5, 1, 6, 4,\n",
       "       5, 6, 0, 3, 5, 3, 2, 1, 4, 2, 6, 4, 1, 1, 4, 1, 2, 1, 2, 0, 3, 3,\n",
       "       0, 6, 5, 2, 0, 5, 0, 2, 4, 3, 2, 3, 6, 3, 1, 1, 3, 0, 3, 2, 5, 2,\n",
       "       1, 3, 6, 5, 0, 2, 5, 2, 3, 1, 1, 2, 2, 3, 3, 3, 3, 6, 1, 5, 0, 6,\n",
       "       5, 6, 1, 1, 1, 3, 3, 0, 3, 6, 3, 3, 1, 2, 1, 5, 5, 2, 0, 4, 6, 2,\n",
       "       0, 3, 3, 2, 0, 2, 5, 0, 2, 4, 5, 4, 1, 4, 2, 3, 0, 6, 1, 2, 6, 3,\n",
       "       3, 4, 5, 3, 0, 6, 5, 2, 2, 2, 0, 6, 2, 6, 6, 0, 5, 4, 5, 4, 4, 2,\n",
       "       0, 6, 3, 2, 0, 0, 4, 5, 0, 6, 6, 4, 3, 2, 5, 6, 2, 5, 3, 4, 6, 4,\n",
       "       2, 2, 6, 2, 3, 1, 5, 4, 5, 6, 3, 1, 6, 0, 6, 3, 3, 2, 3, 1, 6, 3,\n",
       "       1, 2, 3, 6, 2, 3, 3, 6, 2, 6, 4, 5, 5, 4, 0, 1, 1, 4, 0, 4, 1, 5,\n",
       "       0, 3, 3, 3, 3, 3, 4, 3, 0, 3, 2, 6, 4, 6, 1, 4, 6, 6, 4, 6, 2, 6,\n",
       "       3, 4, 6, 1, 0, 1, 2, 5, 6, 1, 0, 4, 3, 4, 5, 0, 1, 6, 6, 6, 0, 5,\n",
       "       6, 1, 1, 6, 2, 1, 5, 1, 3, 0, 5, 4, 2, 0, 6, 3, 4, 1, 2, 6, 6, 6,\n",
       "       5, 5, 1, 5, 1, 0, 6, 0, 6, 5, 2, 3, 0, 5, 0, 0, 1, 0, 0, 5, 0, 0,\n",
       "       1, 3, 0, 4, 1, 2, 2, 6, 1, 1, 3, 5, 3, 0, 0, 6, 4, 2, 2, 3, 4, 5,\n",
       "       4, 2, 0, 6, 2, 0, 1, 1, 6, 1, 0, 1, 2, 2, 1, 1, 0, 4, 4, 2, 2, 1,\n",
       "       0, 4, 6, 4, 5, 4, 0, 3, 4, 2, 3, 0, 1, 2, 3, 3, 6, 6, 3, 6, 3, 6,\n",
       "       1, 0, 6, 5, 2, 1, 5, 3, 3, 5, 2, 5, 6, 3, 0, 3, 2, 1, 6, 4, 5, 5,\n",
       "       4, 3, 6, 1, 0, 4, 3, 6, 0, 3, 0, 3, 6, 2, 3, 0, 2, 5, 2, 5, 2, 0,\n",
       "       2, 0, 5, 0, 1, 6, 0, 6, 3, 3, 6, 5, 0, 1, 5, 2, 2, 5, 5, 2, 2, 4,\n",
       "       0, 0, 4, 0, 0, 6, 5, 4, 6, 5, 2, 4, 0, 1, 0, 6, 1, 2, 2, 4, 4, 6,\n",
       "       4, 3, 3, 0, 6, 0, 1, 4, 2, 0, 6, 3, 0, 4, 5, 1, 3, 3, 5, 4, 2, 3,\n",
       "       2, 6, 6, 0, 2, 2, 4, 1, 0, 3, 1])"
      ]
     },
     "execution_count": 100,
     "metadata": {
      "tags": []
     },
     "output_type": "execute_result"
    }
   ],
   "source": [
    "prediction_classes"
   ]
  },
  {
   "cell_type": "code",
   "execution_count": null,
   "metadata": {
    "colab": {
     "base_uri": "https://localhost:8080/",
     "height": 145
    },
    "id": "y7YXBhF0vMeK",
    "outputId": "57239e37-8074-46ff-d65d-fce75bcc638e"
   },
   "outputs": [
    {
     "data": {
      "text/plain": [
       "array([[0., 0., 1., ..., 0., 0., 0.],\n",
       "       [1., 0., 0., ..., 0., 0., 0.],\n",
       "       [0., 0., 0., ..., 0., 1., 0.],\n",
       "       ...,\n",
       "       [1., 0., 0., ..., 0., 0., 0.],\n",
       "       [0., 0., 0., ..., 0., 0., 0.],\n",
       "       [0., 1., 0., ..., 0., 0., 0.]], dtype=float32)"
      ]
     },
     "execution_count": 101,
     "metadata": {
      "tags": []
     },
     "output_type": "execute_result"
    }
   ],
   "source": [
    "Y_test"
   ]
  },
  {
   "cell_type": "markdown",
   "metadata": {
    "id": "U8ttCIdUjNvw"
   },
   "source": [
    "# 5) Plot the confusion matrix and describe two of the errors which were made by the model."
   ]
  },
  {
   "cell_type": "markdown",
   "metadata": {
    "id": "6E9EF3k9jsp9"
   },
   "source": [
    "### Confusion matrix"
   ]
  },
  {
   "cell_type": "code",
   "execution_count": null,
   "metadata": {
    "colab": {
     "base_uri": "https://localhost:8080/",
     "height": 145
    },
    "id": "VOTkHysOvMXW",
    "outputId": "048e3e4c-014a-4a39-927d-d04f912ab718"
   },
   "outputs": [
    {
     "data": {
      "text/plain": [
       "array([[105,   0,   0,   1,   3,   0,   0],\n",
       "       [  0,  96,   0,   0,   0,   0,   0],\n",
       "       [  0,   0,  97,   4,   2,   0,   0],\n",
       "       [  0,   0,   0,  93,   7,   6,   0],\n",
       "       [  0,   0,  10,  13,  67,   0,   0],\n",
       "       [  0,   0,   0,   1,   0,  95,   0],\n",
       "       [  0,   0,   0,   0,   0,   0,  93]])"
      ]
     },
     "execution_count": 102,
     "metadata": {
      "tags": []
     },
     "output_type": "execute_result"
    }
   ],
   "source": [
    "confusion_matrix(np.argmax(Y_test,1), prediction_classes)"
   ]
  },
  {
   "cell_type": "markdown",
   "metadata": {
    "id": "Tt3C_XTljwAy"
   },
   "source": [
    "## Mean square errors"
   ]
  },
  {
   "cell_type": "code",
   "execution_count": null,
   "metadata": {
    "id": "Hjo3tu-FkbzL"
   },
   "outputs": [],
   "source": [
    "val_prediction = model.predict(X_val)"
   ]
  },
  {
   "cell_type": "markdown",
   "metadata": {
    "id": "JasUUsKWk3gn"
   },
   "source": [
    "### For the validation\n"
   ]
  },
  {
   "cell_type": "code",
   "execution_count": null,
   "metadata": {
    "colab": {
     "base_uri": "https://localhost:8080/",
     "height": 35
    },
    "id": "gDuwrNPjj3c0",
    "outputId": "f3029d82-c332-4be2-9fae-ad81752ea173"
   },
   "outputs": [
    {
     "data": {
      "text/plain": [
       "0.013435135"
      ]
     },
     "execution_count": 104,
     "metadata": {
      "tags": []
     },
     "output_type": "execute_result"
    }
   ],
   "source": [
    "mean_squared_error(Y_val, val_prediction)"
   ]
  },
  {
   "cell_type": "markdown",
   "metadata": {
    "id": "FgCf7gANk9Zo"
   },
   "source": [
    "### For the prediction"
   ]
  },
  {
   "cell_type": "code",
   "execution_count": null,
   "metadata": {
    "colab": {
     "base_uri": "https://localhost:8080/",
     "height": 35
    },
    "id": "XklyxN_XksAD",
    "outputId": "9a59f78d-5b1a-470e-8419-fd613c8239df"
   },
   "outputs": [
    {
     "data": {
      "text/plain": [
       "0.0142778745"
      ]
     },
     "execution_count": 105,
     "metadata": {
      "tags": []
     },
     "output_type": "execute_result"
    }
   ],
   "source": [
    "mean_squared_error(Y_test,prediction)"
   ]
  },
  {
   "cell_type": "markdown",
   "metadata": {
    "id": "UrsHDR1ly6ll"
   },
   "source": [
    "# 6. Accuracy\n"
   ]
  },
  {
   "cell_type": "markdown",
   "metadata": {
    "id": "APpWEDj2lVbp"
   },
   "source": [
    "### For the test"
   ]
  },
  {
   "cell_type": "code",
   "execution_count": null,
   "metadata": {
    "colab": {
     "base_uri": "https://localhost:8080/",
     "height": 35
    },
    "id": "SbTwLDynVu7l",
    "outputId": "12811dbc-fa27-45df-f4f8-32a6c03256a7"
   },
   "outputs": [
    {
     "data": {
      "text/plain": [
       "0.9321789321789322"
      ]
     },
     "execution_count": 106,
     "metadata": {
      "tags": []
     },
     "output_type": "execute_result"
    }
   ],
   "source": [
    "accuracy_score(np.argmax(Y_test,1), prediction_classes)"
   ]
  },
  {
   "cell_type": "markdown",
   "metadata": {
    "id": "r96IVOMhWR8o"
   },
   "source": [
    "### For the validation"
   ]
  },
  {
   "cell_type": "code",
   "execution_count": null,
   "metadata": {
    "colab": {
     "base_uri": "https://localhost:8080/",
     "height": 35
    },
    "id": "im1EwfcaWWLx",
    "outputId": "3a60514f-6154-48e6-ef9e-970cbe48e088"
   },
   "outputs": [
    {
     "data": {
      "text/plain": [
       "0.9362139917695473"
      ]
     },
     "execution_count": 107,
     "metadata": {
      "tags": []
     },
     "output_type": "execute_result"
    }
   ],
   "source": [
    "accuracy_score(np.argmax(Y_val,1), prediction_classes_val)"
   ]
  },
  {
   "cell_type": "markdown",
   "metadata": {
    "id": "DFArDoYszFz4"
   },
   "source": [
    "# 7. Plot"
   ]
  },
  {
   "cell_type": "code",
   "execution_count": null,
   "metadata": {
    "id": "e_z3YDsMy_cK"
   },
   "outputs": [],
   "source": [
    "def plot_hist(h, xsize=6, ysize=10):\n",
    "\n",
    "    fig_size = plt.rcParams[\"figure.figsize\"]\n",
    "    plt.rcParams[\"figure.figsize\"] = [xsize, ysize]\n",
    "    fig, axes = plt.subplots(nrows=1, ncols=1, sharex=True)\n",
    "    \n",
    "    # summarize history for Accuracy\n",
    "    plt.subplot(211)\n",
    "    plt.plot(h['acc'])\n",
    "    plt.plot(h['val_acc'])\n",
    "    plt.title('Training Performance')\n",
    "    plt.ylabel('Accuracy')\n",
    "    plt.xlabel('Epochs')\n",
    "    plt.legend(['Train', 'Validation'], loc='best')\n",
    "    \n",
    "    plt.draw()\n",
    "    plt.show()\n",
    "\n",
    "    return"
   ]
  },
  {
   "cell_type": "code",
   "execution_count": null,
   "metadata": {
    "colab": {
     "base_uri": "https://localhost:8080/",
     "height": 374
    },
    "id": "WfLl08Y3y_qA",
    "outputId": "63e8bf3c-773c-4eee-a78a-1c40283b6656"
   },
   "outputs": [
    {
     "data": {
      "image/png": "[encoded data removed]",
      "text/plain": [
       "<Figure size 576x864 with 1 Axes>"
      ]
     },
     "metadata": {
      "tags": []
     },
     "output_type": "display_data"
    }
   ],
   "source": [
    "plot_hist(history.history, xsize=8, ysize=12)"
   ]
  },
  {
   "cell_type": "markdown",
   "metadata": {
    "id": "RS3eiMtwY0vN"
   },
   "source": [
    "### Conclusion"
   ]
  },
  {
   "cell_type": "markdown",
   "metadata": {
    "id": "DzlEphtGY7Ux"
   },
   "source": [
    "We have an overfitting! Because the predicticting data is perfectly fit in the training . Another reason could be the meansquare errors small"
   ]
  },
  {
   "cell_type": "markdown",
   "metadata": {
    "id": "KkFzh6Ux2tHO"
   },
   "source": [
    "# 9. Saving the model"
   ]
  },
  {
   "cell_type": "markdown",
   "metadata": {
    "id": "HOFzRt6r29Os"
   },
   "source": [
    "### Save the model to the local disk\n",
    "\n",
    "\n"
   ]
  },
  {
   "cell_type": "code",
   "execution_count": null,
   "metadata": {
    "id": "iwPWfEBBy_tB"
   },
   "outputs": [],
   "source": [
    "model_json = model.to_json()\n",
    "with open(\"model.json\", \"w\") as json_file:\n",
    "    json_file.write(model_json)"
   ]
  },
  {
   "cell_type": "markdown",
   "metadata": {
    "id": "GvLKwgYF3BEO"
   },
   "source": [
    "## Save the model's weights to the local disk"
   ]
  },
  {
   "cell_type": "code",
   "execution_count": null,
   "metadata": {
    "id": "Lc4FR4IMy_y_"
   },
   "outputs": [],
   "source": [
    "model.save_weights(\"model_weights.h5\")"
   ]
  },
  {
   "cell_type": "markdown",
   "metadata": {
    "id": "Rl4IeeWh3JjK"
   },
   "source": [
    "### Load the model back into memory\n",
    "\n",
    "We first read in the JSON file then make use of *model_from_json* which we obtained as an import at the top of this script: *from keras.models import model_from_json*"
   ]
  },
  {
   "cell_type": "code",
   "execution_count": null,
   "metadata": {
    "id": "ZM2-YkP4y_3F"
   },
   "outputs": [],
   "source": [
    "json_file = open('model.json', 'r')\n",
    "loaded_model_as_json = json_file.read()\n",
    "json_file.close()\n",
    "restored_model = model_from_json(loaded_model_as_json)"
   ]
  },
  {
   "cell_type": "markdown",
   "metadata": {
    "id": "iPA91SNc3QrC"
   },
   "source": [
    "## Load the weights back into memory"
   ]
  },
  {
   "cell_type": "code",
   "execution_count": null,
   "metadata": {
    "id": "_awJcWWyy_wi"
   },
   "outputs": [],
   "source": [
    "restored_model.load_weights(\"model_weights.h5\")"
   ]
  },
  {
   "cell_type": "markdown",
   "metadata": {
    "id": "U_YBmA0b3XFM"
   },
   "source": [
    "## Re-compile the model!"
   ]
  },
  {
   "cell_type": "code",
   "execution_count": null,
   "metadata": {
    "id": "GQhqalEf3cq7"
   },
   "outputs": [],
   "source": [
    "restored_model.compile(loss='binary_crossentropy', optimizer='rmsprop', metrics=['accuracy'])"
   ]
  },
  {
   "cell_type": "markdown",
   "metadata": {
    "id": "9RG0ABdG3fuS"
   },
   "source": [
    "## Resume training, predict or perform other tasks\n"
   ]
  },
  {
   "cell_type": "code",
   "execution_count": null,
   "metadata": {
    "colab": {
     "base_uri": "https://localhost:8080/",
     "height": 126
    },
    "id": "TTBKCPmO3l_4",
    "outputId": "f2f6745e-941b-4c3e-80df-c6b9049fdd31"
   },
   "outputs": [
    {
     "name": "stdout",
     "output_type": "stream",
     "text": [
      "Train on 1131 samples, validate on 486 samples\n",
      "Epoch 1/2\n",
      "1131/1131 [==============================] - 1s 776us/step - loss: 0.0529 - acc: 0.9769 - val_loss: 0.0535 - val_acc: 0.9750\n",
      "Epoch 2/2\n",
      "1131/1131 [==============================] - 0s 195us/step - loss: 0.0529 - acc: 0.9779 - val_loss: 0.0477 - val_acc: 0.9788\n"
     ]
    },
    {
     "data": {
      "text/plain": [
       "<keras.callbacks.History at 0x7ff1a095add8>"
      ]
     },
     "execution_count": 115,
     "metadata": {
      "tags": []
     },
     "output_type": "execute_result"
    }
   ],
   "source": [
    "restored_model.fit(X_train, Y_train, validation_data=(X_val, Y_val), epochs=2, batch_size=8, verbose=1)"
   ]
  },
  {
   "cell_type": "code",
   "execution_count": null,
   "metadata": {
    "id": "CHc2akq93tn0"
   },
   "outputs": [],
   "source": [
    "prediction_classes_val_restored = restored_model.predict_classes(X_val)\n"
   ]
  },
  {
   "cell_type": "markdown",
   "metadata": {
    "id": "U-82d-1Z6jwb"
   },
   "source": [
    "## Check the accuracy of the restored model"
   ]
  },
  {
   "cell_type": "code",
   "execution_count": null,
   "metadata": {
    "colab": {
     "base_uri": "https://localhost:8080/",
     "height": 35
    },
    "id": "-xl36i2E3yxP",
    "outputId": "9befbe3b-4a03-47b8-b9ca-59bf279a9eae"
   },
   "outputs": [
    {
     "data": {
      "text/plain": [
       "0.9259259259259259"
      ]
     },
     "execution_count": 117,
     "metadata": {
      "tags": []
     },
     "output_type": "execute_result"
    }
   ],
   "source": [
    "accuracy_score(np.argmax(Y_val,1), prediction_classes_val_restored)"
   ]
  },
  {
   "cell_type": "markdown",
   "metadata": {
    "id": "-_ZTt9w03pzp"
   },
   "source": [
    "## Notice\n",
    "\n"
   ]
  },
  {
   "cell_type": "markdown",
   "metadata": {
    "id": "s7IVvJvv360v"
   },
   "source": [
    "We notice that the accuracy of the restored model is approximatively the same as the accuracy of the model before saving.\n"
   ]
  },
  {
   "cell_type": "code",
   "execution_count": null,
   "metadata": {
    "id": "k36fxpt9tVbh"
   },
   "outputs": [],
   "source": []
  }
 ],
 "metadata": {
  "colab": {
   "collapsed_sections": [],
   "name": "jérémie_bakambana_assign_1_no_scale.ipynb",
   "provenance": []
  },
  "kernelspec": {
   "display_name": "Python 3",
   "language": "python",
   "name": "python3"
  },
  "language_info": {
   "codemirror_mode": {
    "name": "ipython",
    "version": 3
   },
   "file_extension": ".py",
   "mimetype": "text/x-python",
   "name": "python",
   "nbconvert_exporter": "python",
   "pygments_lexer": "ipython3",
   "version": "3.7.4"
  }
 },
 "nbformat": 4,
 "nbformat_minor": 1
}
