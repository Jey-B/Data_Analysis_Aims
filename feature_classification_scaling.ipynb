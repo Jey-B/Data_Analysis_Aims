{
 "cells": [
  {
   "cell_type": "markdown",
   "metadata": {
    "id": "Zs3Vxo5dmP7j"
   },
   "source": [
    "## Feature based classification \n",
    "\n",
    "### jey@aims.ac.za"
   ]
  },
  {
   "cell_type": "markdown",
   "metadata": {
    "id": "74QOVpN4WwRq"
   },
   "source": [
    "## Load the dataset"
   ]
  },
  {
   "cell_type": "code",
   "execution_count": null,
   "metadata": {
    "colab": {
     "base_uri": "https://localhost:8080/",
     "height": 35
    },
    "id": "T-5ywHOxNb7y",
    "outputId": "9c5031cc-4d8a-46c7-d912-493d35a26978"
   },
   "outputs": [
    {
     "name": "stdout",
     "output_type": "stream",
     "text": [
      "1.15.0\n"
     ]
    }
   ],
   "source": [
    "import pandas as pd\n",
    "\n",
    "from keras.models import Sequential\n",
    "from keras.layers import Dense, Conv2D, MaxPooling2D, Flatten, Dropout\n",
    "from keras.datasets import mnist\n",
    "import numpy as np\n",
    "from keras.models import model_from_json\n",
    "from sklearn.preprocessing import StandardScaler\n",
    "import matplotlib.pyplot as plt\n",
    "from sklearn.metrics import mean_squared_error\n",
    "from keras.utils import np_utils\n",
    "from sklearn.metrics import accuracy_score, confusion_matrix\n",
    "from keras.utils import to_categorical\n",
    "from sklearn.preprocessing import LabelEncoder\n",
    "import pandas as pd\n",
    "from sklearn.model_selection import train_test_split\n",
    "\n",
    "%matplotlib inline\n",
    "\n",
    "%tensorflow_version 1.x\n",
    "import tensorflow as tf\n",
    "print(tf.__version__)"
   ]
  },
  {
   "cell_type": "code",
   "execution_count": null,
   "metadata": {
    "id": "-f_P0_9Zhcwx"
   },
   "outputs": [],
   "source": [
    "dataset = pd.read_csv('https://drive.google.com/uc?export=download&id=1XpIaZzSMfyTUH-KFxpXFDsL1PZO_mrC0', header=None,\n",
    "                      names = ['region-centroid-col', 'region-centroid-row', 'region-pixel-count', 'short-line-density-5', \n",
    "                               'short-line-density-2', 'vedge-mean', 'vegde-sd', 'hedge-mean', 'hedge-sd', \n",
    "                               'intensity-mean', 'rawred-mean', 'rawblue-mean', 'rawgreen-mean', 'exred-mean', \n",
    "                               'exblue-mean', 'exgreen-mean', 'value-mean', 'saturatoin-mean', 'hue-mean', 'target'],delim_whitespace=True)"
   ]
  },
  {
   "cell_type": "markdown",
   "metadata": {
    "id": "0enHe6T-O4xs"
   },
   "source": [
    "## 1. Read dataset"
   ]
  },
  {
   "cell_type": "code",
   "execution_count": null,
   "metadata": {
    "colab": {
     "base_uri": "https://localhost:8080/",
     "height": 270
    },
    "id": "CqLvznMeOY0a",
    "outputId": "b4b9dd2d-f580-491b-ab9c-634136b8a9f4"
   },
   "outputs": [
    {
     "data": {
      "text/html": [
       "<div>\n",
       "<style scoped>\n",
       "    .dataframe tbody tr th:only-of-type {\n",
       "        vertical-align: middle;\n",
       "    }\n",
       "\n",
       "    .dataframe tbody tr th {\n",
       "        vertical-align: top;\n",
       "    }\n",
       "\n",
       "    .dataframe thead th {\n",
       "        text-align: right;\n",
       "    }\n",
       "</style>\n",
       "<table border=\"1\" class=\"dataframe\">\n",
       "  <thead>\n",
       "    <tr style=\"text-align: right;\">\n",
       "      <th></th>\n",
       "      <th>region-centroid-col</th>\n",
       "      <th>region-centroid-row</th>\n",
       "      <th>region-pixel-count</th>\n",
       "      <th>short-line-density-5</th>\n",
       "      <th>short-line-density-2</th>\n",
       "      <th>vedge-mean</th>\n",
       "      <th>vegde-sd</th>\n",
       "      <th>hedge-mean</th>\n",
       "      <th>hedge-sd</th>\n",
       "      <th>intensity-mean</th>\n",
       "      <th>rawred-mean</th>\n",
       "      <th>rawblue-mean</th>\n",
       "      <th>rawgreen-mean</th>\n",
       "      <th>exred-mean</th>\n",
       "      <th>exblue-mean</th>\n",
       "      <th>exgreen-mean</th>\n",
       "      <th>value-mean</th>\n",
       "      <th>saturatoin-mean</th>\n",
       "      <th>hue-mean</th>\n",
       "      <th>target</th>\n",
       "    </tr>\n",
       "  </thead>\n",
       "  <tbody>\n",
       "    <tr>\n",
       "      <th>0</th>\n",
       "      <td>218.0</td>\n",
       "      <td>178.0</td>\n",
       "      <td>9</td>\n",
       "      <td>0.111111</td>\n",
       "      <td>0.0</td>\n",
       "      <td>0.833333</td>\n",
       "      <td>0.547722</td>\n",
       "      <td>1.111109</td>\n",
       "      <td>0.544331</td>\n",
       "      <td>59.629630</td>\n",
       "      <td>52.444443</td>\n",
       "      <td>75.222220</td>\n",
       "      <td>51.222220</td>\n",
       "      <td>-21.555555</td>\n",
       "      <td>46.77778</td>\n",
       "      <td>-25.222221</td>\n",
       "      <td>75.222220</td>\n",
       "      <td>0.318996</td>\n",
       "      <td>-2.040554</td>\n",
       "      <td>6</td>\n",
       "    </tr>\n",
       "    <tr>\n",
       "      <th>1</th>\n",
       "      <td>113.0</td>\n",
       "      <td>130.0</td>\n",
       "      <td>9</td>\n",
       "      <td>0.000000</td>\n",
       "      <td>0.0</td>\n",
       "      <td>0.277778</td>\n",
       "      <td>0.250924</td>\n",
       "      <td>0.333333</td>\n",
       "      <td>0.365148</td>\n",
       "      <td>0.888889</td>\n",
       "      <td>0.000000</td>\n",
       "      <td>2.555556</td>\n",
       "      <td>0.111111</td>\n",
       "      <td>-2.666667</td>\n",
       "      <td>5.00000</td>\n",
       "      <td>-2.333333</td>\n",
       "      <td>2.555556</td>\n",
       "      <td>1.000000</td>\n",
       "      <td>-2.123254</td>\n",
       "      <td>3</td>\n",
       "    </tr>\n",
       "    <tr>\n",
       "      <th>2</th>\n",
       "      <td>202.0</td>\n",
       "      <td>41.0</td>\n",
       "      <td>9</td>\n",
       "      <td>0.000000</td>\n",
       "      <td>0.0</td>\n",
       "      <td>0.944448</td>\n",
       "      <td>0.772202</td>\n",
       "      <td>1.111112</td>\n",
       "      <td>1.025597</td>\n",
       "      <td>123.037040</td>\n",
       "      <td>111.888885</td>\n",
       "      <td>139.777790</td>\n",
       "      <td>117.444440</td>\n",
       "      <td>-33.444443</td>\n",
       "      <td>50.22222</td>\n",
       "      <td>-16.777779</td>\n",
       "      <td>139.777790</td>\n",
       "      <td>0.199347</td>\n",
       "      <td>-2.299918</td>\n",
       "      <td>2</td>\n",
       "    </tr>\n",
       "    <tr>\n",
       "      <th>3</th>\n",
       "      <td>32.0</td>\n",
       "      <td>173.0</td>\n",
       "      <td>9</td>\n",
       "      <td>0.000000</td>\n",
       "      <td>0.0</td>\n",
       "      <td>1.722222</td>\n",
       "      <td>1.781593</td>\n",
       "      <td>9.000000</td>\n",
       "      <td>6.749488</td>\n",
       "      <td>43.592594</td>\n",
       "      <td>39.555557</td>\n",
       "      <td>52.888890</td>\n",
       "      <td>38.333336</td>\n",
       "      <td>-12.111111</td>\n",
       "      <td>27.88889</td>\n",
       "      <td>-15.777778</td>\n",
       "      <td>52.888890</td>\n",
       "      <td>0.266914</td>\n",
       "      <td>-1.998858</td>\n",
       "      <td>6</td>\n",
       "    </tr>\n",
       "    <tr>\n",
       "      <th>4</th>\n",
       "      <td>61.0</td>\n",
       "      <td>197.0</td>\n",
       "      <td>9</td>\n",
       "      <td>0.000000</td>\n",
       "      <td>0.0</td>\n",
       "      <td>1.444444</td>\n",
       "      <td>1.515353</td>\n",
       "      <td>2.611111</td>\n",
       "      <td>1.925463</td>\n",
       "      <td>49.592594</td>\n",
       "      <td>44.222220</td>\n",
       "      <td>61.555557</td>\n",
       "      <td>43.000000</td>\n",
       "      <td>-16.111110</td>\n",
       "      <td>35.88889</td>\n",
       "      <td>-19.777779</td>\n",
       "      <td>61.555557</td>\n",
       "      <td>0.302925</td>\n",
       "      <td>-2.022274</td>\n",
       "      <td>6</td>\n",
       "    </tr>\n",
       "  </tbody>\n",
       "</table>\n",
       "</div>"
      ],
      "text/plain": [
       "   region-centroid-col  region-centroid-row  ...  hue-mean  target\n",
       "0                218.0                178.0  ... -2.040554       6\n",
       "1                113.0                130.0  ... -2.123254       3\n",
       "2                202.0                 41.0  ... -2.299918       2\n",
       "3                 32.0                173.0  ... -1.998858       6\n",
       "4                 61.0                197.0  ... -2.022274       6\n",
       "\n",
       "[5 rows x 20 columns]"
      ]
     },
     "execution_count": 121,
     "metadata": {
      "tags": []
     },
     "output_type": "execute_result"
    }
   ],
   "source": [
    "dataset.head()"
   ]
  },
  {
   "cell_type": "markdown",
   "metadata": {
    "id": "q7w3KipGP8PS"
   },
   "source": [
    "# 2. Split the data into training, validation and testing"
   ]
  },
  {
   "cell_type": "code",
   "execution_count": null,
   "metadata": {
    "id": "y8QMPA7umk_T"
   },
   "outputs": [],
   "source": [
    "dataset[\"target\"]=dataset[\"target\"]-1"
   ]
  },
  {
   "cell_type": "code",
   "execution_count": null,
   "metadata": {
    "id": "MnRN8LIyQKlW"
   },
   "outputs": [],
   "source": [
    "X = dataset.drop(columns=['target']).values\n",
    "Y = dataset['target'].values"
   ]
  },
  {
   "cell_type": "code",
   "execution_count": null,
   "metadata": {
    "colab": {
     "base_uri": "https://localhost:8080/",
     "height": 254
    },
    "id": "0K8IQCMMb3nl",
    "outputId": "dccc2025-2e67-4099-9a25-46388a100bce"
   },
   "outputs": [
    {
     "data": {
      "text/plain": [
       "array([[ 2.1800000e+02,  1.7800000e+02,  9.0000000e+00, ...,\n",
       "         7.5222220e+01,  3.1899637e-01, -2.0405545e+00],\n",
       "       [ 1.1300000e+02,  1.3000000e+02,  9.0000000e+00, ...,\n",
       "         2.5555556e+00,  1.0000000e+00, -2.1232540e+00],\n",
       "       [ 2.0200000e+02,  4.1000000e+01,  9.0000000e+00, ...,\n",
       "         1.3977779e+02,  1.9934683e-01, -2.2999177e+00],\n",
       "       ...,\n",
       "       [ 8.0000000e+01,  7.2000000e+01,  9.0000000e+00, ...,\n",
       "         7.4444440e+01,  3.1460637e-01, -2.0902212e+00],\n",
       "       [ 9.8000000e+01,  1.3300000e+02,  9.0000000e+00, ...,\n",
       "         2.7777777e+00,  1.0000000e+00, -2.1232540e+00],\n",
       "       [ 1.9000000e+01,  1.4700000e+02,  9.0000000e+00, ...,\n",
       "         7.0000000e+00,  7.1322750e-01, -1.4756428e+00]])"
      ]
     },
     "execution_count": 125,
     "metadata": {
      "tags": []
     },
     "output_type": "execute_result"
    }
   ],
   "source": [
    "X"
   ]
  },
  {
   "cell_type": "markdown",
   "metadata": {
    "id": "oPiFIh4Nb41Z"
   },
   "source": [
    "### Scaling X"
   ]
  },
  {
   "cell_type": "code",
   "execution_count": null,
   "metadata": {
    "id": "1JcYFQYRb7y-"
   },
   "outputs": [],
   "source": [
    "scaled_data = StandardScaler().fit_transform(X)   # We are scaling values of X\n",
    "X = scaled_data"
   ]
  },
  {
   "cell_type": "code",
   "execution_count": null,
   "metadata": {
    "colab": {
     "base_uri": "https://localhost:8080/",
     "height": 254
    },
    "id": "6R0esL7cb94c",
    "outputId": "9370ffd7-04d7-4c43-81f6-2692428cdbca"
   },
   "outputs": [
    {
     "data": {
      "text/plain": [
       "array([[ 1.2761887 ,  0.94973634,  0.        , ...,  0.70107239,\n",
       "        -0.47269171, -0.43861303],\n",
       "       [-0.16333606,  0.11453842,  0.        , ..., -0.99229694,\n",
       "         2.51076421, -0.49214018],\n",
       "       [ 1.05683255, -1.43405774,  0.        , ...,  2.20542688,\n",
       "        -0.99687265, -0.60648555],\n",
       "       ...,\n",
       "       [-0.61575812, -0.89465908,  0.        , ...,  0.68294759,\n",
       "        -0.49192416, -0.47075974],\n",
       "       [-0.36898245,  0.16673829,  0.        , ..., -0.98711844,\n",
       "         2.51076421, -0.49214018],\n",
       "       [-1.45205346,  0.41033768,  0.        , ..., -0.88872695,\n",
       "         1.25442272, -0.07297461]])"
      ]
     },
     "execution_count": 127,
     "metadata": {
      "tags": []
     },
     "output_type": "execute_result"
    }
   ],
   "source": [
    "X"
   ]
  },
  {
   "cell_type": "markdown",
   "metadata": {
    "id": "z5ZULv-tT4Nh"
   },
   "source": [
    "### Checking the shape"
   ]
  },
  {
   "cell_type": "code",
   "execution_count": null,
   "metadata": {
    "colab": {
     "base_uri": "https://localhost:8080/",
     "height": 35
    },
    "id": "Sr4S9I89QK3A",
    "outputId": "dbe883c1-99f7-4920-883e-9110c525c505"
   },
   "outputs": [
    {
     "data": {
      "text/plain": [
       "(2310, 19)"
      ]
     },
     "execution_count": 128,
     "metadata": {
      "tags": []
     },
     "output_type": "execute_result"
    }
   ],
   "source": [
    "X.shape"
   ]
  },
  {
   "cell_type": "code",
   "execution_count": null,
   "metadata": {
    "colab": {
     "base_uri": "https://localhost:8080/",
     "height": 35
    },
    "id": "j-eIBgi_QLCO",
    "outputId": "2794998b-d4c9-4802-bd6f-3873c0a065a9"
   },
   "outputs": [
    {
     "data": {
      "text/plain": [
       "(2310,)"
      ]
     },
     "execution_count": 129,
     "metadata": {
      "tags": []
     },
     "output_type": "execute_result"
    }
   ],
   "source": [
    "Y.shape"
   ]
  },
  {
   "cell_type": "markdown",
   "metadata": {
    "id": "dXYukW4mUSyp"
   },
   "source": [
    "### Splitting the data"
   ]
  },
  {
   "cell_type": "code",
   "execution_count": null,
   "metadata": {
    "id": "CWn7u5DUQLFO"
   },
   "outputs": [],
   "source": [
    "X_train, X_test, Y_train, Y_test = train_test_split(X, Y, test_size=.3)\n",
    "X_train, X_val, Y_train, Y_val = train_test_split(X_train, Y_train, test_size=.3)"
   ]
  },
  {
   "cell_type": "markdown",
   "metadata": {
    "id": "qVGW8qqAVWuR"
   },
   "source": [
    "### Checking the splitting shape"
   ]
  },
  {
   "cell_type": "code",
   "execution_count": null,
   "metadata": {
    "colab": {
     "base_uri": "https://localhost:8080/",
     "height": 54
    },
    "id": "cn-tCsKvVUYW",
    "outputId": "dbf9cb93-76c4-42f1-ad98-5c69b2a0720a"
   },
   "outputs": [
    {
     "name": "stdout",
     "output_type": "stream",
     "text": [
      "(1131, 19)\n",
      "(1131,)\n"
     ]
    }
   ],
   "source": [
    "print (X_train.shape)\n",
    "print (Y_train.shape)"
   ]
  },
  {
   "cell_type": "code",
   "execution_count": null,
   "metadata": {
    "colab": {
     "base_uri": "https://localhost:8080/",
     "height": 54
    },
    "id": "8t4zfENrVvYv",
    "outputId": "9f11eab8-9eb4-43ca-930b-caf1ff0348e7"
   },
   "outputs": [
    {
     "name": "stdout",
     "output_type": "stream",
     "text": [
      "(693, 19)\n",
      "(693,)\n"
     ]
    }
   ],
   "source": [
    "print(X_test.shape)\n",
    "print (Y_test.shape)"
   ]
  },
  {
   "cell_type": "code",
   "execution_count": null,
   "metadata": {
    "colab": {
     "base_uri": "https://localhost:8080/",
     "height": 54
    },
    "id": "C0dSsy6hVvVL",
    "outputId": "c3c3f5a2-8fe8-4330-c8fe-2ffc5d7e0faf"
   },
   "outputs": [
    {
     "name": "stdout",
     "output_type": "stream",
     "text": [
      "(486, 19)\n",
      "(486,)\n"
     ]
    }
   ],
   "source": [
    "print(X_val.shape)\n",
    "print (Y_val.shape)"
   ]
  },
  {
   "cell_type": "markdown",
   "metadata": {
    "id": "2t1gZbgdY6L4"
   },
   "source": [
    "### Find the unique numbers from the train labels\n"
   ]
  },
  {
   "cell_type": "code",
   "execution_count": null,
   "metadata": {
    "colab": {
     "base_uri": "https://localhost:8080/",
     "height": 54
    },
    "id": "LJYFQXaJVvSU",
    "outputId": "7b82cfd0-a312-417b-9d1f-a659694e19b4"
   },
   "outputs": [
    {
     "name": "stdout",
     "output_type": "stream",
     "text": [
      "Total number of outputs :  7\n",
      "Output classes :  [0 1 2 3 4 5 6]\n"
     ]
    }
   ],
   "source": [
    "classes = np.unique(Y_train)\n",
    "nClasses = len(classes)\n",
    "print('Total number of outputs : ', nClasses)\n",
    "print('Output classes : ', classes)"
   ]
  },
  {
   "cell_type": "markdown",
   "metadata": {
    "id": "ma3FYA78fAAh"
   },
   "source": [
    "### Convert from categorical labels to one-hot encoded vectors\n"
   ]
  },
  {
   "cell_type": "code",
   "execution_count": null,
   "metadata": {
    "id": "hDVxH3D4VvKO"
   },
   "outputs": [],
   "source": [
    "Y_train = np_utils.to_categorical(Y_train,7)\n",
    "\n",
    "Y_val = np_utils.to_categorical(Y_val, 7)\n",
    "Y_test = np_utils.to_categorical(Y_test, 7)"
   ]
  },
  {
   "cell_type": "markdown",
   "metadata": {
    "id": "ZO3rNuyzcnaA"
   },
   "source": [
    "### Check of the conersion"
   ]
  },
  {
   "cell_type": "code",
   "execution_count": null,
   "metadata": {
    "colab": {
     "base_uri": "https://localhost:8080/",
     "height": 35
    },
    "id": "JxuADhJMRAB4",
    "outputId": "28d1e6d9-73c1-4bc1-fc8a-07c01fe2513e"
   },
   "outputs": [
    {
     "data": {
      "text/plain": [
       "array([1., 0., 0., 0., 0., 0., 0.], dtype=float32)"
      ]
     },
     "execution_count": 136,
     "metadata": {
      "tags": []
     },
     "output_type": "execute_result"
    }
   ],
   "source": [
    "Y_train[0]"
   ]
  },
  {
   "cell_type": "code",
   "execution_count": null,
   "metadata": {
    "colab": {
     "base_uri": "https://localhost:8080/",
     "height": 35
    },
    "id": "BJmPfQJDZnWs",
    "outputId": "7d531c89-5782-4061-8f7c-3421403a9b8f"
   },
   "outputs": [
    {
     "data": {
      "text/plain": [
       "array([0., 0., 0., 1., 0., 0., 0.], dtype=float32)"
      ]
     },
     "execution_count": 137,
     "metadata": {
      "tags": []
     },
     "output_type": "execute_result"
    }
   ],
   "source": [
    "Y_val[0]"
   ]
  },
  {
   "cell_type": "code",
   "execution_count": null,
   "metadata": {
    "colab": {
     "base_uri": "https://localhost:8080/",
     "height": 35
    },
    "id": "g4ifo7OUZnai",
    "outputId": "ec46c83d-21fc-41ce-fc13-42d2df7e7346"
   },
   "outputs": [
    {
     "data": {
      "text/plain": [
       "array([0., 1., 0., 0., 0., 0., 0.], dtype=float32)"
      ]
     },
     "execution_count": 138,
     "metadata": {
      "tags": []
     },
     "output_type": "execute_result"
    }
   ],
   "source": [
    "Y_test[0]"
   ]
  },
  {
   "cell_type": "markdown",
   "metadata": {
    "id": "6qVa13dLtRvl"
   },
   "source": [
    "# 4. Creation of NN model\n"
   ]
  },
  {
   "cell_type": "markdown",
   "metadata": {
    "id": "TWGUBI2RfoMN"
   },
   "source": [
    "### Network1"
   ]
  },
  {
   "cell_type": "code",
   "execution_count": null,
   "metadata": {
    "id": "pospSRpIZmqw"
   },
   "outputs": [],
   "source": [
    "def network1():\n",
    "  \n",
    "    model = Sequential()\n",
    "    model.add(Dense(21, input_dim=19, activation='relu'))\n",
    "    model.add(Dense(7, activation='softmax'))\n",
    "    \n",
    "    # Compile model\n",
    "    model.compile(loss='categorical_crossentropy', \n",
    "                  optimizer='adam', \n",
    "                  metrics=['accuracy'])\n",
    "    \n",
    "    return model"
   ]
  },
  {
   "cell_type": "markdown",
   "metadata": {
    "id": "zRBfFeGygGb8"
   },
   "source": [
    "**network1**: simple network with one layer, 19 inputs(19 features) and 21 filters between the inputs and the 7 outputs. the activation fuctions used is \"**relu**\" for the filters and \"softmax\" for the output.\n",
    "\n",
    "  Validation performance on the training was:contrary to the no scaling case accuracy around 95%, the confusion *matrix has less prediction errors "
   ]
  },
  {
   "cell_type": "markdown",
   "metadata": {
    "id": "dWzaGw18fsEU"
   },
   "source": [
    "### Network2"
   ]
  },
  {
   "cell_type": "code",
   "execution_count": null,
   "metadata": {
    "id": "qaX9Gsvdfv-d"
   },
   "outputs": [],
   "source": [
    "def network2():\n",
    "  \n",
    "    model = Sequential()\n",
    "    model.add(Dense(21, input_dim=19, activation='relu'))\n",
    "    model.add(Dense(10, activation='relu'))\n",
    "\n",
    "    model.add(Dense(7, activation='softmax'))\n",
    "    \n",
    "    # Compile model\n",
    "    model.compile(loss='categorical_crossentropy', \n",
    "                  optimizer='adam', \n",
    "                  metrics=['accuracy'])\n",
    "    \n",
    "    return model"
   ]
  },
  {
   "cell_type": "markdown",
   "metadata": {
    "id": "U-3kcwrrgCcO"
   },
   "source": [
    "**network2**: network with 2 layers, 19 inputs(19 features), 21 filters between layer 1 and layer 2 and 10 filters between layer 2 and the 7 outputs. the activation fuctions used are \"relu\" for the both layers and \"softmax\" for the output.\n",
    "\n",
    "  Validation performance on training :the accuracy is around 95% just 1% more then the **network1** and above and the confusion *matrix* which has shown few prediction errors too."
   ]
  },
  {
   "cell_type": "markdown",
   "metadata": {
    "id": "qUhFIexkf0_A"
   },
   "source": [
    "### Network3"
   ]
  },
  {
   "cell_type": "code",
   "execution_count": null,
   "metadata": {
    "id": "F1rk7zaDf3a2"
   },
   "outputs": [],
   "source": [
    "def network3():\n",
    "  \n",
    "    model = Sequential()\n",
    "    model.add(Dense(21, input_dim=19, activation='relu'))\n",
    "    model.add(Dense(10, activation='linear'))\n",
    "    model.add(Dense(15, activation='relu'))\n",
    "    model.add(Dense(7, activation='softmax'))\n",
    "    \n",
    "    # Compile model\n",
    "    model.compile(loss='categorical_crossentropy', \n",
    "                  optimizer='adam', \n",
    "                  metrics=['accuracy'])\n",
    "    \n",
    "    return model"
   ]
  },
  {
   "cell_type": "markdown",
   "metadata": {
    "id": "WO4AawHTfiK3"
   },
   "source": [
    "**network3**: network with 3 layers, 19 inputs(19 features), 21 filters between layer 1 and layer 2, 10 filters between layer 2 and layer 2, 15 filters between layer2 and layer3 and the 7 outputs. the activation fuctions used are respectively \"relu\",\"lnear\",\"relu\" for layers and \"softmax\" for the output.\n",
    "\n",
    "This network has shown better  Validation performance on the training :accuracy almost 97% and the confusion *matrix* is better from the two previous networks. But the difference are not consirables"
   ]
  },
  {
   "cell_type": "markdown",
   "metadata": {
    "id": "SZdEiQffiY0q"
   },
   "source": [
    "## Choice of model"
   ]
  },
  {
   "cell_type": "markdown",
   "metadata": {
    "id": "zqbIGy2ZicX0"
   },
   "source": [
    "Based on the validation performance on the training and validation data! We decide to use the **network3** on the testing data."
   ]
  },
  {
   "cell_type": "markdown",
   "metadata": {
    "id": "vKfNBl7jgOEY"
   },
   "source": [
    "## Testing data"
   ]
  },
  {
   "cell_type": "code",
   "execution_count": null,
   "metadata": {
    "id": "jJ7aKwQpZmoB"
   },
   "outputs": [],
   "source": [
    "model = network3()"
   ]
  },
  {
   "cell_type": "code",
   "execution_count": null,
   "metadata": {
    "colab": {
     "base_uri": "https://localhost:8080/",
     "height": 308
    },
    "id": "I9-b7pgtZml3",
    "outputId": "c2539ecc-b9ad-4686-be7f-b0f43b11534b"
   },
   "outputs": [
    {
     "name": "stdout",
     "output_type": "stream",
     "text": [
      "Model: \"sequential_10\"\n",
      "_________________________________________________________________\n",
      "Layer (type)                 Output Shape              Param #   \n",
      "=================================================================\n",
      "dense_37 (Dense)             (None, 21)                420       \n",
      "_________________________________________________________________\n",
      "dense_38 (Dense)             (None, 10)                220       \n",
      "_________________________________________________________________\n",
      "dense_39 (Dense)             (None, 15)                165       \n",
      "_________________________________________________________________\n",
      "dense_40 (Dense)             (None, 7)                 112       \n",
      "=================================================================\n",
      "Total params: 917\n",
      "Trainable params: 917\n",
      "Non-trainable params: 0\n",
      "_________________________________________________________________\n"
     ]
    }
   ],
   "source": [
    "model.summary()"
   ]
  },
  {
   "cell_type": "markdown",
   "metadata": {
    "id": "JhSW45ZcvIZy"
   },
   "source": []
  },
  {
   "cell_type": "code",
   "execution_count": null,
   "metadata": {
    "colab": {
     "base_uri": "https://localhost:8080/",
     "height": 1000
    },
    "id": "lKKAY2_8Zmjn",
    "outputId": "6005be85-0a6a-4bef-9f03-28c6381142f6"
   },
   "outputs": [
    {
     "name": "stdout",
     "output_type": "stream",
     "text": [
      "Train on 1131 samples, validate on 486 samples\n",
      "Epoch 1/100\n",
      "1131/1131 [==============================] - 1s 830us/step - loss: 1.9046 - acc: 0.1786 - val_loss: 1.7128 - val_acc: 0.2716\n",
      "Epoch 2/100\n",
      "1131/1131 [==============================] - 0s 62us/step - loss: 1.5483 - acc: 0.3846 - val_loss: 1.4351 - val_acc: 0.4979\n",
      "Epoch 3/100\n",
      "1131/1131 [==============================] - 0s 55us/step - loss: 1.2648 - acc: 0.5650 - val_loss: 1.1880 - val_acc: 0.5617\n",
      "Epoch 4/100\n",
      "1131/1131 [==============================] - 0s 55us/step - loss: 1.0304 - acc: 0.6561 - val_loss: 1.0062 - val_acc: 0.6667\n",
      "Epoch 5/100\n",
      "1131/1131 [==============================] - 0s 67us/step - loss: 0.8545 - acc: 0.7347 - val_loss: 0.8450 - val_acc: 0.7325\n",
      "Epoch 6/100\n",
      "1131/1131 [==============================] - 0s 73us/step - loss: 0.7054 - acc: 0.7940 - val_loss: 0.7085 - val_acc: 0.7737\n",
      "Epoch 7/100\n",
      "1131/1131 [==============================] - 0s 70us/step - loss: 0.5839 - acc: 0.8187 - val_loss: 0.5919 - val_acc: 0.8148\n",
      "Epoch 8/100\n",
      "1131/1131 [==============================] - 0s 66us/step - loss: 0.4926 - acc: 0.8550 - val_loss: 0.5052 - val_acc: 0.8642\n",
      "Epoch 9/100\n",
      "1131/1131 [==============================] - 0s 65us/step - loss: 0.4233 - acc: 0.8736 - val_loss: 0.4435 - val_acc: 0.8663\n",
      "Epoch 10/100\n",
      "1131/1131 [==============================] - 0s 68us/step - loss: 0.3699 - acc: 0.8851 - val_loss: 0.3925 - val_acc: 0.8786\n",
      "Epoch 11/100\n",
      "1131/1131 [==============================] - 0s 67us/step - loss: 0.3296 - acc: 0.8957 - val_loss: 0.3505 - val_acc: 0.8868\n",
      "Epoch 12/100\n",
      "1131/1131 [==============================] - 0s 66us/step - loss: 0.2985 - acc: 0.9054 - val_loss: 0.3196 - val_acc: 0.9074\n",
      "Epoch 13/100\n",
      "1131/1131 [==============================] - 0s 66us/step - loss: 0.2697 - acc: 0.9169 - val_loss: 0.2918 - val_acc: 0.9218\n",
      "Epoch 14/100\n",
      "1131/1131 [==============================] - 0s 57us/step - loss: 0.2492 - acc: 0.9160 - val_loss: 0.2744 - val_acc: 0.9239\n",
      "Epoch 15/100\n",
      "1131/1131 [==============================] - 0s 52us/step - loss: 0.2315 - acc: 0.9222 - val_loss: 0.2554 - val_acc: 0.9280\n",
      "Epoch 16/100\n",
      "1131/1131 [==============================] - 0s 54us/step - loss: 0.2138 - acc: 0.9293 - val_loss: 0.2404 - val_acc: 0.9259\n",
      "Epoch 17/100\n",
      "1131/1131 [==============================] - 0s 62us/step - loss: 0.2016 - acc: 0.9284 - val_loss: 0.2228 - val_acc: 0.9362\n",
      "Epoch 18/100\n",
      "1131/1131 [==============================] - 0s 56us/step - loss: 0.1884 - acc: 0.9310 - val_loss: 0.2198 - val_acc: 0.9424\n",
      "Epoch 19/100\n",
      "1131/1131 [==============================] - 0s 58us/step - loss: 0.1790 - acc: 0.9337 - val_loss: 0.2041 - val_acc: 0.9403\n",
      "Epoch 20/100\n",
      "1131/1131 [==============================] - 0s 56us/step - loss: 0.1696 - acc: 0.9319 - val_loss: 0.2044 - val_acc: 0.9342\n",
      "Epoch 21/100\n",
      "1131/1131 [==============================] - 0s 68us/step - loss: 0.1595 - acc: 0.9346 - val_loss: 0.1931 - val_acc: 0.9527\n",
      "Epoch 22/100\n",
      "1131/1131 [==============================] - 0s 55us/step - loss: 0.1503 - acc: 0.9461 - val_loss: 0.1873 - val_acc: 0.9424\n",
      "Epoch 23/100\n",
      "1131/1131 [==============================] - 0s 54us/step - loss: 0.1431 - acc: 0.9469 - val_loss: 0.1790 - val_acc: 0.9527\n",
      "Epoch 24/100\n",
      "1131/1131 [==============================] - 0s 53us/step - loss: 0.1373 - acc: 0.9514 - val_loss: 0.1729 - val_acc: 0.9486\n",
      "Epoch 25/100\n",
      "1131/1131 [==============================] - 0s 58us/step - loss: 0.1328 - acc: 0.9514 - val_loss: 0.1665 - val_acc: 0.9568\n",
      "Epoch 26/100\n",
      "1131/1131 [==============================] - 0s 58us/step - loss: 0.1283 - acc: 0.9523 - val_loss: 0.1625 - val_acc: 0.9609\n",
      "Epoch 27/100\n",
      "1131/1131 [==============================] - 0s 52us/step - loss: 0.1247 - acc: 0.9523 - val_loss: 0.1586 - val_acc: 0.9527\n",
      "Epoch 28/100\n",
      "1131/1131 [==============================] - 0s 55us/step - loss: 0.1191 - acc: 0.9514 - val_loss: 0.1598 - val_acc: 0.9506\n",
      "Epoch 29/100\n",
      "1131/1131 [==============================] - 0s 60us/step - loss: 0.1158 - acc: 0.9611 - val_loss: 0.1556 - val_acc: 0.9568\n",
      "Epoch 30/100\n",
      "1131/1131 [==============================] - 0s 75us/step - loss: 0.1096 - acc: 0.9584 - val_loss: 0.1532 - val_acc: 0.9527\n",
      "Epoch 31/100\n",
      "1131/1131 [==============================] - 0s 69us/step - loss: 0.1077 - acc: 0.9584 - val_loss: 0.1479 - val_acc: 0.9588\n",
      "Epoch 32/100\n",
      "1131/1131 [==============================] - 0s 69us/step - loss: 0.1022 - acc: 0.9655 - val_loss: 0.1471 - val_acc: 0.9609\n",
      "Epoch 33/100\n",
      "1131/1131 [==============================] - 0s 67us/step - loss: 0.1002 - acc: 0.9682 - val_loss: 0.1437 - val_acc: 0.9671\n",
      "Epoch 34/100\n",
      "1131/1131 [==============================] - 0s 55us/step - loss: 0.0984 - acc: 0.9664 - val_loss: 0.1418 - val_acc: 0.9650\n",
      "Epoch 35/100\n",
      "1131/1131 [==============================] - 0s 59us/step - loss: 0.0933 - acc: 0.9673 - val_loss: 0.1453 - val_acc: 0.9630\n",
      "Epoch 36/100\n",
      "1131/1131 [==============================] - 0s 74us/step - loss: 0.0968 - acc: 0.9655 - val_loss: 0.1403 - val_acc: 0.9630\n",
      "Epoch 37/100\n",
      "1131/1131 [==============================] - 0s 69us/step - loss: 0.0912 - acc: 0.9717 - val_loss: 0.1384 - val_acc: 0.9609\n",
      "Epoch 38/100\n",
      "1131/1131 [==============================] - 0s 61us/step - loss: 0.0902 - acc: 0.9691 - val_loss: 0.1403 - val_acc: 0.9630\n",
      "Epoch 39/100\n",
      "1131/1131 [==============================] - 0s 55us/step - loss: 0.0887 - acc: 0.9744 - val_loss: 0.1429 - val_acc: 0.9588\n",
      "Epoch 40/100\n",
      "1131/1131 [==============================] - 0s 54us/step - loss: 0.0903 - acc: 0.9664 - val_loss: 0.1428 - val_acc: 0.9588\n",
      "Epoch 41/100\n",
      "1131/1131 [==============================] - 0s 70us/step - loss: 0.0828 - acc: 0.9744 - val_loss: 0.1396 - val_acc: 0.9650\n",
      "Epoch 42/100\n",
      "1131/1131 [==============================] - 0s 69us/step - loss: 0.0823 - acc: 0.9708 - val_loss: 0.1350 - val_acc: 0.9650\n",
      "Epoch 43/100\n",
      "1131/1131 [==============================] - 0s 54us/step - loss: 0.0845 - acc: 0.9708 - val_loss: 0.1386 - val_acc: 0.9671\n",
      "Epoch 44/100\n",
      "1131/1131 [==============================] - 0s 55us/step - loss: 0.0799 - acc: 0.9761 - val_loss: 0.1389 - val_acc: 0.9691\n",
      "Epoch 45/100\n",
      "1131/1131 [==============================] - 0s 55us/step - loss: 0.0784 - acc: 0.9708 - val_loss: 0.1388 - val_acc: 0.9630\n",
      "Epoch 46/100\n",
      "1131/1131 [==============================] - 0s 56us/step - loss: 0.0779 - acc: 0.9752 - val_loss: 0.1434 - val_acc: 0.9691\n",
      "Epoch 47/100\n",
      "1131/1131 [==============================] - 0s 61us/step - loss: 0.0791 - acc: 0.9744 - val_loss: 0.1357 - val_acc: 0.9671\n",
      "Epoch 48/100\n",
      "1131/1131 [==============================] - 0s 55us/step - loss: 0.0730 - acc: 0.9761 - val_loss: 0.1413 - val_acc: 0.9630\n",
      "Epoch 49/100\n",
      "1131/1131 [==============================] - 0s 55us/step - loss: 0.0741 - acc: 0.9761 - val_loss: 0.1465 - val_acc: 0.9609\n",
      "Epoch 50/100\n",
      "1131/1131 [==============================] - 0s 57us/step - loss: 0.0740 - acc: 0.9770 - val_loss: 0.1359 - val_acc: 0.9691\n",
      "Epoch 51/100\n",
      "1131/1131 [==============================] - 0s 53us/step - loss: 0.0703 - acc: 0.9797 - val_loss: 0.1386 - val_acc: 0.9712\n",
      "Epoch 52/100\n",
      "1131/1131 [==============================] - 0s 55us/step - loss: 0.0728 - acc: 0.9788 - val_loss: 0.1366 - val_acc: 0.9733\n",
      "Epoch 53/100\n",
      "1131/1131 [==============================] - 0s 59us/step - loss: 0.0696 - acc: 0.9797 - val_loss: 0.1347 - val_acc: 0.9733\n",
      "Epoch 54/100\n",
      "1131/1131 [==============================] - 0s 58us/step - loss: 0.0684 - acc: 0.9814 - val_loss: 0.1431 - val_acc: 0.9588\n",
      "Epoch 55/100\n",
      "1131/1131 [==============================] - 0s 55us/step - loss: 0.0699 - acc: 0.9797 - val_loss: 0.1359 - val_acc: 0.9733\n",
      "Epoch 56/100\n",
      "1131/1131 [==============================] - 0s 55us/step - loss: 0.0655 - acc: 0.9841 - val_loss: 0.1358 - val_acc: 0.9733\n",
      "Epoch 57/100\n",
      "1131/1131 [==============================] - 0s 68us/step - loss: 0.0661 - acc: 0.9805 - val_loss: 0.1421 - val_acc: 0.9650\n",
      "Epoch 58/100\n",
      "1131/1131 [==============================] - 0s 55us/step - loss: 0.0644 - acc: 0.9805 - val_loss: 0.1349 - val_acc: 0.9712\n",
      "Epoch 59/100\n",
      "1131/1131 [==============================] - 0s 57us/step - loss: 0.0652 - acc: 0.9823 - val_loss: 0.1414 - val_acc: 0.9712\n",
      "Epoch 60/100\n",
      "1131/1131 [==============================] - 0s 59us/step - loss: 0.0653 - acc: 0.9814 - val_loss: 0.1378 - val_acc: 0.9691\n",
      "Epoch 61/100\n",
      "1131/1131 [==============================] - 0s 55us/step - loss: 0.0627 - acc: 0.9832 - val_loss: 0.1411 - val_acc: 0.9691\n",
      "Epoch 62/100\n",
      "1131/1131 [==============================] - 0s 55us/step - loss: 0.0634 - acc: 0.9814 - val_loss: 0.1401 - val_acc: 0.9712\n",
      "Epoch 63/100\n",
      "1131/1131 [==============================] - 0s 64us/step - loss: 0.0669 - acc: 0.9797 - val_loss: 0.1462 - val_acc: 0.9712\n",
      "Epoch 64/100\n",
      "1131/1131 [==============================] - 0s 55us/step - loss: 0.0670 - acc: 0.9779 - val_loss: 0.1447 - val_acc: 0.9671\n",
      "Epoch 65/100\n",
      "1131/1131 [==============================] - 0s 57us/step - loss: 0.0615 - acc: 0.9823 - val_loss: 0.1377 - val_acc: 0.9733\n",
      "Epoch 66/100\n",
      "1131/1131 [==============================] - 0s 59us/step - loss: 0.0604 - acc: 0.9805 - val_loss: 0.1438 - val_acc: 0.9691\n",
      "Epoch 67/100\n",
      "1131/1131 [==============================] - 0s 60us/step - loss: 0.0592 - acc: 0.9841 - val_loss: 0.1360 - val_acc: 0.9753\n",
      "Epoch 68/100\n",
      "1131/1131 [==============================] - 0s 55us/step - loss: 0.0631 - acc: 0.9805 - val_loss: 0.1390 - val_acc: 0.9712\n",
      "Epoch 69/100\n",
      "1131/1131 [==============================] - 0s 64us/step - loss: 0.0731 - acc: 0.9779 - val_loss: 0.1463 - val_acc: 0.9671\n",
      "Epoch 70/100\n",
      "1131/1131 [==============================] - 0s 69us/step - loss: 0.0586 - acc: 0.9823 - val_loss: 0.1435 - val_acc: 0.9712\n",
      "Epoch 71/100\n",
      "1131/1131 [==============================] - 0s 67us/step - loss: 0.0587 - acc: 0.9841 - val_loss: 0.1387 - val_acc: 0.9712\n",
      "Epoch 72/100\n",
      "1131/1131 [==============================] - 0s 58us/step - loss: 0.0563 - acc: 0.9850 - val_loss: 0.1385 - val_acc: 0.9733\n",
      "Epoch 73/100\n",
      "1131/1131 [==============================] - 0s 60us/step - loss: 0.0550 - acc: 0.9850 - val_loss: 0.1365 - val_acc: 0.9753\n",
      "Epoch 74/100\n",
      "1131/1131 [==============================] - 0s 54us/step - loss: 0.0583 - acc: 0.9814 - val_loss: 0.1451 - val_acc: 0.9733\n",
      "Epoch 75/100\n",
      "1131/1131 [==============================] - 0s 55us/step - loss: 0.0598 - acc: 0.9841 - val_loss: 0.1499 - val_acc: 0.9733\n",
      "Epoch 76/100\n",
      "1131/1131 [==============================] - 0s 58us/step - loss: 0.0604 - acc: 0.9805 - val_loss: 0.1443 - val_acc: 0.9691\n",
      "Epoch 77/100\n",
      "1131/1131 [==============================] - 0s 55us/step - loss: 0.0560 - acc: 0.9850 - val_loss: 0.1397 - val_acc: 0.9733\n",
      "Epoch 78/100\n",
      "1131/1131 [==============================] - 0s 53us/step - loss: 0.0555 - acc: 0.9823 - val_loss: 0.1368 - val_acc: 0.9774\n",
      "Epoch 79/100\n",
      "1131/1131 [==============================] - 0s 61us/step - loss: 0.0564 - acc: 0.9823 - val_loss: 0.1390 - val_acc: 0.9774\n",
      "Epoch 80/100\n",
      "1131/1131 [==============================] - 0s 58us/step - loss: 0.0552 - acc: 0.9850 - val_loss: 0.1478 - val_acc: 0.9691\n",
      "Epoch 81/100\n",
      "1131/1131 [==============================] - 0s 56us/step - loss: 0.0530 - acc: 0.9850 - val_loss: 0.1487 - val_acc: 0.9691\n",
      "Epoch 82/100\n",
      "1131/1131 [==============================] - 0s 58us/step - loss: 0.0553 - acc: 0.9814 - val_loss: 0.1556 - val_acc: 0.9650\n",
      "Epoch 83/100\n",
      "1131/1131 [==============================] - 0s 55us/step - loss: 0.0624 - acc: 0.9797 - val_loss: 0.1376 - val_acc: 0.9774\n",
      "Epoch 84/100\n",
      "1131/1131 [==============================] - 0s 55us/step - loss: 0.0527 - acc: 0.9850 - val_loss: 0.1399 - val_acc: 0.9774\n",
      "Epoch 85/100\n",
      "1131/1131 [==============================] - 0s 59us/step - loss: 0.0525 - acc: 0.9841 - val_loss: 0.1389 - val_acc: 0.9774\n",
      "Epoch 86/100\n",
      "1131/1131 [==============================] - 0s 57us/step - loss: 0.0502 - acc: 0.9859 - val_loss: 0.1452 - val_acc: 0.9712\n",
      "Epoch 87/100\n",
      "1131/1131 [==============================] - 0s 61us/step - loss: 0.0500 - acc: 0.9850 - val_loss: 0.1444 - val_acc: 0.9712\n",
      "Epoch 88/100\n",
      "1131/1131 [==============================] - 0s 55us/step - loss: 0.0504 - acc: 0.9841 - val_loss: 0.1417 - val_acc: 0.9753\n",
      "Epoch 89/100\n",
      "1131/1131 [==============================] - 0s 52us/step - loss: 0.0517 - acc: 0.9867 - val_loss: 0.1475 - val_acc: 0.9671\n",
      "Epoch 90/100\n",
      "1131/1131 [==============================] - 0s 54us/step - loss: 0.0508 - acc: 0.9850 - val_loss: 0.1436 - val_acc: 0.9774\n",
      "Epoch 91/100\n",
      "1131/1131 [==============================] - 0s 53us/step - loss: 0.0526 - acc: 0.9850 - val_loss: 0.1376 - val_acc: 0.9774\n",
      "Epoch 92/100\n",
      "1131/1131 [==============================] - 0s 60us/step - loss: 0.0499 - acc: 0.9867 - val_loss: 0.1429 - val_acc: 0.9753\n",
      "Epoch 93/100\n",
      "1131/1131 [==============================] - 0s 53us/step - loss: 0.0508 - acc: 0.9859 - val_loss: 0.1482 - val_acc: 0.9712\n",
      "Epoch 94/100\n",
      "1131/1131 [==============================] - 0s 53us/step - loss: 0.0503 - acc: 0.9859 - val_loss: 0.1360 - val_acc: 0.9774\n",
      "Epoch 95/100\n",
      "1131/1131 [==============================] - 0s 61us/step - loss: 0.0497 - acc: 0.9850 - val_loss: 0.1401 - val_acc: 0.9774\n",
      "Epoch 96/100\n",
      "1131/1131 [==============================] - 0s 58us/step - loss: 0.0472 - acc: 0.9859 - val_loss: 0.1565 - val_acc: 0.9671\n",
      "Epoch 97/100\n",
      "1131/1131 [==============================] - 0s 71us/step - loss: 0.0470 - acc: 0.9885 - val_loss: 0.1383 - val_acc: 0.9753\n",
      "Epoch 98/100\n",
      "1131/1131 [==============================] - 0s 59us/step - loss: 0.0474 - acc: 0.9859 - val_loss: 0.1382 - val_acc: 0.9753\n",
      "Epoch 99/100\n",
      "1131/1131 [==============================] - 0s 54us/step - loss: 0.0526 - acc: 0.9797 - val_loss: 0.1409 - val_acc: 0.9753\n",
      "Epoch 100/100\n",
      "1131/1131 [==============================] - 0s 56us/step - loss: 0.0468 - acc: 0.9859 - val_loss: 0.1442 - val_acc: 0.9733\n"
     ]
    }
   ],
   "source": [
    "history = model.fit(X_train, Y_train, validation_data=(X_val, Y_val) ,epochs = 100)"
   ]
  },
  {
   "cell_type": "code",
   "execution_count": null,
   "metadata": {
    "id": "sM9XFoqtvMZf"
   },
   "outputs": [],
   "source": [
    "prediction = model.predict(X_test)"
   ]
  },
  {
   "cell_type": "code",
   "execution_count": null,
   "metadata": {
    "colab": {
     "base_uri": "https://localhost:8080/",
     "height": 254
    },
    "id": "yvLhUQtsvMjb",
    "outputId": "59ef0935-8502-48c3-c8ca-a8279482a3ed"
   },
   "outputs": [
    {
     "data": {
      "text/plain": [
       "array([[2.1565198e-26, 9.9999988e-01, 6.5064887e-09, ..., 1.8815097e-11,\n",
       "        4.1323736e-11, 7.2935254e-17],\n",
       "       [1.4258785e-14, 2.0101574e-08, 2.4653892e-14, ..., 1.5795626e-10,\n",
       "        9.9998248e-01, 6.8065581e-11],\n",
       "       [1.6246929e-27, 9.9999988e-01, 2.7776842e-08, ..., 2.7035612e-11,\n",
       "        3.9489179e-19, 2.2177704e-20],\n",
       "       ...,\n",
       "       [1.5992461e-14, 1.1208834e-10, 1.1435838e-14, ..., 4.7471509e-11,\n",
       "        9.9999976e-01, 1.3368705e-10],\n",
       "       [1.9143547e-04, 8.8589331e-09, 1.0432067e-03, ..., 9.9664491e-01,\n",
       "        2.3128875e-16, 3.5322797e-12],\n",
       "       [8.9153407e-10, 1.2853208e-05, 3.6283240e-11, ..., 2.4229544e-06,\n",
       "        7.6117940e-12, 1.5119327e-12]], dtype=float32)"
      ]
     },
     "execution_count": 246,
     "metadata": {
      "tags": []
     },
     "output_type": "execute_result"
    }
   ],
   "source": [
    "prediction"
   ]
  },
  {
   "cell_type": "code",
   "execution_count": null,
   "metadata": {
    "id": "rrHg8gDwvMnu"
   },
   "outputs": [],
   "source": [
    "prediction_classes = model.predict_classes(X_test)\n",
    "prediction_classes_val = model.predict_classes(X_val)\n"
   ]
  },
  {
   "cell_type": "code",
   "execution_count": null,
   "metadata": {
    "colab": {
     "base_uri": "https://localhost:8080/",
     "height": 599
    },
    "id": "GHkUGMWovMgM",
    "outputId": "222bdd8d-c4f6-4202-ca38-4fb6a96bb207"
   },
   "outputs": [
    {
     "data": {
      "text/plain": [
       "array([1, 5, 1, 2, 5, 2, 0, 2, 2, 0, 0, 4, 2, 1, 0, 0, 5, 6, 1, 3, 5, 6,\n",
       "       4, 5, 0, 2, 3, 2, 6, 0, 2, 3, 0, 3, 5, 5, 6, 0, 5, 4, 4, 0, 5, 3,\n",
       "       2, 5, 2, 6, 2, 0, 2, 2, 4, 0, 6, 1, 3, 1, 5, 5, 2, 2, 2, 0, 0, 3,\n",
       "       6, 6, 1, 6, 1, 6, 5, 5, 1, 4, 6, 2, 0, 1, 3, 4, 5, 6, 3, 5, 0, 0,\n",
       "       0, 3, 6, 2, 0, 0, 5, 4, 0, 6, 0, 4, 3, 2, 6, 4, 1, 0, 5, 1, 4, 6,\n",
       "       1, 0, 2, 0, 4, 5, 2, 4, 2, 1, 3, 4, 6, 2, 0, 1, 3, 0, 0, 6, 5, 0,\n",
       "       6, 2, 1, 3, 4, 6, 3, 3, 0, 1, 4, 5, 6, 6, 3, 1, 5, 0, 3, 2, 0, 1,\n",
       "       1, 0, 3, 2, 3, 4, 0, 1, 2, 4, 6, 5, 5, 4, 4, 3, 4, 2, 0, 3, 4, 0,\n",
       "       6, 3, 4, 6, 2, 3, 1, 4, 3, 5, 2, 4, 5, 4, 2, 2, 6, 2, 2, 3, 4, 4,\n",
       "       3, 4, 5, 4, 1, 4, 4, 0, 5, 5, 3, 0, 1, 1, 6, 4, 0, 3, 3, 2, 1, 3,\n",
       "       4, 6, 2, 5, 0, 3, 0, 0, 1, 6, 0, 3, 3, 5, 1, 5, 6, 5, 1, 3, 6, 0,\n",
       "       2, 3, 5, 5, 0, 0, 3, 4, 6, 1, 3, 1, 3, 4, 3, 3, 1, 1, 0, 4, 6, 5,\n",
       "       4, 1, 0, 0, 3, 0, 2, 4, 6, 0, 3, 3, 5, 4, 0, 1, 5, 2, 5, 3, 4, 2,\n",
       "       3, 2, 4, 1, 3, 2, 4, 0, 4, 3, 1, 0, 3, 0, 2, 2, 5, 5, 5, 1, 3, 1,\n",
       "       3, 1, 3, 4, 0, 4, 3, 3, 3, 3, 5, 6, 2, 1, 4, 6, 4, 0, 5, 4, 0, 3,\n",
       "       5, 2, 6, 5, 6, 0, 3, 3, 2, 1, 2, 6, 1, 6, 6, 4, 6, 1, 3, 6, 2, 5,\n",
       "       2, 4, 6, 4, 5, 6, 1, 0, 2, 1, 2, 2, 4, 0, 3, 0, 6, 3, 1, 1, 1, 5,\n",
       "       5, 2, 0, 2, 6, 3, 6, 3, 2, 4, 1, 0, 4, 2, 6, 4, 0, 0, 4, 4, 0, 0,\n",
       "       1, 2, 0, 4, 2, 5, 5, 5, 1, 5, 6, 0, 2, 4, 4, 2, 6, 0, 4, 4, 0, 1,\n",
       "       4, 2, 0, 1, 5, 6, 2, 5, 6, 2, 2, 4, 6, 6, 3, 2, 3, 1, 2, 0, 6, 4,\n",
       "       4, 6, 1, 4, 2, 0, 2, 1, 3, 1, 6, 4, 4, 1, 5, 5, 3, 3, 3, 0, 6, 5,\n",
       "       5, 5, 5, 0, 2, 2, 3, 0, 0, 3, 2, 0, 4, 4, 5, 0, 1, 3, 4, 3, 0, 5,\n",
       "       3, 1, 6, 5, 0, 2, 4, 5, 1, 0, 5, 2, 0, 1, 4, 0, 3, 6, 6, 3, 0, 3,\n",
       "       4, 6, 5, 3, 6, 6, 6, 4, 4, 6, 2, 6, 1, 6, 5, 0, 2, 3, 0, 4, 0, 1,\n",
       "       0, 6, 3, 0, 2, 5, 0, 1, 3, 6, 4, 5, 5, 5, 5, 0, 4, 5, 1, 1, 1, 4,\n",
       "       1, 0, 2, 3, 4, 2, 3, 1, 0, 0, 2, 4, 1, 4, 4, 5, 2, 5, 3, 0, 5, 0,\n",
       "       2, 2, 1, 1, 1, 4, 3, 0, 2, 3, 5, 4, 2, 2, 3, 4, 0, 4, 5, 5, 1, 1,\n",
       "       1, 6, 6, 5, 2, 1, 4, 6, 4, 0, 3, 3, 1, 6, 6, 0, 2, 1, 6, 2, 4, 1,\n",
       "       0, 3, 2, 1, 6, 3, 4, 0, 0, 1, 3, 0, 0, 2, 3, 0, 6, 0, 2, 1, 3, 6,\n",
       "       3, 2, 2, 4, 2, 3, 4, 3, 6, 4, 3, 1, 3, 1, 0, 3, 3, 5, 1, 0, 6, 1,\n",
       "       5, 4, 4, 2, 1, 5, 4, 0, 0, 4, 1, 4, 1, 6, 3, 1, 0, 0, 2, 2, 5, 4,\n",
       "       3, 1, 6, 5, 6, 3, 2, 3, 5, 4, 3])"
      ]
     },
     "execution_count": 248,
     "metadata": {
      "tags": []
     },
     "output_type": "execute_result"
    }
   ],
   "source": [
    "prediction_classes"
   ]
  },
  {
   "cell_type": "code",
   "execution_count": null,
   "metadata": {
    "colab": {
     "base_uri": "https://localhost:8080/",
     "height": 145
    },
    "id": "y7YXBhF0vMeK",
    "outputId": "3f8987b3-f81a-4a98-9775-d06ebdbeca1b"
   },
   "outputs": [
    {
     "data": {
      "text/plain": [
       "array([[0., 1., 0., ..., 0., 0., 0.],\n",
       "       [0., 0., 0., ..., 0., 1., 0.],\n",
       "       [0., 1., 0., ..., 0., 0., 0.],\n",
       "       ...,\n",
       "       [0., 0., 0., ..., 0., 1., 0.],\n",
       "       [0., 0., 0., ..., 1., 0., 0.],\n",
       "       [0., 0., 0., ..., 0., 0., 0.]], dtype=float32)"
      ]
     },
     "execution_count": 249,
     "metadata": {
      "tags": []
     },
     "output_type": "execute_result"
    }
   ],
   "source": [
    "Y_test"
   ]
  },
  {
   "cell_type": "markdown",
   "metadata": {
    "id": "U8ttCIdUjNvw"
   },
   "source": [
    "# 5) Plot the confusion matrix and describe two of the errors which were made by the model."
   ]
  },
  {
   "cell_type": "markdown",
   "metadata": {
    "id": "6E9EF3k9jsp9"
   },
   "source": [
    "### Confusion matrix"
   ]
  },
  {
   "cell_type": "code",
   "execution_count": null,
   "metadata": {
    "colab": {
     "base_uri": "https://localhost:8080/",
     "height": 145
    },
    "id": "VOTkHysOvMXW",
    "outputId": "08ba2244-6641-41fd-bf6c-9ac37e4676f4"
   },
   "outputs": [
    {
     "data": {
      "text/plain": [
       "array([[110,   0,   0,   0,   0,   0,   0],\n",
       "       [  0,  94,   0,   0,   0,   0,   0],\n",
       "       [  2,   0,  91,   2,   6,   0,   0],\n",
       "       [  0,   0,   1, 104,   4,   1,   0],\n",
       "       [  4,   0,   7,   1,  94,   0,   0],\n",
       "       [  0,   0,   0,   0,   0,  87,   0],\n",
       "       [  0,   0,   0,   0,   0,   0,  85]])"
      ]
     },
     "execution_count": 250,
     "metadata": {
      "tags": []
     },
     "output_type": "execute_result"
    }
   ],
   "source": [
    "confusion_matrix(np.argmax(Y_test,1), prediction_classes)"
   ]
  },
  {
   "cell_type": "markdown",
   "metadata": {
    "id": "Tt3C_XTljwAy"
   },
   "source": [
    "## Mean square errors"
   ]
  },
  {
   "cell_type": "code",
   "execution_count": null,
   "metadata": {
    "id": "Hjo3tu-FkbzL"
   },
   "outputs": [],
   "source": [
    "val_prediction = model.predict(X_val)"
   ]
  },
  {
   "cell_type": "markdown",
   "metadata": {
    "id": "JasUUsKWk3gn"
   },
   "source": [
    "### For the validation\n"
   ]
  },
  {
   "cell_type": "code",
   "execution_count": null,
   "metadata": {
    "colab": {
     "base_uri": "https://localhost:8080/",
     "height": 35
    },
    "id": "gDuwrNPjj3c0",
    "outputId": "29479fcf-8cdc-41bb-c10c-7b7a8b7758f2"
   },
   "outputs": [
    {
     "data": {
      "text/plain": [
       "0.0063390606"
      ]
     },
     "execution_count": 252,
     "metadata": {
      "tags": []
     },
     "output_type": "execute_result"
    }
   ],
   "source": [
    "mean_squared_error(Y_val, val_prediction)"
   ]
  },
  {
   "cell_type": "markdown",
   "metadata": {
    "id": "FgCf7gANk9Zo"
   },
   "source": [
    "### For the prediction"
   ]
  },
  {
   "cell_type": "code",
   "execution_count": null,
   "metadata": {
    "colab": {
     "base_uri": "https://localhost:8080/",
     "height": 35
    },
    "id": "XklyxN_XksAD",
    "outputId": "36fcabfc-bac5-47ec-d792-ccf380a55ebe"
   },
   "outputs": [
    {
     "data": {
      "text/plain": [
       "0.008710656"
      ]
     },
     "execution_count": 253,
     "metadata": {
      "tags": []
     },
     "output_type": "execute_result"
    }
   ],
   "source": [
    "mean_squared_error(Y_test,prediction)"
   ]
  },
  {
   "cell_type": "markdown",
   "metadata": {
    "id": "UrsHDR1ly6ll"
   },
   "source": [
    "# 6. Accuracy\n"
   ]
  },
  {
   "cell_type": "markdown",
   "metadata": {
    "id": "APpWEDj2lVbp"
   },
   "source": [
    "### For the test"
   ]
  },
  {
   "cell_type": "code",
   "execution_count": null,
   "metadata": {
    "colab": {
     "base_uri": "https://localhost:8080/",
     "height": 35
    },
    "id": "SbTwLDynVu7l",
    "outputId": "4fca33c9-9fca-4aee-9199-96f501336be9"
   },
   "outputs": [
    {
     "data": {
      "text/plain": [
       "0.9595959595959596"
      ]
     },
     "execution_count": 258,
     "metadata": {
      "tags": []
     },
     "output_type": "execute_result"
    }
   ],
   "source": [
    "accuracy_score(np.argmax(Y_test,1), prediction_classes)"
   ]
  },
  {
   "cell_type": "markdown",
   "metadata": {
    "id": "r96IVOMhWR8o"
   },
   "source": [
    "### For the validation"
   ]
  },
  {
   "cell_type": "code",
   "execution_count": null,
   "metadata": {
    "colab": {
     "base_uri": "https://localhost:8080/",
     "height": 35
    },
    "id": "im1EwfcaWWLx",
    "outputId": "07b4c290-555a-4dd8-c662-ef7e24826d1e"
   },
   "outputs": [
    {
     "data": {
      "text/plain": [
       "0.9732510288065843"
      ]
     },
     "execution_count": 255,
     "metadata": {
      "tags": []
     },
     "output_type": "execute_result"
    }
   ],
   "source": [
    "accuracy_score(np.argmax(Y_val,1), prediction_classes_val)"
   ]
  },
  {
   "cell_type": "markdown",
   "metadata": {
    "id": "DFArDoYszFz4"
   },
   "source": [
    "# 7. Plot"
   ]
  },
  {
   "cell_type": "code",
   "execution_count": null,
   "metadata": {
    "id": "e_z3YDsMy_cK"
   },
   "outputs": [],
   "source": [
    "def plot_hist(h, xsize=6, ysize=10):\n",
    "\n",
    "    fig_size = plt.rcParams[\"figure.figsize\"]\n",
    "    plt.rcParams[\"figure.figsize\"] = [xsize, ysize]\n",
    "    fig, axes = plt.subplots(nrows=1, ncols=1, sharex=True)\n",
    "    \n",
    "    # summarize history for Accuracy\n",
    "    plt.subplot(211)\n",
    "    plt.plot(h['acc'])\n",
    "    plt.plot(h['val_acc'])\n",
    "    plt.title('Training Performance')\n",
    "    plt.ylabel('Accuracy')\n",
    "    plt.xlabel('Epochs')\n",
    "    plt.legend(['Train', 'Validation'], loc='best')\n",
    "    \n",
    "    plt.draw()\n",
    "    plt.show()\n",
    "\n",
    "    return"
   ]
  },
  {
   "cell_type": "code",
   "execution_count": null,
   "metadata": {
    "colab": {
     "base_uri": "https://localhost:8080/",
     "height": 374
    },
    "id": "WfLl08Y3y_qA",
    "outputId": "13a58ac1-4616-429c-82a8-144a90af99b5"
   },
   "outputs": [
    {
     "data": {
      "image/png": "[encoded data removed]",
      "text/plain": [
       "<Figure size 576x864 with 1 Axes>"
      ]
     },
     "metadata": {
      "tags": []
     },
     "output_type": "display_data"
    }
   ],
   "source": [
    "plot_hist(history.history, xsize=8, ysize=12)"
   ]
  },
  {
   "cell_type": "markdown",
   "metadata": {
    "id": "RS3eiMtwY0vN"
   },
   "source": [
    "# 8. Conclusion"
   ]
  },
  {
   "cell_type": "markdown",
   "metadata": {
    "id": "DzlEphtGY7Ux"
   },
   "source": [
    "We still have an overfitting! Because the predicting data is perfectly fitted in the training . Another reason could be the meansquare errors too small."
   ]
  },
  {
   "cell_type": "markdown",
   "metadata": {
    "id": "4Qrrd3usf_7V"
   },
   "source": [
    "And we notic that after **Scalling** the performance of the Same Models has increased."
   ]
  },
  {
   "cell_type": "markdown",
   "metadata": {
    "id": "KyabfRoxxekk"
   },
   "source": [
    "# 9 Saving the model"
   ]
  },
  {
   "cell_type": "markdown",
   "metadata": {
    "id": "uSAkaW5wxrs0"
   },
   "source": [
    "### Save the model to the local disk\n",
    "\n",
    "\n"
   ]
  },
  {
   "cell_type": "code",
   "execution_count": null,
   "metadata": {
    "id": "iwPWfEBBy_tB"
   },
   "outputs": [],
   "source": [
    "model_json = model.to_json()\n",
    "with open(\"model.json\", \"w\") as json_file:\n",
    "    json_file.write(model_json)"
   ]
  },
  {
   "cell_type": "markdown",
   "metadata": {
    "id": "6S7g_j_AyQly"
   },
   "source": [
    "## Save the model's weights to the local disk"
   ]
  },
  {
   "cell_type": "code",
   "execution_count": null,
   "metadata": {
    "id": "Lc4FR4IMy_y_"
   },
   "outputs": [],
   "source": [
    "model.save_weights(\"model_weights.h5\")"
   ]
  },
  {
   "cell_type": "markdown",
   "metadata": {
    "id": "xs33LPn9yUWR"
   },
   "source": [
    "### Load the model back into memory\n",
    "\n",
    "We first read in the JSON file then make use of *model_from_json* which we obtained as an import at the top of this script: *from keras.models import model_from_json*"
   ]
  },
  {
   "cell_type": "code",
   "execution_count": null,
   "metadata": {
    "id": "ZM2-YkP4y_3F"
   },
   "outputs": [],
   "source": [
    "json_file = open('model.json', 'r')\n",
    "loaded_model_as_json = json_file.read()\n",
    "json_file.close()\n",
    "restored_model = model_from_json(loaded_model_as_json)"
   ]
  },
  {
   "cell_type": "markdown",
   "metadata": {
    "id": "ILDYhfflyv7v"
   },
   "source": [
    "## Load the weights back into memory"
   ]
  },
  {
   "cell_type": "code",
   "execution_count": null,
   "metadata": {
    "id": "_awJcWWyy_wi"
   },
   "outputs": [],
   "source": [
    "restored_model.load_weights(\"model_weights.h5\")"
   ]
  },
  {
   "cell_type": "markdown",
   "metadata": {
    "id": "ykzoh2b3y3rj"
   },
   "source": [
    "## Re-compile the model!"
   ]
  },
  {
   "cell_type": "code",
   "execution_count": null,
   "metadata": {
    "id": "6xcHT-yGy9ix"
   },
   "outputs": [],
   "source": [
    "restored_model.compile(loss='binary_crossentropy', optimizer='rmsprop', metrics=['accuracy'])"
   ]
  },
  {
   "cell_type": "markdown",
   "metadata": {
    "id": "gT0C1UdQy8A3"
   },
   "source": [
    "## Resume training, predict or perform other tasks\n",
    "\n",
    "\n",
    "\n",
    "\n",
    "\n",
    "\n",
    "\n"
   ]
  },
  {
   "cell_type": "code",
   "execution_count": null,
   "metadata": {
    "colab": {
     "base_uri": "https://localhost:8080/",
     "height": 126
    },
    "id": "VShA-ph2zH2y",
    "outputId": "86329122-7051-4e04-e06d-a5f6fcd5c2b1"
   },
   "outputs": [
    {
     "name": "stdout",
     "output_type": "stream",
     "text": [
      "Train on 1131 samples, validate on 486 samples\n",
      "Epoch 1/2\n",
      "1131/1131 [==============================] - 1s 1ms/step - loss: 0.0148 - acc: 0.9942 - val_loss: 0.0366 - val_acc: 0.9915\n",
      "Epoch 2/2\n",
      "1131/1131 [==============================] - 0s 239us/step - loss: 0.0145 - acc: 0.9947 - val_loss: 0.0369 - val_acc: 0.9918\n"
     ]
    },
    {
     "data": {
      "text/plain": [
       "<keras.callbacks.History at 0x7f189797acc0>"
      ]
     },
     "execution_count": 285,
     "metadata": {
      "tags": []
     },
     "output_type": "execute_result"
    }
   ],
   "source": [
    "restored_model.fit(X_train, Y_train, validation_data=(X_val, Y_val), epochs=2, batch_size=8, verbose=1)"
   ]
  },
  {
   "cell_type": "code",
   "execution_count": null,
   "metadata": {
    "id": "K46uB6in1TGp"
   },
   "outputs": [],
   "source": [
    "prediction_classes_val_restored = restored_model.predict_classes(X_val)\n"
   ]
  },
  {
   "cell_type": "markdown",
   "metadata": {
    "id": "_JdxdHA96X_w"
   },
   "source": [
    "## Check the accuracy of the restored model"
   ]
  },
  {
   "cell_type": "code",
   "execution_count": null,
   "metadata": {
    "colab": {
     "base_uri": "https://localhost:8080/",
     "height": 35
    },
    "id": "eTawOgRR1oFL",
    "outputId": "3682609c-f534-402e-a514-cdc5ffb6abf7"
   },
   "outputs": [
    {
     "data": {
      "text/plain": [
       "0.9711934156378601"
      ]
     },
     "execution_count": 287,
     "metadata": {
      "tags": []
     },
     "output_type": "execute_result"
    }
   ],
   "source": [
    "accuracy_score(np.argmax(Y_val,1), prediction_classes_val_restored)"
   ]
  },
  {
   "cell_type": "markdown",
   "metadata": {
    "id": "LlitjQQu2Z2V"
   },
   "source": [
    "## Notice"
   ]
  },
  {
   "cell_type": "markdown",
   "metadata": {
    "id": "VTOaosFp2B9Q"
   },
   "source": [
    "We notice that the accuracy of the restored model is approximatively the same as the accuracy of the model before saving.\n",
    "\n"
   ]
  },
  {
   "cell_type": "code",
   "execution_count": null,
   "metadata": {
    "id": "BZj5fZKqfW2E"
   },
   "outputs": [],
   "source": []
  }
 ],
 "metadata": {
  "colab": {
   "collapsed_sections": [],
   "name": "jérémie_bakambana_assign_1_scaling.ipynb",
   "provenance": []
  },
  "kernelspec": {
   "display_name": "Python 3",
   "language": "python",
   "name": "python3"
  },
  "language_info": {
   "codemirror_mode": {
    "name": "ipython",
    "version": 3
   },
   "file_extension": ".py",
   "mimetype": "text/x-python",
   "name": "python",
   "nbconvert_exporter": "python",
   "pygments_lexer": "ipython3",
   "version": "3.7.4"
  }
 },
 "nbformat": 4,
 "nbformat_minor": 1
}
