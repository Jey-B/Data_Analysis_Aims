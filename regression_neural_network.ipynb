{
 "cells": [
  {
   "cell_type": "markdown",
   "metadata": {
    "id": "OpPhNErAUooE"
   },
   "source": [
    "## Regression as Neural Networks \n",
    "\n",
    "### jey@aims.ac.za\n"
   ]
  },
  {
   "cell_type": "markdown",
   "metadata": {},
   "source": [
    "# Module importation"
   ]
  },
  {
   "cell_type": "code",
   "execution_count": null,
   "metadata": {
    "colab": {
     "base_uri": "https://localhost:8080/",
     "height": 35
    },
    "id": "Q4LD_Pdn30L6",
    "outputId": "d524b27c-a9cd-4d18-ba41-0de04d1be887"
   },
   "outputs": [
    {
     "name": "stdout",
     "output_type": "stream",
     "text": [
      "1.15.0\n"
     ]
    }
   ],
   "source": [
    "import pandas as pd\n",
    "from sklearn.model_selection import train_test_split\n",
    "import numpy as np\n",
    "np.random.seed(1337) # for reproducibility\n",
    "from keras.models import Sequential\n",
    "from keras.models import model_from_json\n",
    "from keras.layers import Dense\n",
    "from keras import metrics\n",
    "from keras.wrappers.scikit_learn import KerasRegressor\n",
    "from sklearn.metrics import mean_squared_error\n",
    "from sklearn.preprocessing import StandardScaler\n",
    "from tensorflow import set_random_seed\n",
    "import matplotlib.pyplot as plt\n",
    "from sklearn.metrics import accuracy_score, confusion_matrix\n",
    "\n",
    "\n",
    "%tensorflow_version 1.x\n",
    "import tensorflow as tf\n",
    "print(tf.__version__)"
   ]
  },
  {
   "cell_type": "markdown",
   "metadata": {
    "id": "H1VWGvj2zI8B"
   },
   "source": [
    "## Load the dataset"
   ]
  },
  {
   "cell_type": "code",
   "execution_count": null,
   "metadata": {
    "id": "wae_HjknzI8E"
   },
   "outputs": [],
   "source": [
    "dataset = pd.read_csv('https://drive.google.com/uc?export=download&id=1_V51YRx3O1A3-BqTIwQmmSo_rfOjgyry', delim_whitespace=True)"
   ]
  },
  {
   "cell_type": "code",
   "execution_count": null,
   "metadata": {
    "colab": {
     "base_uri": "https://localhost:8080/",
     "height": 198
    },
    "id": "uNmmVHOx44vL",
    "outputId": "8834e0a6-ee60-4413-cb06-0462c06d2e11"
   },
   "outputs": [
    {
     "data": {
      "text/html": [
       "<div>\n",
       "<style scoped>\n",
       "    .dataframe tbody tr th:only-of-type {\n",
       "        vertical-align: middle;\n",
       "    }\n",
       "\n",
       "    .dataframe tbody tr th {\n",
       "        vertical-align: top;\n",
       "    }\n",
       "\n",
       "    .dataframe thead th {\n",
       "        text-align: right;\n",
       "    }\n",
       "</style>\n",
       "<table border=\"1\" class=\"dataframe\">\n",
       "  <thead>\n",
       "    <tr style=\"text-align: right;\">\n",
       "      <th></th>\n",
       "      <th>AT</th>\n",
       "      <th>V</th>\n",
       "      <th>AP</th>\n",
       "      <th>RH</th>\n",
       "      <th>PE</th>\n",
       "    </tr>\n",
       "  </thead>\n",
       "  <tbody>\n",
       "    <tr>\n",
       "      <th>0</th>\n",
       "      <td>14.96</td>\n",
       "      <td>41.76</td>\n",
       "      <td>1024.07</td>\n",
       "      <td>73.17</td>\n",
       "      <td>463.26</td>\n",
       "    </tr>\n",
       "    <tr>\n",
       "      <th>1</th>\n",
       "      <td>25.18</td>\n",
       "      <td>62.96</td>\n",
       "      <td>1020.04</td>\n",
       "      <td>59.08</td>\n",
       "      <td>444.37</td>\n",
       "    </tr>\n",
       "    <tr>\n",
       "      <th>2</th>\n",
       "      <td>5.11</td>\n",
       "      <td>39.40</td>\n",
       "      <td>1012.16</td>\n",
       "      <td>92.14</td>\n",
       "      <td>488.56</td>\n",
       "    </tr>\n",
       "    <tr>\n",
       "      <th>3</th>\n",
       "      <td>20.86</td>\n",
       "      <td>57.32</td>\n",
       "      <td>1010.24</td>\n",
       "      <td>76.64</td>\n",
       "      <td>446.48</td>\n",
       "    </tr>\n",
       "    <tr>\n",
       "      <th>4</th>\n",
       "      <td>10.82</td>\n",
       "      <td>37.50</td>\n",
       "      <td>1009.23</td>\n",
       "      <td>96.62</td>\n",
       "      <td>473.90</td>\n",
       "    </tr>\n",
       "  </tbody>\n",
       "</table>\n",
       "</div>"
      ],
      "text/plain": [
       "      AT      V       AP     RH      PE\n",
       "0  14.96  41.76  1024.07  73.17  463.26\n",
       "1  25.18  62.96  1020.04  59.08  444.37\n",
       "2   5.11  39.40  1012.16  92.14  488.56\n",
       "3  20.86  57.32  1010.24  76.64  446.48\n",
       "4  10.82  37.50  1009.23  96.62  473.90"
      ]
     },
     "execution_count": 3,
     "metadata": {
      "tags": []
     },
     "output_type": "execute_result"
    }
   ],
   "source": [
    "\n",
    "dataset.head()\n"
   ]
  },
  {
   "cell_type": "code",
   "execution_count": null,
   "metadata": {
    "id": "ebGlJmy6WiVV"
   },
   "outputs": [],
   "source": [
    "# Your remaining code here.\n",
    "# Create additional cells and place your code neatly for easy readability. You can add a new cell by clicking on the `+ Code` button on the top left."
   ]
  },
  {
   "cell_type": "code",
   "execution_count": null,
   "metadata": {
    "id": "6FS4XHR98g7u"
   },
   "outputs": [],
   "source": [
    "# We convert our dataset to a numpy array\n",
    "datatrain = dataset.values"
   ]
  },
  {
   "cell_type": "code",
   "execution_count": null,
   "metadata": {
    "id": "9SfqUtM3-Wjr"
   },
   "outputs": [],
   "source": []
  },
  {
   "cell_type": "code",
   "execution_count": null,
   "metadata": {
    "colab": {
     "base_uri": "https://localhost:8080/",
     "height": 145
    },
    "id": "E-ySa8q17X23",
    "outputId": "912a399d-1edd-45ee-8a5a-e6798c30e8b1"
   },
   "outputs": [
    {
     "data": {
      "text/plain": [
       "array([[  14.96,   41.76, 1024.07,   73.17,  463.26],\n",
       "       [  25.18,   62.96, 1020.04,   59.08,  444.37],\n",
       "       [   5.11,   39.4 , 1012.16,   92.14,  488.56],\n",
       "       ...,\n",
       "       [  31.32,   74.33, 1012.92,   36.48,  429.57],\n",
       "       [  24.48,   69.45, 1013.86,   62.39,  435.74],\n",
       "       [  21.6 ,   62.52, 1017.23,   67.87,  453.28]])"
      ]
     },
     "execution_count": 6,
     "metadata": {
      "tags": []
     },
     "output_type": "execute_result"
    }
   ],
   "source": [
    "datatrain # visualization"
   ]
  },
  {
   "cell_type": "code",
   "execution_count": null,
   "metadata": {
    "colab": {
     "base_uri": "https://localhost:8080/",
     "height": 35
    },
    "id": "ShsKbExK7dV2",
    "outputId": "b2d29f85-a9b2-4985-efe5-f0dd764b9b4b"
   },
   "outputs": [
    {
     "data": {
      "text/plain": [
       "(9568, 5)"
      ]
     },
     "execution_count": 7,
     "metadata": {
      "tags": []
     },
     "output_type": "execute_result"
    }
   ],
   "source": [
    "datatrain.shape # Checking the shape"
   ]
  },
  {
   "cell_type": "markdown",
   "metadata": {
    "id": "Bj1sOHiq-a54"
   },
   "source": [
    "## Spliting the data into the training and testiting"
   ]
  },
  {
   "cell_type": "code",
   "execution_count": null,
   "metadata": {
    "id": "JHLThoJc93NR"
   },
   "outputs": [],
   "source": [
    "X = datatrain[:,0:4]\n",
    "Y = datatrain[:,4]"
   ]
  },
  {
   "cell_type": "code",
   "execution_count": null,
   "metadata": {
    "colab": {
     "base_uri": "https://localhost:8080/",
     "height": 35
    },
    "id": "qITJbxdT_Kk_",
    "outputId": "c7e86b8c-c7fb-479b-b5f9-bc0dff75d03a"
   },
   "outputs": [
    {
     "data": {
      "text/plain": [
       "(9568, 4)"
      ]
     },
     "execution_count": 9,
     "metadata": {
      "tags": []
     },
     "output_type": "execute_result"
    }
   ],
   "source": [
    "X.shape"
   ]
  },
  {
   "cell_type": "code",
   "execution_count": null,
   "metadata": {
    "colab": {
     "base_uri": "https://localhost:8080/",
     "height": 35
    },
    "id": "n5mzXCYJ_OFf",
    "outputId": "43fbe202-f947-409f-f525-8247a8fa4a2b"
   },
   "outputs": [
    {
     "data": {
      "text/plain": [
       "(9568,)"
      ]
     },
     "execution_count": 10,
     "metadata": {
      "tags": []
     },
     "output_type": "execute_result"
    }
   ],
   "source": [
    "Y.shape"
   ]
  },
  {
   "cell_type": "code",
   "execution_count": null,
   "metadata": {
    "id": "TjGeFYLI_Yty"
   },
   "outputs": [],
   "source": [
    "X_train, X_test, Y_train, Y_test = train_test_split(X, Y, test_size=.3)\n",
    "X_train, X_val, Y_train, Y_val = train_test_split(X_train, Y_train, test_size=.3)"
   ]
  },
  {
   "cell_type": "code",
   "execution_count": null,
   "metadata": {
    "colab": {
     "base_uri": "https://localhost:8080/",
     "height": 54
    },
    "id": "VpjlKmD4FDhW",
    "outputId": "af3d34ba-1ede-4c26-ce58-ac505ee4135e"
   },
   "outputs": [
    {
     "name": "stdout",
     "output_type": "stream",
     "text": [
      "(4687, 4)\n",
      "(4687,)\n"
     ]
    }
   ],
   "source": [
    "print (X_train.shape)\n",
    "print (Y_train.shape)"
   ]
  },
  {
   "cell_type": "code",
   "execution_count": null,
   "metadata": {
    "colab": {
     "base_uri": "https://localhost:8080/",
     "height": 54
    },
    "id": "Jwm1tod576Uv",
    "outputId": "53879a47-8022-408e-87ac-5a2f4994b5ff"
   },
   "outputs": [
    {
     "name": "stdout",
     "output_type": "stream",
     "text": [
      "(2010, 4)\n",
      "(2010,)\n"
     ]
    }
   ],
   "source": [
    "print(X_val.shape)\n",
    "print (Y_val.shape)"
   ]
  },
  {
   "cell_type": "code",
   "execution_count": null,
   "metadata": {
    "colab": {
     "base_uri": "https://localhost:8080/",
     "height": 54
    },
    "id": "cS3BelSa8QEN",
    "outputId": "e1705fe2-5172-47be-9556-a5c02fc378ce"
   },
   "outputs": [
    {
     "name": "stdout",
     "output_type": "stream",
     "text": [
      "(2871, 4)\n",
      "(2871,)\n"
     ]
    }
   ],
   "source": [
    "print(X_test.shape)\n",
    "print (Y_test.shape)"
   ]
  },
  {
   "cell_type": "markdown",
   "metadata": {
    "id": "IrJdAgvGFGPH"
   },
   "source": [
    "# 3"
   ]
  },
  {
   "cell_type": "markdown",
   "metadata": {
    "id": "I9QMgMS_FLxc"
   },
   "source": [
    "# 4. Training various networks"
   ]
  },
  {
   "cell_type": "markdown",
   "metadata": {
    "id": "K7g2fxq7HDHt"
   },
   "source": [
    "## Create networks"
   ]
  },
  {
   "cell_type": "markdown",
   "metadata": {
    "id": "v8XAQrljF8lf"
   },
   "source": [
    "### Network1"
   ]
  },
  {
   "cell_type": "code",
   "execution_count": null,
   "metadata": {
    "id": "ebbe97wGGAKQ"
   },
   "outputs": [],
   "source": [
    "def network1():\n",
    "    \"\"\" This function create a simple network of one layer with 4 inputs and 1\n",
    "    outputs\"\"\"\n",
    "    model = Sequential()\n",
    "    model.add(Dense(4, input_dim=4, activation='relu'))\n",
    "    # add a fully connected layer for the output\n",
    "    # When an activation function is not specified Keras will use a linear one\n",
    "    model.add(Dense(1))\n",
    "    \n",
    "    # Compile model\n",
    "    model.compile(loss='mean_squared_error', \n",
    "                  optimizer='adam',\n",
    "                  metrics=[metrics.mse])\n",
    "    \n",
    "    return model"
   ]
  },
  {
   "cell_type": "markdown",
   "metadata": {
    "id": "jIjCow7gMFfM"
   },
   "source": [
    "**network1**: simple network with one layer, 4 inputs(4 features) and 4 filters between the inputs and the 1 outputs. the activation fuction used is \"**relu**\"  for the output.\n",
    "\n",
    "  Validation performance on the training was: the mean square error is 191523.55 it is too much huge."
   ]
  },
  {
   "cell_type": "markdown",
   "metadata": {
    "id": "4scYG_BTGeN0"
   },
   "source": [
    "### Network2"
   ]
  },
  {
   "cell_type": "code",
   "execution_count": null,
   "metadata": {
    "id": "gwX6e03lGjBt"
   },
   "outputs": [],
   "source": [
    "def network2():\n",
    "    \"\"\" This function create a network of 2 layers with 4 inputs and 1\n",
    "    outputs\"\"\"\n",
    "  \n",
    "    model = Sequential()\n",
    "    model.add(Dense(4, input_dim=4, activation='relu'))\n",
    "    model.add(Dense(2, activation='relu'))\n",
    "\n",
    "    # add a fully connected layer for the output\n",
    "    # When an activation function is not specified Keras will use a linear one\n",
    "    model.add(Dense(1))\n",
    "    \n",
    "    # Compile model\n",
    "    model.compile(loss='mean_squared_error', \n",
    "                  optimizer='adam',\n",
    "                  metrics=[metrics.mse])\n",
    "    \n",
    "    return model"
   ]
  },
  {
   "cell_type": "markdown",
   "metadata": {
    "id": "8tjK30lhORsi"
   },
   "source": [
    "**network2**: network with 3 layers, 4 inputs and 4 output  for layer 1, 4 inputs and 2 output  for layer 2 and 2 inputs and 1 output  for the last layer. the activation fuctions used are \"relu\".\n",
    "\n",
    "Validation performance: this time the mean square error is small then the previous one: 29.57 .\n",
    "\n"
   ]
  },
  {
   "cell_type": "markdown",
   "metadata": {
    "id": "q072TEoWG096"
   },
   "source": [
    "### Network3"
   ]
  },
  {
   "cell_type": "code",
   "execution_count": null,
   "metadata": {
    "id": "xn32E7G_FVQh"
   },
   "outputs": [],
   "source": [
    "def network3():\n",
    "    \"\"\" This function create a  network of 3 layers with 4 inputs and 1\n",
    "    outputs\"\"\"\n",
    "    model = Sequential()\n",
    "    model.add(Dense(4, input_dim=4, activation='relu'))\n",
    "    model.add(Dense(2, activation='relu'))\n",
    "    model.add(Dense(3, activation='linear'))\n",
    "\n",
    "    # add a fully connected layer for the output\n",
    "    # When an activation function is not specified Keras will use a linear one\n",
    "    model.add(Dense(1))\n",
    "    \n",
    "    # Compile model\n",
    "    model.compile(loss='mean_squared_error', \n",
    "                  optimizer='adam',\n",
    "                  metrics=[metrics.mse])\n",
    "    \n",
    "    return model"
   ]
  },
  {
   "cell_type": "markdown",
   "metadata": {
    "id": "oth5-YpZQy_b"
   },
   "source": [
    "**network3**: network with 4 layers, 4 inputs and 4 filters in layer 1, 4 inputs and 2 filters in layer 2, 2 inputs and 3 filters in layer 3, 3 inputs and 1 outputs for the last layer.  All layer are fully connected the activation fuctions used are respectively \"relu\",\"relu\" and \"lnear\".\n",
    "\n",
    "  Validation performance on the training was : the mean square error was approximatively the same as the network2: 27.42 ."
   ]
  },
  {
   "cell_type": "markdown",
   "metadata": {
    "id": "kUqyP1UlSelu"
   },
   "source": [
    "## Choice of the model"
   ]
  },
  {
   "cell_type": "markdown",
   "metadata": {
    "id": "KwpFJ2EYSj7v"
   },
   "source": [
    "Due to the validation performance, we prefer to use **network3** for the testing of our data"
   ]
  },
  {
   "cell_type": "markdown",
   "metadata": {
    "id": "UPEATtZzalop"
   },
   "source": [
    "# 5 Display and validation"
   ]
  },
  {
   "cell_type": "markdown",
   "metadata": {
    "id": "Fv1GNDg-J7Fo"
   },
   "source": [
    "## Testing the model"
   ]
  },
  {
   "cell_type": "markdown",
   "metadata": {
    "id": "Q1SmEHaxKnUF"
   },
   "source": [
    "### Initialise the model"
   ]
  },
  {
   "cell_type": "code",
   "execution_count": null,
   "metadata": {
    "id": "BpFc7vhW2gfz"
   },
   "outputs": [],
   "source": [
    "model = network3()"
   ]
  },
  {
   "cell_type": "code",
   "execution_count": null,
   "metadata": {
    "id": "RLc0GUk42gwI"
   },
   "outputs": [],
   "source": []
  },
  {
   "cell_type": "markdown",
   "metadata": {
    "id": "myovg8oAKi_G"
   },
   "source": [
    "### Determine the number of trainable parameters\n"
   ]
  },
  {
   "cell_type": "code",
   "execution_count": null,
   "metadata": {
    "colab": {
     "base_uri": "https://localhost:8080/",
     "height": 308
    },
    "id": "nD_VwNYQ2gzn",
    "outputId": "51eb29d1-a7e5-4d72-e8d7-997f52ac6b55"
   },
   "outputs": [
    {
     "name": "stdout",
     "output_type": "stream",
     "text": [
      "Model: \"sequential_7\"\n",
      "_________________________________________________________________\n",
      "Layer (type)                 Output Shape              Param #   \n",
      "=================================================================\n",
      "dense_22 (Dense)             (None, 4)                 20        \n",
      "_________________________________________________________________\n",
      "dense_23 (Dense)             (None, 2)                 10        \n",
      "_________________________________________________________________\n",
      "dense_24 (Dense)             (None, 3)                 9         \n",
      "_________________________________________________________________\n",
      "dense_25 (Dense)             (None, 1)                 4         \n",
      "=================================================================\n",
      "Total params: 43\n",
      "Trainable params: 43\n",
      "Non-trainable params: 0\n",
      "_________________________________________________________________\n"
     ]
    }
   ],
   "source": [
    "model.summary()"
   ]
  },
  {
   "cell_type": "markdown",
   "metadata": {
    "id": "9Qn_Bs4IKubo"
   },
   "source": [
    "### Fit the model"
   ]
  },
  {
   "cell_type": "code",
   "execution_count": null,
   "metadata": {
    "colab": {
     "base_uri": "https://localhost:8080/",
     "height": 1000
    },
    "id": "3-yetTic3PAz",
    "outputId": "ad8fb549-5115-4943-968a-e3bf41a56bcc",
    "scrolled": true
   },
   "outputs": [
    {
     "name": "stdout",
     "output_type": "stream",
     "text": [
      "Train on 4687 samples, validate on 2010 samples\n",
      "Epoch 1/30\n",
      "4687/4687 [==============================] - 1s 275us/step - loss: 29853.3098 - mean_squared_error: 29853.3098 - val_loss: 344.3661 - val_mean_squared_error: 344.3661\n",
      "Epoch 2/30\n",
      "4687/4687 [==============================] - 1s 166us/step - loss: 321.8311 - mean_squared_error: 321.8311 - val_loss: 312.9820 - val_mean_squared_error: 312.9820\n",
      "Epoch 3/30\n",
      "4687/4687 [==============================] - 1s 171us/step - loss: 282.4791 - mean_squared_error: 282.4791 - val_loss: 264.6281 - val_mean_squared_error: 264.6281\n",
      "Epoch 4/30\n",
      "4687/4687 [==============================] - 1s 170us/step - loss: 235.8016 - mean_squared_error: 235.8016 - val_loss: 224.4161 - val_mean_squared_error: 224.4161\n",
      "Epoch 5/30\n",
      "4687/4687 [==============================] - 1s 178us/step - loss: 185.3875 - mean_squared_error: 185.3875 - val_loss: 167.2574 - val_mean_squared_error: 167.2574\n",
      "Epoch 6/30\n",
      "4687/4687 [==============================] - 1s 165us/step - loss: 137.4998 - mean_squared_error: 137.4998 - val_loss: 117.6706 - val_mean_squared_error: 117.6706\n",
      "Epoch 7/30\n",
      "4687/4687 [==============================] - 1s 173us/step - loss: 96.6023 - mean_squared_error: 96.6023 - val_loss: 95.9530 - val_mean_squared_error: 95.9530\n",
      "Epoch 8/30\n",
      "4687/4687 [==============================] - 1s 175us/step - loss: 64.8547 - mean_squared_error: 64.8547 - val_loss: 56.5791 - val_mean_squared_error: 56.5791\n",
      "Epoch 9/30\n",
      "4687/4687 [==============================] - 1s 172us/step - loss: 44.5135 - mean_squared_error: 44.5135 - val_loss: 38.2593 - val_mean_squared_error: 38.2593\n",
      "Epoch 10/30\n",
      "4687/4687 [==============================] - 1s 172us/step - loss: 34.7023 - mean_squared_error: 34.7023 - val_loss: 32.2537 - val_mean_squared_error: 32.2537\n",
      "Epoch 11/30\n",
      "4687/4687 [==============================] - 1s 176us/step - loss: 32.1081 - mean_squared_error: 32.1081 - val_loss: 31.0726 - val_mean_squared_error: 31.0726\n",
      "Epoch 12/30\n",
      "4687/4687 [==============================] - 1s 168us/step - loss: 29.7429 - mean_squared_error: 29.7429 - val_loss: 35.3663 - val_mean_squared_error: 35.3663\n",
      "Epoch 13/30\n",
      "4687/4687 [==============================] - 1s 172us/step - loss: 30.9062 - mean_squared_error: 30.9062 - val_loss: 31.8202 - val_mean_squared_error: 31.8202\n",
      "Epoch 14/30\n",
      "4687/4687 [==============================] - 1s 173us/step - loss: 29.8706 - mean_squared_error: 29.8706 - val_loss: 46.2559 - val_mean_squared_error: 46.2559\n",
      "Epoch 15/30\n",
      "4687/4687 [==============================] - 1s 170us/step - loss: 30.1162 - mean_squared_error: 30.1162 - val_loss: 29.1333 - val_mean_squared_error: 29.1333\n",
      "Epoch 16/30\n",
      "4687/4687 [==============================] - 1s 168us/step - loss: 30.4414 - mean_squared_error: 30.4414 - val_loss: 28.4246 - val_mean_squared_error: 28.4246\n",
      "Epoch 17/30\n",
      "4687/4687 [==============================] - 1s 177us/step - loss: 30.3516 - mean_squared_error: 30.3516 - val_loss: 32.9566 - val_mean_squared_error: 32.9566\n",
      "Epoch 18/30\n",
      "4687/4687 [==============================] - 1s 171us/step - loss: 30.1332 - mean_squared_error: 30.1332 - val_loss: 30.1738 - val_mean_squared_error: 30.1738\n",
      "Epoch 19/30\n",
      "4687/4687 [==============================] - 1s 166us/step - loss: 29.7757 - mean_squared_error: 29.7757 - val_loss: 31.8763 - val_mean_squared_error: 31.8763\n",
      "Epoch 20/30\n",
      "4687/4687 [==============================] - 1s 174us/step - loss: 31.5081 - mean_squared_error: 31.5081 - val_loss: 38.0659 - val_mean_squared_error: 38.0659\n",
      "Epoch 21/30\n",
      "4687/4687 [==============================] - 1s 172us/step - loss: 29.8954 - mean_squared_error: 29.8954 - val_loss: 28.1536 - val_mean_squared_error: 28.1536\n",
      "Epoch 22/30\n",
      "4687/4687 [==============================] - 1s 171us/step - loss: 29.3131 - mean_squared_error: 29.3131 - val_loss: 27.5964 - val_mean_squared_error: 27.5964\n",
      "Epoch 23/30\n",
      "4687/4687 [==============================] - 1s 170us/step - loss: 29.5918 - mean_squared_error: 29.5918 - val_loss: 41.9113 - val_mean_squared_error: 41.9113\n",
      "Epoch 24/30\n",
      "4687/4687 [==============================] - 1s 171us/step - loss: 29.8996 - mean_squared_error: 29.8996 - val_loss: 30.0637 - val_mean_squared_error: 30.0637\n",
      "Epoch 25/30\n",
      "4687/4687 [==============================] - 1s 172us/step - loss: 28.6401 - mean_squared_error: 28.6401 - val_loss: 27.9960 - val_mean_squared_error: 27.9960\n",
      "Epoch 26/30\n",
      "4687/4687 [==============================] - 1s 169us/step - loss: 28.6674 - mean_squared_error: 28.6674 - val_loss: 29.6638 - val_mean_squared_error: 29.6638\n",
      "Epoch 27/30\n",
      "4687/4687 [==============================] - 1s 167us/step - loss: 30.0717 - mean_squared_error: 30.0717 - val_loss: 33.1821 - val_mean_squared_error: 33.1821\n",
      "Epoch 28/30\n",
      "4687/4687 [==============================] - 1s 173us/step - loss: 29.0708 - mean_squared_error: 29.0708 - val_loss: 27.2468 - val_mean_squared_error: 27.2468\n",
      "Epoch 29/30\n",
      "4687/4687 [==============================] - 1s 171us/step - loss: 29.0886 - mean_squared_error: 29.0886 - val_loss: 29.1052 - val_mean_squared_error: 29.1052\n",
      "Epoch 30/30\n",
      "4687/4687 [==============================] - 1s 168us/step - loss: 28.8333 - mean_squared_error: 28.8333 - val_loss: 27.4244 - val_mean_squared_error: 27.4244\n"
     ]
    }
   ],
   "source": [
    "history = model.fit(X_train, Y_train, validation_data = (X_val, Y_val), epochs=30, batch_size=8, verbose=1)"
   ]
  },
  {
   "cell_type": "markdown",
   "metadata": {
    "id": "uebwrRuPKS0-"
   },
   "source": [
    "### Predict on the validation data"
   ]
  },
  {
   "cell_type": "code",
   "execution_count": null,
   "metadata": {
    "id": "8xpUXs8b3PFc"
   },
   "outputs": [],
   "source": [
    "val_prediction = model.predict(X_val) # prediction of the validation data"
   ]
  },
  {
   "cell_type": "markdown",
   "metadata": {
    "id": "OI3rtIadLNeC"
   },
   "source": [
    "#### View of the top 5"
   ]
  },
  {
   "cell_type": "code",
   "execution_count": null,
   "metadata": {
    "colab": {
     "base_uri": "https://localhost:8080/",
     "height": 108
    },
    "id": "2RJk-MtCLXC8",
    "outputId": "5adb5197-1bb1-4867-f574-0c58443fb657"
   },
   "outputs": [
    {
     "data": {
      "text/plain": [
       "array([[461.12292],\n",
       "       [454.2865 ],\n",
       "       [475.78912],\n",
       "       [435.8563 ],\n",
       "       [466.34805]], dtype=float32)"
      ]
     },
     "execution_count": 88,
     "metadata": {
      "tags": []
     },
     "output_type": "execute_result"
    }
   ],
   "source": [
    "val_prediction[0:5] # View of the top 5 of the prediction"
   ]
  },
  {
   "cell_type": "code",
   "execution_count": null,
   "metadata": {
    "colab": {
     "base_uri": "https://localhost:8080/",
     "height": 35
    },
    "id": "IYua_BYJLf62",
    "outputId": "79a5562c-985a-49f3-acab-e29f905ff4b6"
   },
   "outputs": [
    {
     "data": {
      "text/plain": [
       "array([460.19, 456.44, 472.86, 434.56, 466.24])"
      ]
     },
     "execution_count": 89,
     "metadata": {
      "tags": []
     },
     "output_type": "execute_result"
    }
   ],
   "source": [
    "Y_val[0:5] # view of the top 5 of the real value"
   ]
  },
  {
   "cell_type": "markdown",
   "metadata": {
    "id": "tRM_PBddLaRR"
   },
   "source": [
    "### Mean squared error on the validation data\n"
   ]
  },
  {
   "cell_type": "code",
   "execution_count": null,
   "metadata": {
    "colab": {
     "base_uri": "https://localhost:8080/",
     "height": 35
    },
    "id": "ey6atX983P47",
    "outputId": "ce542f58-6b1b-4992-84ee-676422b676f2"
   },
   "outputs": [
    {
     "data": {
      "text/plain": [
       "27.4243730067575"
      ]
     },
     "execution_count": 90,
     "metadata": {
      "tags": []
     },
     "output_type": "execute_result"
    }
   ],
   "source": [
    "mean_squared_error(Y_val, val_prediction)"
   ]
  },
  {
   "cell_type": "markdown",
   "metadata": {
    "id": "9dyAXxl9Yqw2"
   },
   "source": [
    "## Predicition on the testing data"
   ]
  },
  {
   "cell_type": "code",
   "execution_count": null,
   "metadata": {
    "id": "Bcws9xRn9UZB"
   },
   "outputs": [],
   "source": [
    "test_prediction = model.predict(X_test) # The test prediction on the testing data"
   ]
  },
  {
   "cell_type": "code",
   "execution_count": null,
   "metadata": {
    "colab": {
     "base_uri": "https://localhost:8080/",
     "height": 145
    },
    "id": "SwsYhOmyY5fI",
    "outputId": "9ea909cb-90f0-4d03-97c4-e6e1e4452716"
   },
   "outputs": [
    {
     "data": {
      "text/plain": [
       "array([[436.253  ],\n",
       "       [468.25235],\n",
       "       [483.37073],\n",
       "       ...,\n",
       "       [456.00943],\n",
       "       [449.24893],\n",
       "       [480.26785]], dtype=float32)"
      ]
     },
     "execution_count": 95,
     "metadata": {
      "tags": []
     },
     "output_type": "execute_result"
    }
   ],
   "source": [
    "test_prediction # Visualization of the prediction"
   ]
  },
  {
   "cell_type": "code",
   "execution_count": null,
   "metadata": {
    "colab": {
     "base_uri": "https://localhost:8080/",
     "height": 35
    },
    "id": "1IwwPs0CZAJC",
    "outputId": "86562de4-c80a-4939-e42b-8ecb065f3d74"
   },
   "outputs": [
    {
     "data": {
      "text/plain": [
       "array([441.9 , 466.71, 476.9 , ..., 460.1 , 449.98, 482.79])"
      ]
     },
     "execution_count": 97,
     "metadata": {
      "tags": []
     },
     "output_type": "execute_result"
    }
   ],
   "source": [
    "Y_test # The true value"
   ]
  },
  {
   "cell_type": "markdown",
   "metadata": {
    "id": "HrxpCJMeYJGc"
   },
   "source": [
    "### Mean squared error on the testing data"
   ]
  },
  {
   "cell_type": "code",
   "execution_count": null,
   "metadata": {
    "colab": {
     "base_uri": "https://localhost:8080/",
     "height": 35
    },
    "id": "WXXDkG9e9Uls",
    "outputId": "c776e899-205b-4e04-e0a1-ad7e7bf362a1"
   },
   "outputs": [
    {
     "data": {
      "text/plain": [
       "26.344707849838258"
      ]
     },
     "execution_count": 92,
     "metadata": {
      "tags": []
     },
     "output_type": "execute_result"
    }
   ],
   "source": [
    "mean_squared_error(Y_test, test_prediction)"
   ]
  },
  {
   "cell_type": "markdown",
   "metadata": {
    "id": "9UCU3zfba5Mu"
   },
   "source": [
    "#  6. Plot"
   ]
  },
  {
   "cell_type": "code",
   "execution_count": null,
   "metadata": {
    "id": "BcZko6jU9Uw7"
   },
   "outputs": [],
   "source": [
    "def plot_hist(h, xsize=6, ysize=10):\n",
    "\n",
    "    fig_size = plt.rcParams[\"figure.figsize\"]\n",
    "    plt.rcParams[\"figure.figsize\"] = [xsize, ysize]\n",
    "    fig, axes = plt.subplots(nrows=1, ncols=1, sharex=True)\n",
    "    \n",
    "    # summarize history for Accuracy\n",
    "    plt.subplot(211)\n",
    "    plt.plot(h['mean_squared_error'])\n",
    "    plt.plot(h['val_mean_squared_error'])\n",
    "    plt.title('Training Performance')\n",
    "    plt.ylabel('Loss')\n",
    "    plt.xlabel('Epochs')\n",
    "    plt.legend(['Train', 'Validation'], loc='best')\n",
    "    \n",
    "    plt.draw()\n",
    "    plt.show()\n",
    "\n",
    "    return"
   ]
  },
  {
   "cell_type": "code",
   "execution_count": null,
   "metadata": {
    "colab": {
     "base_uri": "https://localhost:8080/",
     "height": 374
    },
    "id": "3U3QhFIL3P8L",
    "outputId": "3ef90412-30a5-499c-f240-9518de73bbdd"
   },
   "outputs": [
    {
     "data": {
      "image/png": "[encoded data removed]",
      "text/plain": [
       "<Figure size 576x864 with 1 Axes>"
      ]
     },
     "metadata": {
      "tags": []
     },
     "output_type": "display_data"
    }
   ],
   "source": [
    "plot_hist(history.history, xsize=8, ysize=12)"
   ]
  },
  {
   "cell_type": "markdown",
   "metadata": {
    "id": "RG-dc4Kla_oF"
   },
   "source": [
    "# 7. "
   ]
  },
  {
   "cell_type": "markdown",
   "metadata": {
    "id": "hBPf3egicXV-"
   },
   "source": [
    "## Save the model to the local disk"
   ]
  },
  {
   "cell_type": "code",
   "execution_count": null,
   "metadata": {
    "id": "FkNU86js3O9G"
   },
   "outputs": [],
   "source": [
    "model_json = model.to_json()\n",
    "with open(\"model.json\", \"w\") as json_file:\n",
    "    json_file.write(model_json)"
   ]
  },
  {
   "cell_type": "markdown",
   "metadata": {
    "id": "1SLwCxPXcdOA"
   },
   "source": [
    "Save the model's weights to the local disk"
   ]
  },
  {
   "cell_type": "code",
   "execution_count": null,
   "metadata": {
    "id": "Tf4YEaQB3O7b"
   },
   "outputs": [],
   "source": [
    "model.save_weights(\"model_weights.h5\")"
   ]
  },
  {
   "cell_type": "markdown",
   "metadata": {
    "id": "0OIZFRFJdmrC"
   },
   "source": [
    "### Load the model back into memory"
   ]
  },
  {
   "cell_type": "code",
   "execution_count": null,
   "metadata": {
    "id": "14BsVpZc2g6T"
   },
   "outputs": [],
   "source": [
    "json_file = open('model.json', 'r')\n",
    "loaded_model_as_json = json_file.read()\n",
    "json_file.close()\n",
    "restored_model = model_from_json(loaded_model_as_json)"
   ]
  },
  {
   "cell_type": "markdown",
   "metadata": {
    "id": "N6yjK2SzdvuZ"
   },
   "source": [
    "### Load the weights back into memory"
   ]
  },
  {
   "cell_type": "code",
   "execution_count": null,
   "metadata": {
    "id": "eYItIkjJd4Q3"
   },
   "outputs": [],
   "source": [
    "restored_model.load_weights(\"model_weights.h5\")"
   ]
  },
  {
   "cell_type": "markdown",
   "metadata": {
    "id": "aX009E4ed7pe"
   },
   "source": [
    "### Re-compile the model"
   ]
  },
  {
   "cell_type": "code",
   "execution_count": null,
   "metadata": {
    "id": "UXsyuX5ReH_7"
   },
   "outputs": [],
   "source": [
    "restored_model.compile(loss='binary_crossentropy', optimizer='rmsprop', metrics=['accuracy'])"
   ]
  },
  {
   "cell_type": "markdown",
   "metadata": {
    "id": "vCdX1DUWeN0R"
   },
   "source": [
    "### Resume training, predict or perform other tasks\n"
   ]
  },
  {
   "cell_type": "code",
   "execution_count": null,
   "metadata": {
    "colab": {
     "base_uri": "https://localhost:8080/",
     "height": 126
    },
    "id": "Pqlll9TheSG6",
    "outputId": "736fe468-0256-42c7-eb99-cf359ee42cb8"
   },
   "outputs": [
    {
     "name": "stdout",
     "output_type": "stream",
     "text": [
      "Train on 4687 samples, validate on 2871 samples\n",
      "Epoch 1/2\n",
      "4687/4687 [==============================] - 2s 333us/step - loss: -7228.9168 - acc: 4.2671e-04 - val_loss: -7221.5306 - val_acc: 0.0028\n",
      "Epoch 2/2\n",
      "4687/4687 [==============================] - 1s 203us/step - loss: -7228.9168 - acc: 4.2671e-04 - val_loss: -7221.5306 - val_acc: 0.0028\n"
     ]
    },
    {
     "data": {
      "text/plain": [
       "<keras.callbacks.History at 0x7f32c5513e48>"
      ]
     },
     "execution_count": 121,
     "metadata": {
      "tags": []
     },
     "output_type": "execute_result"
    }
   ],
   "source": [
    "restored_model.fit(X_train, Y_train, validation_data = (X_test, Y_test), epochs=2, batch_size=8, verbose=1) "
   ]
  },
  {
   "cell_type": "markdown",
   "metadata": {
    "id": "sqHSJyXuliAo"
   },
   "source": [
    "## Prediction using the restored model"
   ]
  },
  {
   "cell_type": "code",
   "execution_count": null,
   "metadata": {
    "id": "Lt-cAEeikiGF"
   },
   "outputs": [],
   "source": [
    "val_prediction_restored = restored_model.predict(X_test) # prediction of the validation data"
   ]
  },
  {
   "cell_type": "markdown",
   "metadata": {
    "id": "wazg0FQplnfx"
   },
   "source": [
    "### Checking the value"
   ]
  },
  {
   "cell_type": "code",
   "execution_count": null,
   "metadata": {
    "colab": {
     "base_uri": "https://localhost:8080/",
     "height": 35
    },
    "id": "TD3LaS6SlToA",
    "outputId": "c5e1b9eb-61de-475c-97f0-05db893a33c1"
   },
   "outputs": [
    {
     "data": {
      "text/plain": [
       "26.344707849838258"
      ]
     },
     "execution_count": 123,
     "metadata": {
      "tags": []
     },
     "output_type": "execute_result"
    }
   ],
   "source": [
    "mean_squared_error(Y_test, val_prediction_restored)"
   ]
  },
  {
   "cell_type": "markdown",
   "metadata": {
    "id": "64-dhbi6rfoc"
   },
   "source": [
    "## Notice"
   ]
  },
  {
   "cell_type": "markdown",
   "metadata": {
    "id": "hDLrzjcaqyk2"
   },
   "source": [
    "We can notice that the mean squared error of the restored model on the testing data stay the same as the we found above"
   ]
  },
  {
   "cell_type": "markdown",
   "metadata": {
    "id": "jjU3BcmEQKyN"
   },
   "source": [
    "# Tasks\n",
    "\n",
    "1) Read in the dataset. You have to decide on the correct delimiter otherwise you will not be able to proceeed. https://pandas.pydata.org/pandas-docs/stable/reference/api/pandas.read_csv.html The target variable is called `PE`.\n",
    "\n",
    "2) Split the data into training, validation and testing.\n",
    "\n",
    "3) Perform any pre-processing you wish and explain your reasoning.\n",
    "\n",
    "4) Train various neural networks. Write down in a cell using the `+ Text` button which models you tried and all the hyper-parameter your tried and what the validation performance was. You don't have to list all trials, just list three ones you explored. Discuss your findings. Then motivate your choice for the best model and evaluate on the testing data.\n",
    "\n",
    "5) Display the training, validation and test performance (you can use mean squared error).\n",
    "\n",
    "6) Plot the training and validation mean squared error. Did the model under-fit or overfit, or was it just right? Explain your reasoning.\n",
    "\n",
    "7) After doing everything above, go to this notebook: https://colab.research.google.com/drive/1FqFpIKMj0BxbKsa0qtGwsON5sRnaYuQX and look at how to save a model/weights and how to re-load them. For this task you will need to save your best model/weights, reload them, re-compile the model and resuming training for 2 epochs. This exercise teaches you how to save and load a model/weights. This is useful when you train a model on a particular computer and want to execute the predictions on another computer/server.\n",
    "\n",
    "**Save and name your notebooks appropriately as follows: firstname_lastname_assign_2.**\n",
    "\n",
    "Share both your notebook with me by clicking on the Share button on the top right. Share it to this email: dufourq@aims.ac.za\n",
    "\n",
    "**Notes**\n",
    "\n",
    "You will be assessed on your ability to perform steps: 2, 3, 4, 5, 6 and 7. It is always good practice to comment your code, you will be assessed on your ability to produce clean and commented code that is easy to follow. You will also get marks for displaying outputs to the screen after doing data manipulations/imports/reshaping/pre-processing/splitting/comments. Your code should be easy to follow for someone who is not an expert in neural networks ( in other words, if you can create your solution to contain as much information as my tutorials then you'll get marks). \n",
    "\n",
    "Your model should get at most a mean squared error of 2500. Lower is better."
   ]
  },
  {
   "cell_type": "code",
   "execution_count": null,
   "metadata": {
    "id": "OnQytvA-wkFV"
   },
   "outputs": [],
   "source": [
    "<font size='4' color='red'>\n",
    "\n",
    "Correct, however, data have to be scaled.    \n",
    "\n",
    "</font>"
   ]
  },
  {
   "cell_type": "code",
   "execution_count": null,
   "metadata": {
    "id": "m1gvTt2Vsfzm"
   },
   "outputs": [],
   "source": []
  }
 ],
 "metadata": {
  "colab": {
   "collapsed_sections": [],
   "name": "jérémie_bakambana_assign_2.ipynb",
   "provenance": []
  },
  "kernelspec": {
   "display_name": "Python 3",
   "language": "python",
   "name": "python3"
  },
  "language_info": {
   "codemirror_mode": {
    "name": "ipython",
    "version": 3
   },
   "file_extension": ".py",
   "mimetype": "text/x-python",
   "name": "python",
   "nbconvert_exporter": "python",
   "pygments_lexer": "ipython3",
   "version": "3.7.4"
  }
 },
 "nbformat": 4,
 "nbformat_minor": 1
}
