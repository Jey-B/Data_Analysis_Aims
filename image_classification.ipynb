{
 "cells": [
  {
   "cell_type": "markdown",
   "metadata": {
    "id": "Zs3Vxo5dmP7j"
   },
   "source": [
    "## Image classification\n",
    "\n",
    "### jey@aims.ac.za\n"
   ]
  },
  {
   "cell_type": "markdown",
   "metadata": {},
   "source": [
    "# Module importation"
   ]
  },
  {
   "cell_type": "code",
   "execution_count": null,
   "metadata": {
    "colab": {
     "base_uri": "https://localhost:8080/",
     "height": 101
    },
    "id": "cRY4TeyJT1-c",
    "outputId": "342fcbcb-3a38-45b0-c326-c7e86cdf980e"
   },
   "outputs": [
    {
     "name": "stderr",
     "output_type": "stream",
     "text": [
      "Using TensorFlow backend.\n"
     ]
    },
    {
     "data": {
      "text/html": [
       "<p style=\"color: red;\">\n",
       "The default version of TensorFlow in Colab will soon switch to TensorFlow 2.x.<br>\n",
       "We recommend you <a href=\"https://www.tensorflow.org/guide/migrate\" target=\"_blank\">upgrade</a> now \n",
       "or ensure your notebook will continue to use TensorFlow 1.x via the <code>%tensorflow_version 1.x</code> magic:\n",
       "<a href=\"https://colab.research.google.com/notebooks/tensorflow_version.ipynb\" target=\"_blank\">more info</a>.</p>\n"
      ],
      "text/plain": [
       "<IPython.core.display.HTML object>"
      ]
     },
     "metadata": {
      "tags": []
     },
     "output_type": "display_data"
    },
    {
     "name": "stdout",
     "output_type": "stream",
     "text": [
      "1.15.0\n"
     ]
    }
   ],
   "source": [
    "from keras.models import Sequential\n",
    "from keras.layers import Dense, Conv2D, MaxPooling2D, Flatten, Dropout\n",
    "from keras.datasets import cifar100\n",
    "import numpy as np\n",
    "import matplotlib.pyplot as plt\n",
    "from keras.utils import np_utils\n",
    "from sklearn.metrics import accuracy_score, confusion_matrix\n",
    "from keras.utils import to_categorical\n",
    "from sklearn.preprocessing import LabelEncoder\n",
    "from sklearn.model_selection import train_test_split\n",
    "import pandas as pd\n",
    "%matplotlib inline\n",
    "\n",
    "%tensorflow_version 1.x\n",
    "import tensorflow as tf\n",
    "print(tf.__version__)"
   ]
  },
  {
   "cell_type": "markdown",
   "metadata": {
    "id": "X1GTR35cmP7v"
   },
   "source": [
    "## Load the dataset"
   ]
  },
  {
   "cell_type": "code",
   "execution_count": null,
   "metadata": {
    "colab": {
     "base_uri": "https://localhost:8080/",
     "height": 54
    },
    "id": "uQ_KjFJomP7x",
    "outputId": "ac5338f0-5389-4d11-b177-a8b8327168fa"
   },
   "outputs": [
    {
     "name": "stdout",
     "output_type": "stream",
     "text": [
      "Downloading data from https://www.cs.toronto.edu/~kriz/cifar-100-python.tar.gz\n",
      "169009152/169001437 [==============================] - 4s 0us/step\n"
     ]
    }
   ],
   "source": [
    "(X_train, Y_train), (X_test, Y_test) = cifar100.load_data(label_mode='fine')"
   ]
  },
  {
   "cell_type": "code",
   "execution_count": null,
   "metadata": {
    "id": "yEVqMquiWlTk"
   },
   "outputs": [],
   "source": [
    "# Your remaining code here.\n",
    "# Create additional cells and place your code neatly for easy readability. You can add a new cell by clicking on the `+ Code` button on the top left."
   ]
  },
  {
   "cell_type": "markdown",
   "metadata": {
    "id": "REvIe0KwUjnB"
   },
   "source": [
    "# 1. Split the data"
   ]
  },
  {
   "cell_type": "code",
   "execution_count": null,
   "metadata": {
    "id": "pvnnwtRfUfr1"
   },
   "outputs": [],
   "source": [
    "X_train, X_val, Y_train, Y_val = train_test_split(X_train, Y_train, test_size=.3)"
   ]
  },
  {
   "cell_type": "markdown",
   "metadata": {
    "id": "GOvdHGmlUz-x"
   },
   "source": [
    "### View of shapes\n"
   ]
  },
  {
   "cell_type": "code",
   "execution_count": null,
   "metadata": {
    "colab": {
     "base_uri": "https://localhost:8080/",
     "height": 54
    },
    "id": "pZ-GXR0JUxBM",
    "outputId": "420368f2-fae6-44a4-a027-09bec64e1c5c"
   },
   "outputs": [
    {
     "name": "stdout",
     "output_type": "stream",
     "text": [
      "(35000, 32, 32, 3)\n",
      "(35000, 1)\n"
     ]
    }
   ],
   "source": [
    "print (X_train.shape)\n",
    "print (Y_train.shape)"
   ]
  },
  {
   "cell_type": "code",
   "execution_count": null,
   "metadata": {
    "colab": {
     "base_uri": "https://localhost:8080/",
     "height": 54
    },
    "id": "SrFF2kTLUxGq",
    "outputId": "efbfae17-7cd1-4ea0-819d-995350310c98"
   },
   "outputs": [
    {
     "name": "stdout",
     "output_type": "stream",
     "text": [
      "(15000, 32, 32, 3)\n",
      "(15000, 1)\n"
     ]
    }
   ],
   "source": [
    "print(X_val.shape)\n",
    "print (Y_val.shape)"
   ]
  },
  {
   "cell_type": "code",
   "execution_count": null,
   "metadata": {
    "colab": {
     "base_uri": "https://localhost:8080/",
     "height": 54
    },
    "id": "JEdahRVFUxKr",
    "outputId": "288a4509-60c3-4ce8-a819-46c9efd35cf3"
   },
   "outputs": [
    {
     "name": "stdout",
     "output_type": "stream",
     "text": [
      "(10000, 32, 32, 3)\n",
      "(10000, 1)\n"
     ]
    }
   ],
   "source": [
    "print(X_test.shape)\n",
    "print (Y_test.shape)"
   ]
  },
  {
   "cell_type": "markdown",
   "metadata": {
    "id": "voDsrRnpjhW8"
   },
   "source": [
    "### Find the unique numbers from the train labels"
   ]
  },
  {
   "cell_type": "code",
   "execution_count": null,
   "metadata": {
    "colab": {
     "base_uri": "https://localhost:8080/",
     "height": 126
    },
    "id": "VTtf3WF6UxEv",
    "outputId": "d3eb64da-2f4a-4d29-feae-72010320da14"
   },
   "outputs": [
    {
     "name": "stdout",
     "output_type": "stream",
     "text": [
      "Total number of outputs :  100\n",
      "Output classes :  [ 0  1  2  3  4  5  6  7  8  9 10 11 12 13 14 15 16 17 18 19 20 21 22 23\n",
      " 24 25 26 27 28 29 30 31 32 33 34 35 36 37 38 39 40 41 42 43 44 45 46 47\n",
      " 48 49 50 51 52 53 54 55 56 57 58 59 60 61 62 63 64 65 66 67 68 69 70 71\n",
      " 72 73 74 75 76 77 78 79 80 81 82 83 84 85 86 87 88 89 90 91 92 93 94 95\n",
      " 96 97 98 99]\n"
     ]
    }
   ],
   "source": [
    "classes = np.unique(Y_train)\n",
    "nClasses = len(classes)\n",
    "print('Total number of outputs : ', nClasses)\n",
    "print('Output classes : ', classes)"
   ]
  },
  {
   "cell_type": "markdown",
   "metadata": {
    "id": "Nb1U09_ojt3b"
   },
   "source": [
    "### Plot some of the data\n"
   ]
  },
  {
   "cell_type": "code",
   "execution_count": null,
   "metadata": {
    "colab": {
     "base_uri": "https://localhost:8080/",
     "height": 235
    },
    "id": "BXaytjzWUw_n",
    "outputId": "7665302f-efe2-4803-a200-8b8ff0cf0242"
   },
   "outputs": [
    {
     "data": {
      "text/plain": [
       "Text(0.5, 1.0, 'Ground Truth : [43]')"
      ]
     },
     "execution_count": 9,
     "metadata": {
      "tags": []
     },
     "output_type": "execute_result"
    },
    {
     "data": {
      "image/png": "[encoded data removed]",
      "text/plain": [
       "<Figure size 432x216 with 2 Axes>"
      ]
     },
     "metadata": {
      "tags": []
     },
     "output_type": "display_data"
    }
   ],
   "source": [
    "data_point = 15\n",
    "\n",
    "plt.figure(figsize=[6,3])\n",
    " \n",
    "# training data\n",
    "plt.subplot(121)\n",
    "plt.imshow(X_train[data_point,:,:], cmap='gray')\n",
    "plt.title(\"Ground Truth : {}\".format(Y_train[data_point]))\n",
    " \n",
    "# testing data\n",
    "plt.subplot(122)\n",
    "plt.imshow(X_test[data_point,:,:], cmap='gray')\n",
    "plt.title(\"Ground Truth : {}\".format(Y_test[data_point]))"
   ]
  },
  {
   "cell_type": "markdown",
   "metadata": {
    "id": "l56aGMqTlAQl"
   },
   "source": [
    "### We don't need to reshape the data here because the deep is already in depth 3"
   ]
  },
  {
   "cell_type": "markdown",
   "metadata": {
    "id": "Bz1ONG2alT0U"
   },
   "source": [
    "### Normalization\n"
   ]
  },
  {
   "cell_type": "code",
   "execution_count": null,
   "metadata": {
    "id": "KPdbYW-lk_XM"
   },
   "outputs": [],
   "source": [
    "X_train = X_train / 255\n",
    "X_val = X_val / 255\n",
    "X_test = X_test / 255"
   ]
  },
  {
   "cell_type": "code",
   "execution_count": null,
   "metadata": {
    "colab": {
     "base_uri": "https://localhost:8080/",
     "height": 35
    },
    "id": "5v1GY23vpyBf",
    "outputId": "e157dff7-910e-436e-89a0-7eb4a4e01443"
   },
   "outputs": [
    {
     "data": {
      "text/plain": [
       "1.0"
      ]
     },
     "execution_count": 11,
     "metadata": {
      "tags": []
     },
     "output_type": "execute_result"
    }
   ],
   "source": [
    "X_train.max()"
   ]
  },
  {
   "cell_type": "markdown",
   "metadata": {
    "id": "IrlCjjTaleLd"
   },
   "source": [
    "### One hot coding"
   ]
  },
  {
   "cell_type": "code",
   "execution_count": null,
   "metadata": {
    "colab": {
     "base_uri": "https://localhost:8080/",
     "height": 35
    },
    "id": "KaoKz69BlpDe",
    "outputId": "2d34b177-1a64-4dcf-c359-24e318b0a208"
   },
   "outputs": [
    {
     "data": {
      "text/plain": [
       "array([59])"
      ]
     },
     "execution_count": 12,
     "metadata": {
      "tags": []
     },
     "output_type": "execute_result"
    }
   ],
   "source": [
    "Y_train[0]"
   ]
  },
  {
   "cell_type": "code",
   "execution_count": null,
   "metadata": {
    "id": "R0jD-YhOlh0I"
   },
   "outputs": [],
   "source": [
    "Y_train = np_utils.to_categorical(Y_train, 100)\n",
    "Y_val = np_utils.to_categorical(Y_val, 100)\n",
    "Y_test = np_utils.to_categorical(Y_test, 100)"
   ]
  },
  {
   "cell_type": "code",
   "execution_count": null,
   "metadata": {
    "colab": {
     "base_uri": "https://localhost:8080/",
     "height": 145
    },
    "id": "XEskVsndlvOu",
    "outputId": "3b80af10-1287-4da6-ffa9-1d083629135a"
   },
   "outputs": [
    {
     "data": {
      "text/plain": [
       "array([0., 0., 0., 0., 0., 0., 0., 0., 0., 0., 0., 0., 0., 0., 0., 0., 0.,\n",
       "       0., 0., 0., 0., 0., 0., 0., 0., 0., 0., 0., 0., 0., 0., 0., 0., 0.,\n",
       "       0., 0., 0., 0., 0., 0., 0., 0., 0., 0., 0., 0., 0., 0., 0., 0., 0.,\n",
       "       0., 0., 0., 0., 0., 0., 0., 0., 1., 0., 0., 0., 0., 0., 0., 0., 0.,\n",
       "       0., 0., 0., 0., 0., 0., 0., 0., 0., 0., 0., 0., 0., 0., 0., 0., 0.,\n",
       "       0., 0., 0., 0., 0., 0., 0., 0., 0., 0., 0., 0., 0., 0., 0.],\n",
       "      dtype=float32)"
      ]
     },
     "execution_count": 14,
     "metadata": {
      "tags": []
     },
     "output_type": "execute_result"
    }
   ],
   "source": [
    "Y_train[0]"
   ]
  },
  {
   "cell_type": "markdown",
   "metadata": {
    "id": "ACsh1ftVl8qm"
   },
   "source": [
    "# 2. Create a CNN model\n"
   ]
  },
  {
   "cell_type": "markdown",
   "metadata": {
    "id": "5xKbyiiBLMFV"
   },
   "source": [
    "### Network1"
   ]
  },
  {
   "cell_type": "code",
   "execution_count": null,
   "metadata": {
    "id": "4TEKP5ubl7dL"
   },
   "outputs": [],
   "source": [
    "def baseline_model1():\n",
    "    # create model\n",
    "    model = Sequential()\n",
    "    \n",
    "    model.add(Conv2D(filters=200, kernel_size=2, padding='same', activation='relu', input_shape=(32,32,3))) \n",
    "    model.add(MaxPooling2D(pool_size=2))\n",
    "    model.add(Dropout(rate = 0.4))\n",
    "    \n",
    "    model.add(Flatten())\n",
    "    \n",
    "    model.add(Dense(128, activation='relu'))\n",
    "    model.add(Dropout(rate = 0.4))\n",
    "    \n",
    "    model.add(Dense(100, activation='softmax'))\n",
    "    \n",
    "    # Compile the model\n",
    "    model.compile(loss='categorical_crossentropy',\n",
    "             optimizer='adam',\n",
    "             metrics=['accuracy'])\n",
    "    return model"
   ]
  },
  {
   "cell_type": "markdown",
   "metadata": {
    "id": "XuIj5KrgL_4y"
   },
   "source": [
    "**Network1** the accuracy of the prediction on the training data is 0.2597! too small and confusion matrix has shown too many prediction error!\n",
    "\n"
   ]
  },
  {
   "cell_type": "markdown",
   "metadata": {
    "id": "NAdcpzhnLTf5"
   },
   "source": [
    "### Network2"
   ]
  },
  {
   "cell_type": "code",
   "execution_count": null,
   "metadata": {
    "id": "JMoad3QKLWOp"
   },
   "outputs": [],
   "source": [
    "def baseline_model2():\n",
    "    # create model\n",
    "    model = Sequential()\n",
    "    \n",
    "    model.add(Conv2D(filters=200, kernel_size=2, padding='same', activation='relu', input_shape=(32,32,3))) \n",
    "    model.add(MaxPooling2D(pool_size=2))\n",
    "    model.add(Dropout(rate = 0.4))\n",
    "\n",
    "    model.add(Conv2D(filters=64, kernel_size=2, padding='same', activation='relu'))\n",
    "    model.add(MaxPooling2D(pool_size=2))\n",
    "    model.add(Dropout(rate = 0.4))\n",
    "    \n",
    "    model.add(Flatten())\n",
    "    \n",
    "    model.add(Dense(128, activation='relu'))\n",
    "    model.add(Dense(64, activation='relu'))\n",
    "\n",
    "\n",
    "    model.add(Dropout(rate = 0.4))\n",
    "    \n",
    "    model.add(Dense(100, activation='softmax'))\n",
    "    \n",
    "    # Compile the model\n",
    "    model.compile(loss='categorical_crossentropy',\n",
    "             optimizer='adam',\n",
    "             metrics=['accuracy'])\n",
    "    return model"
   ]
  },
  {
   "cell_type": "markdown",
   "metadata": {
    "id": "1xuXmxUbURZm"
   },
   "source": [
    "**Network2** the accuracy of the prediction on the training data is 0.39! better then the previous one but still too small and confusion matrix has shown too many prediction error!\n",
    "\n"
   ]
  },
  {
   "cell_type": "markdown",
   "metadata": {
    "id": "NJVx7Q8VLXWt"
   },
   "source": [
    "### Network3"
   ]
  },
  {
   "cell_type": "code",
   "execution_count": null,
   "metadata": {
    "id": "ZzNm-jauLa14"
   },
   "outputs": [],
   "source": [
    "def baseline_model3():\n",
    "    # create model\n",
    "    model = Sequential()\n",
    "    \n",
    "    model.add(Conv2D(filters=200, kernel_size=2, padding='same', activation='relu', input_shape=(32,32,3))) \n",
    "    model.add(MaxPooling2D(pool_size=2))\n",
    "    model.add(Dropout(rate = 0.4))\n",
    "\n",
    "    model.add(Conv2D(filters=64, kernel_size=2, padding='same', activation='relu'))\n",
    "    model.add(MaxPooling2D(pool_size=2))\n",
    "    model.add(Dropout(rate = 0.4))\n",
    "\n",
    "    model.add(Conv2D(filters=32, kernel_size=2, padding='same', activation='relu'))\n",
    "    model.add(MaxPooling2D(pool_size=2))\n",
    "    model.add(Dropout(rate = 0.4))\n",
    "    \n",
    "    model.add(Flatten())\n",
    "    \n",
    "    model.add(Dense(128, activation='relu'))\n",
    "    model.add(Dense(64, activation='relu'))\n",
    "    model.add(Dense(64, activation='linear'))\n",
    "\n",
    "\n",
    "    model.add(Dropout(rate = 0.4))\n",
    "    \n",
    "    model.add(Dense(100, activation='softmax'))\n",
    "    \n",
    "    # Compile the model\n",
    "    model.compile(loss='categorical_crossentropy',\n",
    "             optimizer='adam',\n",
    "             metrics=['accuracy'])\n",
    "    return model"
   ]
  },
  {
   "cell_type": "markdown",
   "metadata": {
    "id": "vjpXKEeGVAT-"
   },
   "source": [
    "**Network3** more complex then the previous one! But the accuracy is still sthe same 3.954. So the model isn't good\n"
   ]
  },
  {
   "cell_type": "markdown",
   "metadata": {
    "id": "YELgaLYiVG5s"
   },
   "source": [
    "# Testing the model"
   ]
  },
  {
   "cell_type": "code",
   "execution_count": null,
   "metadata": {
    "id": "oTFzTNdOmdcu"
   },
   "outputs": [],
   "source": [
    "model = baseline_model3()"
   ]
  },
  {
   "cell_type": "markdown",
   "metadata": {
    "id": "X3dHMEUtmkvu"
   },
   "source": [
    "Determine the number of trainable parameters\n",
    "\n",
    "\n"
   ]
  },
  {
   "cell_type": "code",
   "execution_count": null,
   "metadata": {
    "colab": {
     "base_uri": "https://localhost:8080/",
     "height": 563
    },
    "id": "HP3k9YTMmjkZ",
    "outputId": "8883e2ac-4680-4728-fdc2-b9fe72be2bad"
   },
   "outputs": [
    {
     "name": "stdout",
     "output_type": "stream",
     "text": [
      "Model: \"sequential_2\"\n",
      "_________________________________________________________________\n",
      "Layer (type)                 Output Shape              Param #   \n",
      "=================================================================\n",
      "conv2d_2 (Conv2D)            (None, 32, 32, 200)       2600      \n",
      "_________________________________________________________________\n",
      "max_pooling2d_2 (MaxPooling2 (None, 16, 16, 200)       0         \n",
      "_________________________________________________________________\n",
      "dropout_3 (Dropout)          (None, 16, 16, 200)       0         \n",
      "_________________________________________________________________\n",
      "conv2d_3 (Conv2D)            (None, 16, 16, 64)        51264     \n",
      "_________________________________________________________________\n",
      "max_pooling2d_3 (MaxPooling2 (None, 8, 8, 64)          0         \n",
      "_________________________________________________________________\n",
      "dropout_4 (Dropout)          (None, 8, 8, 64)          0         \n",
      "_________________________________________________________________\n",
      "flatten_2 (Flatten)          (None, 4096)              0         \n",
      "_________________________________________________________________\n",
      "dense_3 (Dense)              (None, 128)               524416    \n",
      "_________________________________________________________________\n",
      "dense_4 (Dense)              (None, 64)                8256      \n",
      "_________________________________________________________________\n",
      "dropout_5 (Dropout)          (None, 64)                0         \n",
      "_________________________________________________________________\n",
      "dense_5 (Dense)              (None, 100)               6500      \n",
      "=================================================================\n",
      "Total params: 593,036\n",
      "Trainable params: 593,036\n",
      "Non-trainable params: 0\n",
      "_________________________________________________________________\n"
     ]
    }
   ],
   "source": [
    "model.summary()"
   ]
  },
  {
   "cell_type": "markdown",
   "metadata": {
    "id": "a-QtfwxDmx5w"
   },
   "source": [
    "### The training"
   ]
  },
  {
   "cell_type": "code",
   "execution_count": null,
   "metadata": {
    "colab": {
     "base_uri": "https://localhost:8080/",
     "height": 1000
    },
    "id": "k86P2U8xmwMB",
    "outputId": "30913301-63cf-4e24-8d06-f331444f585c"
   },
   "outputs": [
    {
     "name": "stdout",
     "output_type": "stream",
     "text": [
      "Train on 35000 samples, validate on 10000 samples\n",
      "Epoch 1/150\n",
      "35000/35000 [==============================] - 9s 255us/step - loss: 4.3388 - acc: 0.0433 - val_loss: 3.9870 - val_acc: 0.0966\n",
      "Epoch 2/150\n",
      "35000/35000 [==============================] - 8s 237us/step - loss: 3.8593 - acc: 0.1015 - val_loss: 3.6029 - val_acc: 0.1589\n",
      "Epoch 3/150\n",
      "35000/35000 [==============================] - 8s 237us/step - loss: 3.5936 - acc: 0.1439 - val_loss: 3.3802 - val_acc: 0.2013\n",
      "Epoch 4/150\n",
      "35000/35000 [==============================] - 8s 238us/step - loss: 3.4076 - acc: 0.1769 - val_loss: 3.2262 - val_acc: 0.2388\n",
      "Epoch 5/150\n",
      "35000/35000 [==============================] - 8s 238us/step - loss: 3.2568 - acc: 0.2038 - val_loss: 3.0649 - val_acc: 0.2613\n",
      "Epoch 6/150\n",
      "35000/35000 [==============================] - 8s 238us/step - loss: 3.1497 - acc: 0.2251 - val_loss: 2.9883 - val_acc: 0.2765\n",
      "Epoch 7/150\n",
      "35000/35000 [==============================] - 8s 239us/step - loss: 3.0534 - acc: 0.2437 - val_loss: 2.8905 - val_acc: 0.2896\n",
      "Epoch 8/150\n",
      "35000/35000 [==============================] - 8s 239us/step - loss: 2.9780 - acc: 0.2560 - val_loss: 2.8425 - val_acc: 0.2997\n",
      "Epoch 9/150\n",
      "35000/35000 [==============================] - 8s 240us/step - loss: 2.9042 - acc: 0.2711 - val_loss: 2.7805 - val_acc: 0.3063\n",
      "Epoch 10/150\n",
      "35000/35000 [==============================] - 8s 240us/step - loss: 2.8416 - acc: 0.2838 - val_loss: 2.7474 - val_acc: 0.3193\n",
      "Epoch 11/150\n",
      "35000/35000 [==============================] - 8s 241us/step - loss: 2.7801 - acc: 0.2943 - val_loss: 2.7071 - val_acc: 0.3276\n",
      "Epoch 12/150\n",
      "35000/35000 [==============================] - 9s 244us/step - loss: 2.7230 - acc: 0.3063 - val_loss: 2.6246 - val_acc: 0.3408\n",
      "Epoch 13/150\n",
      "35000/35000 [==============================] - 8s 240us/step - loss: 2.6856 - acc: 0.3146 - val_loss: 2.6306 - val_acc: 0.3355\n",
      "Epoch 14/150\n",
      "35000/35000 [==============================] - 8s 239us/step - loss: 2.6444 - acc: 0.3219 - val_loss: 2.5991 - val_acc: 0.3468\n",
      "Epoch 15/150\n",
      "35000/35000 [==============================] - 8s 240us/step - loss: 2.5968 - acc: 0.3319 - val_loss: 2.5427 - val_acc: 0.3571\n",
      "Epoch 16/150\n",
      "35000/35000 [==============================] - 8s 240us/step - loss: 2.5708 - acc: 0.3374 - val_loss: 2.5290 - val_acc: 0.3561\n",
      "Epoch 17/150\n",
      "35000/35000 [==============================] - 8s 241us/step - loss: 2.5329 - acc: 0.3455 - val_loss: 2.5299 - val_acc: 0.3598\n",
      "Epoch 18/150\n",
      "35000/35000 [==============================] - 8s 240us/step - loss: 2.5022 - acc: 0.3520 - val_loss: 2.5272 - val_acc: 0.3594\n",
      "Epoch 19/150\n",
      "35000/35000 [==============================] - 8s 239us/step - loss: 2.4736 - acc: 0.3596 - val_loss: 2.4738 - val_acc: 0.3678\n",
      "Epoch 20/150\n",
      "35000/35000 [==============================] - 8s 240us/step - loss: 2.4494 - acc: 0.3641 - val_loss: 2.4810 - val_acc: 0.3689\n",
      "Epoch 21/150\n",
      "35000/35000 [==============================] - 8s 239us/step - loss: 2.4243 - acc: 0.3696 - val_loss: 2.4948 - val_acc: 0.3657\n",
      "Epoch 22/150\n",
      "35000/35000 [==============================] - 8s 240us/step - loss: 2.4061 - acc: 0.3722 - val_loss: 2.4489 - val_acc: 0.3766\n",
      "Epoch 23/150\n",
      "35000/35000 [==============================] - 8s 240us/step - loss: 2.3874 - acc: 0.3721 - val_loss: 2.4513 - val_acc: 0.3734\n",
      "Epoch 24/150\n",
      "35000/35000 [==============================] - 8s 240us/step - loss: 2.3634 - acc: 0.3799 - val_loss: 2.4168 - val_acc: 0.3793\n",
      "Epoch 25/150\n",
      "35000/35000 [==============================] - 8s 239us/step - loss: 2.3423 - acc: 0.3821 - val_loss: 2.4604 - val_acc: 0.3734\n",
      "Epoch 26/150\n",
      "35000/35000 [==============================] - 8s 239us/step - loss: 2.3270 - acc: 0.3846 - val_loss: 2.4175 - val_acc: 0.3828\n",
      "Epoch 27/150\n",
      "35000/35000 [==============================] - 8s 240us/step - loss: 2.2973 - acc: 0.3944 - val_loss: 2.4564 - val_acc: 0.3746\n",
      "Epoch 28/150\n",
      "35000/35000 [==============================] - 8s 240us/step - loss: 2.2752 - acc: 0.3967 - val_loss: 2.4148 - val_acc: 0.3825\n",
      "Epoch 29/150\n",
      "35000/35000 [==============================] - 8s 240us/step - loss: 2.2595 - acc: 0.4023 - val_loss: 2.4055 - val_acc: 0.3819\n",
      "Epoch 30/150\n",
      "35000/35000 [==============================] - 8s 240us/step - loss: 2.2422 - acc: 0.4035 - val_loss: 2.3884 - val_acc: 0.3838\n",
      "Epoch 31/150\n",
      "35000/35000 [==============================] - 8s 240us/step - loss: 2.2320 - acc: 0.4058 - val_loss: 2.4112 - val_acc: 0.3821\n",
      "Epoch 32/150\n",
      "35000/35000 [==============================] - 8s 239us/step - loss: 2.2078 - acc: 0.4127 - val_loss: 2.3677 - val_acc: 0.3913\n",
      "Epoch 33/150\n",
      "35000/35000 [==============================] - 8s 240us/step - loss: 2.2047 - acc: 0.4130 - val_loss: 2.3875 - val_acc: 0.3869\n",
      "Epoch 34/150\n",
      "35000/35000 [==============================] - 8s 240us/step - loss: 2.1844 - acc: 0.4158 - val_loss: 2.3923 - val_acc: 0.3887\n",
      "Epoch 35/150\n",
      "35000/35000 [==============================] - 8s 240us/step - loss: 2.1608 - acc: 0.4220 - val_loss: 2.3624 - val_acc: 0.3923\n",
      "Epoch 36/150\n",
      "35000/35000 [==============================] - 8s 240us/step - loss: 2.1454 - acc: 0.4240 - val_loss: 2.3673 - val_acc: 0.3909\n",
      "Epoch 37/150\n",
      "35000/35000 [==============================] - 8s 241us/step - loss: 2.1221 - acc: 0.4312 - val_loss: 2.4000 - val_acc: 0.3846\n",
      "Epoch 38/150\n",
      "35000/35000 [==============================] - 8s 242us/step - loss: 2.1233 - acc: 0.4327 - val_loss: 2.3774 - val_acc: 0.3895\n",
      "Epoch 39/150\n",
      "35000/35000 [==============================] - 8s 240us/step - loss: 2.1095 - acc: 0.4339 - val_loss: 2.3650 - val_acc: 0.3940\n",
      "Epoch 40/150\n",
      "35000/35000 [==============================] - 8s 241us/step - loss: 2.0800 - acc: 0.4388 - val_loss: 2.3562 - val_acc: 0.4009\n",
      "Epoch 41/150\n",
      "35000/35000 [==============================] - 8s 240us/step - loss: 2.0753 - acc: 0.4410 - val_loss: 2.3414 - val_acc: 0.4004\n",
      "Epoch 42/150\n",
      "35000/35000 [==============================] - 8s 240us/step - loss: 2.0519 - acc: 0.4450 - val_loss: 2.3545 - val_acc: 0.3936\n",
      "Epoch 43/150\n",
      "35000/35000 [==============================] - 8s 238us/step - loss: 2.0598 - acc: 0.4406 - val_loss: 2.3727 - val_acc: 0.3938\n",
      "Epoch 44/150\n",
      "35000/35000 [==============================] - 8s 240us/step - loss: 2.0293 - acc: 0.4480 - val_loss: 2.3486 - val_acc: 0.3971\n",
      "Epoch 45/150\n",
      "35000/35000 [==============================] - 8s 240us/step - loss: 2.0490 - acc: 0.4428 - val_loss: 2.3733 - val_acc: 0.3953\n",
      "Epoch 46/150\n",
      "35000/35000 [==============================] - 8s 240us/step - loss: 2.0162 - acc: 0.4532 - val_loss: 2.3577 - val_acc: 0.3955\n",
      "Epoch 47/150\n",
      "35000/35000 [==============================] - 8s 241us/step - loss: 2.0148 - acc: 0.4512 - val_loss: 2.3942 - val_acc: 0.3874\n",
      "Epoch 48/150\n",
      "35000/35000 [==============================] - 8s 241us/step - loss: 2.0009 - acc: 0.4558 - val_loss: 2.3550 - val_acc: 0.4006\n",
      "Epoch 49/150\n",
      "35000/35000 [==============================] - 8s 242us/step - loss: 1.9900 - acc: 0.4604 - val_loss: 2.3650 - val_acc: 0.3958\n",
      "Epoch 50/150\n",
      "35000/35000 [==============================] - 8s 239us/step - loss: 1.9671 - acc: 0.4593 - val_loss: 2.3758 - val_acc: 0.3907\n",
      "Epoch 51/150\n",
      "35000/35000 [==============================] - 8s 239us/step - loss: 1.9690 - acc: 0.4636 - val_loss: 2.3410 - val_acc: 0.3996\n",
      "Epoch 52/150\n",
      "35000/35000 [==============================] - 8s 241us/step - loss: 1.9470 - acc: 0.4701 - val_loss: 2.3417 - val_acc: 0.3984\n",
      "Epoch 53/150\n",
      "35000/35000 [==============================] - 8s 240us/step - loss: 1.9357 - acc: 0.4717 - val_loss: 2.3678 - val_acc: 0.3922\n",
      "Epoch 54/150\n",
      "35000/35000 [==============================] - 8s 240us/step - loss: 1.9311 - acc: 0.4717 - val_loss: 2.3460 - val_acc: 0.4000\n",
      "Epoch 55/150\n",
      "35000/35000 [==============================] - 8s 241us/step - loss: 1.9175 - acc: 0.4743 - val_loss: 2.3531 - val_acc: 0.3959\n",
      "Epoch 56/150\n",
      "35000/35000 [==============================] - 8s 242us/step - loss: 1.9131 - acc: 0.4766 - val_loss: 2.3471 - val_acc: 0.3956\n",
      "Epoch 57/150\n",
      "35000/35000 [==============================] - 8s 241us/step - loss: 1.9037 - acc: 0.4793 - val_loss: 2.3367 - val_acc: 0.4000\n",
      "Epoch 58/150\n",
      "35000/35000 [==============================] - 8s 241us/step - loss: 1.8974 - acc: 0.4795 - val_loss: 2.3638 - val_acc: 0.3943\n",
      "Epoch 59/150\n",
      "35000/35000 [==============================] - 8s 240us/step - loss: 1.8883 - acc: 0.4788 - val_loss: 2.3497 - val_acc: 0.3993\n",
      "Epoch 60/150\n",
      "35000/35000 [==============================] - 8s 241us/step - loss: 1.8728 - acc: 0.4819 - val_loss: 2.3548 - val_acc: 0.3987\n",
      "Epoch 61/150\n",
      "35000/35000 [==============================] - 8s 240us/step - loss: 1.8794 - acc: 0.4833 - val_loss: 2.3853 - val_acc: 0.3915\n",
      "Epoch 62/150\n",
      "35000/35000 [==============================] - 8s 241us/step - loss: 1.8578 - acc: 0.4884 - val_loss: 2.3547 - val_acc: 0.3966\n",
      "Epoch 63/150\n",
      "35000/35000 [==============================] - 8s 240us/step - loss: 1.8438 - acc: 0.4903 - val_loss: 2.3566 - val_acc: 0.3988\n",
      "Epoch 64/150\n",
      "35000/35000 [==============================] - 8s 240us/step - loss: 1.8330 - acc: 0.4913 - val_loss: 2.3533 - val_acc: 0.3965\n",
      "Epoch 65/150\n",
      "35000/35000 [==============================] - 8s 240us/step - loss: 1.8396 - acc: 0.4928 - val_loss: 2.3542 - val_acc: 0.4016\n",
      "Epoch 66/150\n",
      "35000/35000 [==============================] - 8s 241us/step - loss: 1.8224 - acc: 0.4929 - val_loss: 2.3789 - val_acc: 0.3976\n",
      "Epoch 67/150\n",
      "35000/35000 [==============================] - 8s 242us/step - loss: 1.8264 - acc: 0.4960 - val_loss: 2.3953 - val_acc: 0.3946\n",
      "Epoch 68/150\n",
      "35000/35000 [==============================] - 8s 239us/step - loss: 1.8272 - acc: 0.4918 - val_loss: 2.3618 - val_acc: 0.4023\n",
      "Epoch 69/150\n",
      "35000/35000 [==============================] - 8s 240us/step - loss: 1.7962 - acc: 0.5002 - val_loss: 2.3772 - val_acc: 0.3994\n",
      "Epoch 70/150\n",
      "35000/35000 [==============================] - 8s 240us/step - loss: 1.8048 - acc: 0.4992 - val_loss: 2.3835 - val_acc: 0.3923\n",
      "Epoch 71/150\n",
      "35000/35000 [==============================] - 8s 241us/step - loss: 1.7853 - acc: 0.5039 - val_loss: 2.3728 - val_acc: 0.4025\n",
      "Epoch 72/150\n",
      "35000/35000 [==============================] - 8s 240us/step - loss: 1.7957 - acc: 0.5022 - val_loss: 2.3724 - val_acc: 0.3999\n",
      "Epoch 73/150\n",
      "35000/35000 [==============================] - 8s 239us/step - loss: 1.7768 - acc: 0.5042 - val_loss: 2.3936 - val_acc: 0.3972\n",
      "Epoch 74/150\n",
      "35000/35000 [==============================] - 8s 241us/step - loss: 1.7775 - acc: 0.5085 - val_loss: 2.3665 - val_acc: 0.3974\n",
      "Epoch 75/150\n",
      "35000/35000 [==============================] - 8s 242us/step - loss: 1.7707 - acc: 0.5058 - val_loss: 2.3732 - val_acc: 0.3943\n",
      "Epoch 76/150\n",
      "35000/35000 [==============================] - 8s 240us/step - loss: 1.7658 - acc: 0.5075 - val_loss: 2.3515 - val_acc: 0.4008\n",
      "Epoch 77/150\n",
      "35000/35000 [==============================] - 8s 239us/step - loss: 1.7509 - acc: 0.5109 - val_loss: 2.3637 - val_acc: 0.3999\n",
      "Epoch 78/150\n",
      "35000/35000 [==============================] - 8s 241us/step - loss: 1.7443 - acc: 0.5114 - val_loss: 2.3723 - val_acc: 0.3999\n",
      "Epoch 79/150\n",
      "35000/35000 [==============================] - 8s 240us/step - loss: 1.7490 - acc: 0.5139 - val_loss: 2.3713 - val_acc: 0.3975\n",
      "Epoch 80/150\n",
      "35000/35000 [==============================] - 8s 241us/step - loss: 1.7339 - acc: 0.5165 - val_loss: 2.3832 - val_acc: 0.3944\n",
      "Epoch 81/150\n",
      "35000/35000 [==============================] - 8s 241us/step - loss: 1.7354 - acc: 0.5159 - val_loss: 2.3826 - val_acc: 0.3998\n",
      "Epoch 82/150\n",
      "35000/35000 [==============================] - 8s 240us/step - loss: 1.7305 - acc: 0.5189 - val_loss: 2.3690 - val_acc: 0.3975\n",
      "Epoch 83/150\n",
      "35000/35000 [==============================] - 8s 241us/step - loss: 1.7161 - acc: 0.5173 - val_loss: 2.3765 - val_acc: 0.3977\n",
      "Epoch 84/150\n",
      "35000/35000 [==============================] - 8s 241us/step - loss: 1.7048 - acc: 0.5197 - val_loss: 2.3877 - val_acc: 0.3968\n",
      "Epoch 85/150\n",
      "35000/35000 [==============================] - 8s 242us/step - loss: 1.7100 - acc: 0.5210 - val_loss: 2.3842 - val_acc: 0.3995\n",
      "Epoch 86/150\n",
      "35000/35000 [==============================] - 9s 243us/step - loss: 1.7016 - acc: 0.5192 - val_loss: 2.3953 - val_acc: 0.4003\n",
      "Epoch 87/150\n",
      "35000/35000 [==============================] - 8s 240us/step - loss: 1.6957 - acc: 0.5248 - val_loss: 2.3854 - val_acc: 0.3962\n",
      "Epoch 88/150\n",
      "35000/35000 [==============================] - 8s 241us/step - loss: 1.6912 - acc: 0.5259 - val_loss: 2.3832 - val_acc: 0.3984\n",
      "Epoch 89/150\n",
      "35000/35000 [==============================] - 8s 241us/step - loss: 1.6882 - acc: 0.5258 - val_loss: 2.3998 - val_acc: 0.3971\n",
      "Epoch 90/150\n",
      "35000/35000 [==============================] - 8s 241us/step - loss: 1.6859 - acc: 0.5249 - val_loss: 2.3847 - val_acc: 0.3980\n",
      "Epoch 91/150\n",
      "35000/35000 [==============================] - 8s 242us/step - loss: 1.6751 - acc: 0.5305 - val_loss: 2.4073 - val_acc: 0.3941\n",
      "Epoch 92/150\n",
      "35000/35000 [==============================] - 8s 241us/step - loss: 1.6728 - acc: 0.5296 - val_loss: 2.3855 - val_acc: 0.3995\n",
      "Epoch 93/150\n",
      "35000/35000 [==============================] - 8s 240us/step - loss: 1.6631 - acc: 0.5312 - val_loss: 2.3914 - val_acc: 0.3958\n",
      "Epoch 94/150\n",
      "35000/35000 [==============================] - 8s 240us/step - loss: 1.6628 - acc: 0.5344 - val_loss: 2.3998 - val_acc: 0.4015\n",
      "Epoch 95/150\n",
      "35000/35000 [==============================] - 8s 240us/step - loss: 1.6701 - acc: 0.5327 - val_loss: 2.3925 - val_acc: 0.4002\n",
      "Epoch 96/150\n",
      "35000/35000 [==============================] - 8s 241us/step - loss: 1.6436 - acc: 0.5386 - val_loss: 2.4078 - val_acc: 0.3955\n",
      "Epoch 97/150\n",
      "35000/35000 [==============================] - 8s 241us/step - loss: 1.6447 - acc: 0.5361 - val_loss: 2.3892 - val_acc: 0.3998\n",
      "Epoch 98/150\n",
      "35000/35000 [==============================] - 8s 239us/step - loss: 1.6426 - acc: 0.5349 - val_loss: 2.4273 - val_acc: 0.3946\n",
      "Epoch 99/150\n",
      "35000/35000 [==============================] - 8s 240us/step - loss: 1.6405 - acc: 0.5388 - val_loss: 2.4236 - val_acc: 0.3948\n",
      "Epoch 100/150\n",
      "35000/35000 [==============================] - 8s 240us/step - loss: 1.6440 - acc: 0.5361 - val_loss: 2.4607 - val_acc: 0.3946\n",
      "Epoch 101/150\n",
      "35000/35000 [==============================] - 8s 239us/step - loss: 1.6220 - acc: 0.5395 - val_loss: 2.4101 - val_acc: 0.3995\n",
      "Epoch 102/150\n",
      "35000/35000 [==============================] - 8s 240us/step - loss: 1.6204 - acc: 0.5418 - val_loss: 2.4160 - val_acc: 0.3901\n",
      "Epoch 103/150\n",
      "35000/35000 [==============================] - 8s 239us/step - loss: 1.6195 - acc: 0.5412 - val_loss: 2.4337 - val_acc: 0.3951\n",
      "Epoch 104/150\n",
      "35000/35000 [==============================] - 8s 239us/step - loss: 1.6091 - acc: 0.5446 - val_loss: 2.4542 - val_acc: 0.3913\n",
      "Epoch 105/150\n",
      "35000/35000 [==============================] - 8s 240us/step - loss: 1.6161 - acc: 0.5409 - val_loss: 2.4123 - val_acc: 0.3952\n",
      "Epoch 106/150\n",
      "35000/35000 [==============================] - 8s 241us/step - loss: 1.5935 - acc: 0.5475 - val_loss: 2.4270 - val_acc: 0.3962\n",
      "Epoch 107/150\n",
      "35000/35000 [==============================] - 8s 239us/step - loss: 1.5995 - acc: 0.5448 - val_loss: 2.4380 - val_acc: 0.3964\n",
      "Epoch 108/150\n",
      "35000/35000 [==============================] - 8s 240us/step - loss: 1.6015 - acc: 0.5433 - val_loss: 2.4278 - val_acc: 0.3966\n",
      "Epoch 109/150\n",
      "35000/35000 [==============================] - 8s 240us/step - loss: 1.5906 - acc: 0.5496 - val_loss: 2.4207 - val_acc: 0.3978\n",
      "Epoch 110/150\n",
      "35000/35000 [==============================] - 8s 240us/step - loss: 1.5897 - acc: 0.5501 - val_loss: 2.4551 - val_acc: 0.3949\n",
      "Epoch 111/150\n",
      "35000/35000 [==============================] - 8s 240us/step - loss: 1.5875 - acc: 0.5473 - val_loss: 2.4339 - val_acc: 0.4069\n",
      "Epoch 112/150\n",
      "35000/35000 [==============================] - 8s 240us/step - loss: 1.5858 - acc: 0.5502 - val_loss: 2.4247 - val_acc: 0.3938\n",
      "Epoch 113/150\n",
      "35000/35000 [==============================] - 8s 239us/step - loss: 1.5796 - acc: 0.5504 - val_loss: 2.4426 - val_acc: 0.3958\n",
      "Epoch 114/150\n",
      "35000/35000 [==============================] - 8s 241us/step - loss: 1.5728 - acc: 0.5527 - val_loss: 2.4504 - val_acc: 0.3945\n",
      "Epoch 115/150\n",
      "35000/35000 [==============================] - 8s 239us/step - loss: 1.5688 - acc: 0.5545 - val_loss: 2.4123 - val_acc: 0.3987\n",
      "Epoch 116/150\n",
      "35000/35000 [==============================] - 8s 241us/step - loss: 1.5739 - acc: 0.5520 - val_loss: 2.4254 - val_acc: 0.3959\n",
      "Epoch 117/150\n",
      "35000/35000 [==============================] - 8s 240us/step - loss: 1.5514 - acc: 0.5591 - val_loss: 2.4442 - val_acc: 0.4003\n",
      "Epoch 118/150\n",
      "35000/35000 [==============================] - 8s 242us/step - loss: 1.5648 - acc: 0.5523 - val_loss: 2.4539 - val_acc: 0.3962\n",
      "Epoch 119/150\n",
      "35000/35000 [==============================] - 8s 241us/step - loss: 1.5548 - acc: 0.5572 - val_loss: 2.4338 - val_acc: 0.3966\n",
      "Epoch 120/150\n",
      "35000/35000 [==============================] - 8s 239us/step - loss: 1.5575 - acc: 0.5563 - val_loss: 2.4744 - val_acc: 0.3923\n",
      "Epoch 121/150\n",
      "35000/35000 [==============================] - 8s 241us/step - loss: 1.5408 - acc: 0.5617 - val_loss: 2.4792 - val_acc: 0.3944\n",
      "Epoch 122/150\n",
      "35000/35000 [==============================] - 8s 240us/step - loss: 1.5350 - acc: 0.5641 - val_loss: 2.4645 - val_acc: 0.3977\n",
      "Epoch 123/150\n",
      "35000/35000 [==============================] - 8s 241us/step - loss: 1.5435 - acc: 0.5599 - val_loss: 2.4660 - val_acc: 0.3984\n",
      "Epoch 124/150\n",
      "35000/35000 [==============================] - 8s 240us/step - loss: 1.5351 - acc: 0.5620 - val_loss: 2.4857 - val_acc: 0.3897\n",
      "Epoch 125/150\n",
      "35000/35000 [==============================] - 8s 239us/step - loss: 1.5380 - acc: 0.5579 - val_loss: 2.4750 - val_acc: 0.3972\n",
      "Epoch 126/150\n",
      "35000/35000 [==============================] - 8s 240us/step - loss: 1.5272 - acc: 0.5656 - val_loss: 2.4848 - val_acc: 0.3939\n",
      "Epoch 127/150\n",
      "35000/35000 [==============================] - 8s 239us/step - loss: 1.5328 - acc: 0.5612 - val_loss: 2.4704 - val_acc: 0.3949\n",
      "Epoch 128/150\n",
      "35000/35000 [==============================] - 8s 239us/step - loss: 1.5325 - acc: 0.5611 - val_loss: 2.4729 - val_acc: 0.3981\n",
      "Epoch 129/150\n",
      "35000/35000 [==============================] - 8s 239us/step - loss: 1.5142 - acc: 0.5666 - val_loss: 2.4562 - val_acc: 0.3968\n",
      "Epoch 130/150\n",
      "35000/35000 [==============================] - 8s 239us/step - loss: 1.5311 - acc: 0.5640 - val_loss: 2.4566 - val_acc: 0.4001\n",
      "Epoch 131/150\n",
      "35000/35000 [==============================] - 8s 240us/step - loss: 1.5128 - acc: 0.5691 - val_loss: 2.4494 - val_acc: 0.3992\n",
      "Epoch 132/150\n",
      "35000/35000 [==============================] - 8s 240us/step - loss: 1.5151 - acc: 0.5658 - val_loss: 2.4776 - val_acc: 0.3901\n",
      "Epoch 133/150\n",
      "35000/35000 [==============================] - 8s 239us/step - loss: 1.5260 - acc: 0.5666 - val_loss: 2.4714 - val_acc: 0.3991\n",
      "Epoch 134/150\n",
      "35000/35000 [==============================] - 8s 239us/step - loss: 1.5046 - acc: 0.5681 - val_loss: 2.4736 - val_acc: 0.3961\n",
      "Epoch 135/150\n",
      "35000/35000 [==============================] - 8s 240us/step - loss: 1.5112 - acc: 0.5687 - val_loss: 2.4866 - val_acc: 0.3961\n",
      "Epoch 136/150\n",
      "35000/35000 [==============================] - 8s 240us/step - loss: 1.4991 - acc: 0.5704 - val_loss: 2.4793 - val_acc: 0.3949\n",
      "Epoch 137/150\n",
      "35000/35000 [==============================] - 8s 238us/step - loss: 1.5001 - acc: 0.5712 - val_loss: 2.4747 - val_acc: 0.3985\n",
      "Epoch 138/150\n",
      "35000/35000 [==============================] - 8s 240us/step - loss: 1.5072 - acc: 0.5693 - val_loss: 2.4772 - val_acc: 0.3975\n",
      "Epoch 139/150\n",
      "35000/35000 [==============================] - 8s 239us/step - loss: 1.4973 - acc: 0.5691 - val_loss: 2.4912 - val_acc: 0.3960\n",
      "Epoch 140/150\n",
      "35000/35000 [==============================] - 9s 255us/step - loss: 1.4920 - acc: 0.5727 - val_loss: 2.4927 - val_acc: 0.3974\n",
      "Epoch 141/150\n",
      "35000/35000 [==============================] - 8s 242us/step - loss: 1.4989 - acc: 0.5722 - val_loss: 2.4794 - val_acc: 0.4021\n",
      "Epoch 142/150\n",
      "35000/35000 [==============================] - 8s 242us/step - loss: 1.4816 - acc: 0.5767 - val_loss: 2.4928 - val_acc: 0.3968\n",
      "Epoch 143/150\n",
      "35000/35000 [==============================] - 9s 243us/step - loss: 1.4853 - acc: 0.5739 - val_loss: 2.4958 - val_acc: 0.3933\n",
      "Epoch 144/150\n",
      "35000/35000 [==============================] - 8s 242us/step - loss: 1.4770 - acc: 0.5737 - val_loss: 2.4810 - val_acc: 0.3992\n",
      "Epoch 145/150\n",
      "35000/35000 [==============================] - 8s 243us/step - loss: 1.4842 - acc: 0.5761 - val_loss: 2.5106 - val_acc: 0.3937\n",
      "Epoch 146/150\n",
      "35000/35000 [==============================] - 8s 243us/step - loss: 1.4821 - acc: 0.5744 - val_loss: 2.5056 - val_acc: 0.3904\n",
      "Epoch 147/150\n",
      "35000/35000 [==============================] - 8s 241us/step - loss: 1.4771 - acc: 0.5750 - val_loss: 2.4881 - val_acc: 0.3984\n",
      "Epoch 148/150\n",
      "35000/35000 [==============================] - 8s 242us/step - loss: 1.4680 - acc: 0.5812 - val_loss: 2.5064 - val_acc: 0.3976\n",
      "Epoch 149/150\n",
      "35000/35000 [==============================] - 8s 240us/step - loss: 1.4638 - acc: 0.5778 - val_loss: 2.5149 - val_acc: 0.3923\n",
      "Epoch 150/150\n",
      "35000/35000 [==============================] - 8s 242us/step - loss: 1.4684 - acc: 0.5762 - val_loss: 2.4837 - val_acc: 0.3954\n"
     ]
    }
   ],
   "source": [
    "history = model.fit(X_train, Y_train, validation_data=(X_test, Y_test), epochs=150, batch_size=200, verbose=1)"
   ]
  },
  {
   "cell_type": "markdown",
   "metadata": {
    "id": "OqS-A2tbnQVz"
   },
   "source": [
    "# 4. Plot the performance"
   ]
  },
  {
   "cell_type": "code",
   "execution_count": null,
   "metadata": {
    "colab": {
     "base_uri": "https://localhost:8080/",
     "height": 1000
    },
    "id": "VXOnHlOgnV6P",
    "outputId": "b40b3bed-bdeb-41cc-f27a-a6fb2c5f4b07"
   },
   "outputs": [
    {
     "data": {
      "text/plain": [
       "{'acc': [0.043314285895654135,\n",
       "  0.10148571420993124,\n",
       "  0.14394285742725646,\n",
       "  0.176942857333592,\n",
       "  0.20380000012261526,\n",
       "  0.22508571258613042,\n",
       "  0.24368571264403208,\n",
       "  0.25602857053279876,\n",
       "  0.2710571415083749,\n",
       "  0.2837999991859709,\n",
       "  0.2942571426289422,\n",
       "  0.3062571439572743,\n",
       "  0.3146285708461489,\n",
       "  0.3219142865283149,\n",
       "  0.33194285809993745,\n",
       "  0.3374000004359654,\n",
       "  0.34554285713604516,\n",
       "  0.35199999962534223,\n",
       "  0.3596285709312984,\n",
       "  0.36411428655896866,\n",
       "  0.3696285717827933,\n",
       "  0.372228570495333,\n",
       "  0.37214285816465104,\n",
       "  0.3799142857960292,\n",
       "  0.3821428576537541,\n",
       "  0.38462857059070044,\n",
       "  0.3944285718032292,\n",
       "  0.396742856332234,\n",
       "  0.40225714155605863,\n",
       "  0.40348571351596285,\n",
       "  0.40577142817633494,\n",
       "  0.4126857135977064,\n",
       "  0.4129999998637608,\n",
       "  0.4157999999182565,\n",
       "  0.42200000047683717,\n",
       "  0.42397142818995887,\n",
       "  0.4311999990258898,\n",
       "  0.4327428570815495,\n",
       "  0.4339142850467137,\n",
       "  0.4387714283806937,\n",
       "  0.44102857300213405,\n",
       "  0.44502857054982864,\n",
       "  0.440628571169717,\n",
       "  0.4480285714353834,\n",
       "  0.44280000056539265,\n",
       "  0.45317142844200137,\n",
       "  0.45117142694337026,\n",
       "  0.4558285708086831,\n",
       "  0.4603999999591282,\n",
       "  0.45925714203289575,\n",
       "  0.46360000031335014,\n",
       "  0.47008571437426977,\n",
       "  0.47171428424971446,\n",
       "  0.471742855821337,\n",
       "  0.47431428602763587,\n",
       "  0.47662857004574366,\n",
       "  0.47925714118140084,\n",
       "  0.4794857130731855,\n",
       "  0.47877142718860083,\n",
       "  0.4819428549494062,\n",
       "  0.4832857130255018,\n",
       "  0.4883714273997716,\n",
       "  0.49025714039802554,\n",
       "  0.4912571401255471,\n",
       "  0.4928285697528294,\n",
       "  0.49291428531919207,\n",
       "  0.49597142679350714,\n",
       "  0.4917999986239842,\n",
       "  0.5002285715511867,\n",
       "  0.4991714256150382,\n",
       "  0.5038571405410767,\n",
       "  0.5021714275223869,\n",
       "  0.5041999990599496,\n",
       "  0.5085142850875854,\n",
       "  0.505771427495139,\n",
       "  0.5075428548880986,\n",
       "  0.5109428560733795,\n",
       "  0.5113714259011405,\n",
       "  0.5139142828328269,\n",
       "  0.5165142859731402,\n",
       "  0.5158571406773158,\n",
       "  0.5188857121126992,\n",
       "  0.5172571405342647,\n",
       "  0.519742854493005,\n",
       "  0.5209999985354288,\n",
       "  0.519171427488327,\n",
       "  0.5247999984877451,\n",
       "  0.5259142848423549,\n",
       "  0.5257714256218502,\n",
       "  0.524942854813167,\n",
       "  0.5305428552627564,\n",
       "  0.5295999997002738,\n",
       "  0.531199996641704,\n",
       "  0.5344000004019056,\n",
       "  0.5327428564003536,\n",
       "  0.5385999994618552,\n",
       "  0.5361142829486302,\n",
       "  0.5349142851148333,\n",
       "  0.5387714307648795,\n",
       "  0.5360857166562761,\n",
       "  0.5395142836230141,\n",
       "  0.5418285698550088,\n",
       "  0.5411714271136693,\n",
       "  0.5446000008923667,\n",
       "  0.5409142855235508,\n",
       "  0.5475428567613874,\n",
       "  0.5448285741465432,\n",
       "  0.5433142856189183,\n",
       "  0.549599997145789,\n",
       "  0.5500857136930738,\n",
       "  0.5472571413857596,\n",
       "  0.5502285718917846,\n",
       "  0.5503714292390006,\n",
       "  0.5527142860208238,\n",
       "  0.55445714030947,\n",
       "  0.552000001158033,\n",
       "  0.5591142870698657,\n",
       "  0.5522857126167843,\n",
       "  0.5571999980722155,\n",
       "  0.5562857127189637,\n",
       "  0.5616571428094591,\n",
       "  0.5640571437563215,\n",
       "  0.5598857150759016,\n",
       "  0.5619714285646166,\n",
       "  0.5579142846379961,\n",
       "  0.565628571510315,\n",
       "  0.5611999978337969,\n",
       "  0.5610857144423893,\n",
       "  0.566600000006812,\n",
       "  0.5640000018051693,\n",
       "  0.5691428583008903,\n",
       "  0.5657714290278298,\n",
       "  0.5665714291163854,\n",
       "  0.5680857154301234,\n",
       "  0.568685714006424,\n",
       "  0.5704285705089569,\n",
       "  0.5712285678727286,\n",
       "  0.5693428540229797,\n",
       "  0.5690571440969194,\n",
       "  0.5726857158115932,\n",
       "  0.5721999997752053,\n",
       "  0.5767428585461207,\n",
       "  0.5739428571292332,\n",
       "  0.5736857153688159,\n",
       "  0.5760571444034577,\n",
       "  0.5743714279787882,\n",
       "  0.5749714274065835,\n",
       "  0.5812000017506735,\n",
       "  0.5778285712855202,\n",
       "  0.576171430179051],\n",
       " 'loss': [4.338766683850969,\n",
       "  3.8592524896349225,\n",
       "  3.5935626888275145,\n",
       "  3.4075786781311037,\n",
       "  3.25682049206325,\n",
       "  3.1497432490757533,\n",
       "  3.0534463242122105,\n",
       "  2.97796884400504,\n",
       "  2.9041671861921037,\n",
       "  2.8416313334873746,\n",
       "  2.780097955976214,\n",
       "  2.7230446311405725,\n",
       "  2.6856237397875105,\n",
       "  2.6444055366516115,\n",
       "  2.5967730958121162,\n",
       "  2.570779790878296,\n",
       "  2.5328608049665178,\n",
       "  2.502221132005964,\n",
       "  2.473613635471889,\n",
       "  2.4494252817971365,\n",
       "  2.424302964891706,\n",
       "  2.406090940747942,\n",
       "  2.3873796837670462,\n",
       "  2.363350075994219,\n",
       "  2.3422822652544295,\n",
       "  2.3269716480800082,\n",
       "  2.2973237235205515,\n",
       "  2.2752203587123327,\n",
       "  2.2594632993425643,\n",
       "  2.2422254725864956,\n",
       "  2.2319952392578126,\n",
       "  2.2078165163312637,\n",
       "  2.2046667643955775,\n",
       "  2.184435420036316,\n",
       "  2.160757863180978,\n",
       "  2.1453759738377163,\n",
       "  2.1221216222218104,\n",
       "  2.1233171776362827,\n",
       "  2.109502840042114,\n",
       "  2.0800159406661987,\n",
       "  2.0752711316517423,\n",
       "  2.051863097463335,\n",
       "  2.0598438256127496,\n",
       "  2.029342850957598,\n",
       "  2.0490145908083233,\n",
       "  2.0162280648095265,\n",
       "  2.014799100330898,\n",
       "  2.0009285954066685,\n",
       "  1.9899663427897862,\n",
       "  1.967094225202288,\n",
       "  1.9690499768938337,\n",
       "  1.9470453432628088,\n",
       "  1.9357037918908255,\n",
       "  1.9311125441959927,\n",
       "  1.9175469514301846,\n",
       "  1.9131185109274729,\n",
       "  1.9037425552095686,\n",
       "  1.8974343769890922,\n",
       "  1.8883454438618252,\n",
       "  1.8727786261694772,\n",
       "  1.8794354561397006,\n",
       "  1.8578098692212786,\n",
       "  1.843846583366394,\n",
       "  1.8330444199698313,\n",
       "  1.8395812892913819,\n",
       "  1.822406383923122,\n",
       "  1.8264439412525721,\n",
       "  1.8272337477547782,\n",
       "  1.7961809921264649,\n",
       "  1.8047945410864694,\n",
       "  1.785257319041661,\n",
       "  1.7957149028778077,\n",
       "  1.7767810692105974,\n",
       "  1.7775475222723824,\n",
       "  1.770680411883763,\n",
       "  1.76576954296657,\n",
       "  1.7508579983030046,\n",
       "  1.744327060835702,\n",
       "  1.7490253237315587,\n",
       "  1.7339329767227172,\n",
       "  1.7353643996374948,\n",
       "  1.7304917682920185,\n",
       "  1.7160818426949638,\n",
       "  1.7047508430480958,\n",
       "  1.7099956825801303,\n",
       "  1.701618629183088,\n",
       "  1.6957352924346925,\n",
       "  1.6911951528276716,\n",
       "  1.6882355764933994,\n",
       "  1.6858889859063284,\n",
       "  1.6750659554345266,\n",
       "  1.6728150340488979,\n",
       "  1.6631214584623064,\n",
       "  1.6628176144191198,\n",
       "  1.6700935384205409,\n",
       "  1.6436256034033638,\n",
       "  1.6447491897855486,\n",
       "  1.6425763811383929,\n",
       "  1.6404690544945852,\n",
       "  1.6439728580202375,\n",
       "  1.6219539192744663,\n",
       "  1.6204174423217774,\n",
       "  1.6195066520145962,\n",
       "  1.6090527282442366,\n",
       "  1.6161100455692836,\n",
       "  1.5935032606124877,\n",
       "  1.5995388398851667,\n",
       "  1.6015373870304652,\n",
       "  1.5905510234832763,\n",
       "  1.5896545389720371,\n",
       "  1.5874564218521119,\n",
       "  1.5857954250063215,\n",
       "  1.579612421308245,\n",
       "  1.5727974796295165,\n",
       "  1.5687688023703439,\n",
       "  1.5738669088908603,\n",
       "  1.5513739790235246,\n",
       "  1.5647602483204432,\n",
       "  1.554803284236363,\n",
       "  1.5575443015779769,\n",
       "  1.54083457333701,\n",
       "  1.535042051587786,\n",
       "  1.5434820079803466,\n",
       "  1.5351017802102225,\n",
       "  1.5380217068535942,\n",
       "  1.5271784142085485,\n",
       "  1.5328116737093245,\n",
       "  1.5325068398884365,\n",
       "  1.5141864102227347,\n",
       "  1.5310569899422781,\n",
       "  1.5127953999383108,\n",
       "  1.5151183557510377,\n",
       "  1.5260059717723302,\n",
       "  1.5046010187694006,\n",
       "  1.5111809641974312,\n",
       "  1.4990506294795445,\n",
       "  1.5001130608149937,\n",
       "  1.5071961641311646,\n",
       "  1.4973325245720999,\n",
       "  1.4920115389142719,\n",
       "  1.498929536002023,\n",
       "  1.481619438443865,\n",
       "  1.4853231246130807,\n",
       "  1.4770058863503592,\n",
       "  1.484224670955113,\n",
       "  1.4821236644472395,\n",
       "  1.4771349477767943,\n",
       "  1.4679661021913801,\n",
       "  1.463805764062064,\n",
       "  1.468374831335885],\n",
       " 'val_acc': [0.09660000026226044,\n",
       "  0.15890000015497208,\n",
       "  0.20129999965429307,\n",
       "  0.2387999987602234,\n",
       "  0.2612999975681305,\n",
       "  0.2765000000596046,\n",
       "  0.2895999997854233,\n",
       "  0.2996999987959862,\n",
       "  0.3062999987602234,\n",
       "  0.3193000018596649,\n",
       "  0.32759999990463257,\n",
       "  0.34079999804496763,\n",
       "  0.33549999833106997,\n",
       "  0.34680000245571135,\n",
       "  0.35710000157356264,\n",
       "  0.356100001335144,\n",
       "  0.35980000138282775,\n",
       "  0.35940000116825105,\n",
       "  0.36780000030994414,\n",
       "  0.3689000022411346,\n",
       "  0.3657000005245209,\n",
       "  0.376599999666214,\n",
       "  0.373400000333786,\n",
       "  0.3793000000715256,\n",
       "  0.3733999997377396,\n",
       "  0.3827999985218048,\n",
       "  0.3745999997854233,\n",
       "  0.3825,\n",
       "  0.3818999987840652,\n",
       "  0.3837999999523163,\n",
       "  0.38210000038146974,\n",
       "  0.39130000114440916,\n",
       "  0.3869000005722046,\n",
       "  0.3887000012397766,\n",
       "  0.39230000019073485,\n",
       "  0.39089999854564667,\n",
       "  0.38459999978542325,\n",
       "  0.38949999868869783,\n",
       "  0.39399999618530274,\n",
       "  0.4008999991416931,\n",
       "  0.40039999783039093,\n",
       "  0.39360000014305113,\n",
       "  0.3937999999523163,\n",
       "  0.3971000015735626,\n",
       "  0.39530000030994417,\n",
       "  0.39549999833106997,\n",
       "  0.38739999771118167,\n",
       "  0.4006000000238419,\n",
       "  0.3958000004291534,\n",
       "  0.39069999754428864,\n",
       "  0.39959999978542327,\n",
       "  0.39839999973773954,\n",
       "  0.39219999969005587,\n",
       "  0.4,\n",
       "  0.39589999854564667,\n",
       "  0.3955999994277954,\n",
       "  0.4,\n",
       "  0.39430000126361847,\n",
       "  0.3993000012636185,\n",
       "  0.39869999945163725,\n",
       "  0.3915000027418137,\n",
       "  0.39660000026226044,\n",
       "  0.3988000023365021,\n",
       "  0.39649999916553497,\n",
       "  0.4015999984741211,\n",
       "  0.39759999930858614,\n",
       "  0.3946000015735626,\n",
       "  0.40229999959468843,\n",
       "  0.39940000116825103,\n",
       "  0.39230000019073485,\n",
       "  0.4024999988079071,\n",
       "  0.3998999983072281,\n",
       "  0.39719999969005587,\n",
       "  0.39740000128746034,\n",
       "  0.39430000007152555,\n",
       "  0.400799999833107,\n",
       "  0.399899999499321,\n",
       "  0.3999000006914139,\n",
       "  0.3974999988079071,\n",
       "  0.3943999993801117,\n",
       "  0.399799998998642,\n",
       "  0.39749999821186066,\n",
       "  0.3976999992132187,\n",
       "  0.39680000305175783,\n",
       "  0.3994999986886978,\n",
       "  0.40030000030994417,\n",
       "  0.3961999988555908,\n",
       "  0.39839999794960024,\n",
       "  0.39709999978542326,\n",
       "  0.3979999989271164,\n",
       "  0.394099999666214,\n",
       "  0.3994999992847443,\n",
       "  0.39579999923706055,\n",
       "  0.40149999856948854,\n",
       "  0.4001999992132187,\n",
       "  0.3955000013113022,\n",
       "  0.3997999984025955,\n",
       "  0.3945999985933304,\n",
       "  0.3948000007867813,\n",
       "  0.3946000009775162,\n",
       "  0.39949999809265135,\n",
       "  0.3901000016927719,\n",
       "  0.39509999871253965,\n",
       "  0.39129999935626986,\n",
       "  0.3951999992132187,\n",
       "  0.39620000183582305,\n",
       "  0.3963999992609024,\n",
       "  0.3966000008583069,\n",
       "  0.39780000030994417,\n",
       "  0.3949000006914139,\n",
       "  0.40689999997615817,\n",
       "  0.3938000005483627,\n",
       "  0.39579999923706055,\n",
       "  0.39450000166893007,\n",
       "  0.39870000183582305,\n",
       "  0.39589999854564667,\n",
       "  0.4002999985218048,\n",
       "  0.39620000004768374,\n",
       "  0.3966000014543533,\n",
       "  0.3922999995946884,\n",
       "  0.3944000005722046,\n",
       "  0.39770000040531156,\n",
       "  0.39840000033378603,\n",
       "  0.3897000002861023,\n",
       "  0.39719999969005587,\n",
       "  0.3938999992609024,\n",
       "  0.3948999977111816,\n",
       "  0.3980999994277954,\n",
       "  0.3968000012636185,\n",
       "  0.40009999871253965,\n",
       "  0.39920000076293943,\n",
       "  0.3901000016927719,\n",
       "  0.3991000014543533,\n",
       "  0.39610000014305113,\n",
       "  0.3961000019311905,\n",
       "  0.3949000006914139,\n",
       "  0.398500000834465,\n",
       "  0.3975000023841858,\n",
       "  0.396000000834465,\n",
       "  0.39739999890327454,\n",
       "  0.4020999974012375,\n",
       "  0.39680000007152555,\n",
       "  0.3932999980449676,\n",
       "  0.39919999957084656,\n",
       "  0.3937000006437302,\n",
       "  0.39040000081062315,\n",
       "  0.39839999973773954,\n",
       "  0.39759999871253965,\n",
       "  0.3923000013828278,\n",
       "  0.39539999842643736],\n",
       " 'val_loss': [3.986970992088318,\n",
       "  3.6029069805145264,\n",
       "  3.3801504945755005,\n",
       "  3.2262374210357665,\n",
       "  3.064892430305481,\n",
       "  2.9883122968673708,\n",
       "  2.8905139064788816,\n",
       "  2.842545828819275,\n",
       "  2.780494031906128,\n",
       "  2.7474251794815063,\n",
       "  2.7070667695999147,\n",
       "  2.624639267921448,\n",
       "  2.6305639028549193,\n",
       "  2.5990951347351072,\n",
       "  2.542731204032898,\n",
       "  2.5289807510375977,\n",
       "  2.5299315547943113,\n",
       "  2.5272064638137817,\n",
       "  2.4737785339355467,\n",
       "  2.4809773349761963,\n",
       "  2.494754281044006,\n",
       "  2.448909516334534,\n",
       "  2.451329131126404,\n",
       "  2.416766633987427,\n",
       "  2.460357999801636,\n",
       "  2.417523503303528,\n",
       "  2.4564195680618286,\n",
       "  2.4148415899276734,\n",
       "  2.405515570640564,\n",
       "  2.3884424686431887,\n",
       "  2.411218867301941,\n",
       "  2.367688522338867,\n",
       "  2.3874737548828127,\n",
       "  2.3923077726364137,\n",
       "  2.362396602630615,\n",
       "  2.367335901260376,\n",
       "  2.3999851989746093,\n",
       "  2.3773967933654787,\n",
       "  2.3649623465538023,\n",
       "  2.356222357749939,\n",
       "  2.3413524770736696,\n",
       "  2.3545429706573486,\n",
       "  2.372682557106018,\n",
       "  2.348592176437378,\n",
       "  2.3732624673843383,\n",
       "  2.3576821088790894,\n",
       "  2.3942097663879394,\n",
       "  2.3549773263931275,\n",
       "  2.3649802017211914,\n",
       "  2.3758054065704344,\n",
       "  2.3410073471069337,\n",
       "  2.3416520023345946,\n",
       "  2.3678302907943727,\n",
       "  2.346007966995239,\n",
       "  2.353097929954529,\n",
       "  2.347121384143829,\n",
       "  2.3366755199432374,\n",
       "  2.3638392877578736,\n",
       "  2.349742169380188,\n",
       "  2.35477530002594,\n",
       "  2.385342631340027,\n",
       "  2.354685730934143,\n",
       "  2.3566407775878906,\n",
       "  2.353300304412842,\n",
       "  2.354178113937378,\n",
       "  2.3788746118545534,\n",
       "  2.3952711391448975,\n",
       "  2.36178530216217,\n",
       "  2.3771661520004272,\n",
       "  2.383466329574585,\n",
       "  2.3728191375732424,\n",
       "  2.3723943281173705,\n",
       "  2.3935772800445556,\n",
       "  2.3665035152435303,\n",
       "  2.373170428276062,\n",
       "  2.3514552545547485,\n",
       "  2.3637315702438353,\n",
       "  2.3722938776016234,\n",
       "  2.3713085508346556,\n",
       "  2.3831938457489015,\n",
       "  2.382637596130371,\n",
       "  2.3690213108062745,\n",
       "  2.3764523887634277,\n",
       "  2.38765341758728,\n",
       "  2.384237747192383,\n",
       "  2.395317540168762,\n",
       "  2.3853862190246584,\n",
       "  2.3832101917266844,\n",
       "  2.399822540283203,\n",
       "  2.3847218561172485,\n",
       "  2.4073392820358275,\n",
       "  2.3854942464828492,\n",
       "  2.3914389991760254,\n",
       "  2.3998101902008058,\n",
       "  2.3925049448013307,\n",
       "  2.407780966758728,\n",
       "  2.3891945695877075,\n",
       "  2.4272677278518677,\n",
       "  2.42355269908905,\n",
       "  2.460727558135986,\n",
       "  2.410112028121948,\n",
       "  2.415959806442261,\n",
       "  2.433730683326721,\n",
       "  2.45424485206604,\n",
       "  2.412322850227356,\n",
       "  2.4269680404663085,\n",
       "  2.4380426692962645,\n",
       "  2.4277776718139648,\n",
       "  2.420675072669983,\n",
       "  2.455080270767212,\n",
       "  2.4338896465301514,\n",
       "  2.4246929502487182,\n",
       "  2.442627778053284,\n",
       "  2.450378336906433,\n",
       "  2.41228018283844,\n",
       "  2.4253921270370484,\n",
       "  2.4441945648193357,\n",
       "  2.4538620710372925,\n",
       "  2.433817253112793,\n",
       "  2.4744163227081297,\n",
       "  2.4791871309280396,\n",
       "  2.464513273239136,\n",
       "  2.465978775024414,\n",
       "  2.4857235765457153,\n",
       "  2.4749646472930906,\n",
       "  2.484770169258118,\n",
       "  2.470418848991394,\n",
       "  2.4729389142990112,\n",
       "  2.45620313167572,\n",
       "  2.456598525047302,\n",
       "  2.449369287490845,\n",
       "  2.4776212310791017,\n",
       "  2.4714139127731323,\n",
       "  2.4735683679580687,\n",
       "  2.4865822172164918,\n",
       "  2.4793127250671385,\n",
       "  2.4746835088729857,\n",
       "  2.477233428955078,\n",
       "  2.491172742843628,\n",
       "  2.4926551246643065,\n",
       "  2.4794127225875853,\n",
       "  2.4928264236450195,\n",
       "  2.4958223867416383,\n",
       "  2.481039409637451,\n",
       "  2.5106150197982786,\n",
       "  2.5056432819366456,\n",
       "  2.488140425682068,\n",
       "  2.5064450025558473,\n",
       "  2.514942936897278,\n",
       "  2.4836502647399903]}"
      ]
     },
     "execution_count": 35,
     "metadata": {
      "tags": []
     },
     "output_type": "execute_result"
    }
   ],
   "source": [
    "history.history"
   ]
  },
  {
   "cell_type": "markdown",
   "metadata": {
    "id": "787kW39ungkm"
   },
   "source": [
    "\n",
    "### Plot the history\n",
    "\n"
   ]
  },
  {
   "cell_type": "code",
   "execution_count": null,
   "metadata": {
    "colab": {
     "base_uri": "https://localhost:8080/",
     "height": 893
    },
    "id": "qJYMbbU-nffP",
    "outputId": "07c912c2-9142-459a-ef83-83c0ea453e7b"
   },
   "outputs": [
    {
     "data": {
      "image/png": "[encoded data removed]",
      "text/plain": [
       "<Figure size 1080x1080 with 1 Axes>"
      ]
     },
     "metadata": {
      "tags": []
     },
     "output_type": "display_data"
    }
   ],
   "source": [
    "plt.plot(history.history['acc'])\n",
    "plt.title('Training Performance')\n",
    "plt.ylabel('Accuracy')\n",
    "plt.xlabel('Epochs')\n",
    "plt.legend(['Train'], loc='best')\n",
    "\n",
    "plt.draw()\n",
    "plt.show()"
   ]
  },
  {
   "cell_type": "code",
   "execution_count": null,
   "metadata": {
    "colab": {
     "base_uri": "https://localhost:8080/",
     "height": 893
    },
    "id": "pW-6oinLnfAr",
    "outputId": "b145e062-1b9d-4610-b5aa-2f5d0a2e8154"
   },
   "outputs": [
    {
     "data": {
      "image/png": "[encoded data removed]",
      "text/plain": [
       "<Figure size 1080x1080 with 1 Axes>"
      ]
     },
     "metadata": {
      "tags": []
     },
     "output_type": "display_data"
    }
   ],
   "source": [
    "plt.plot(history.history['val_acc'])\n",
    "plt.title('Training Performance')\n",
    "plt.ylabel('Validation Accuracy')\n",
    "plt.xlabel('Epochs')\n",
    "plt.legend(['Train'], loc='best')\n",
    "\n",
    "plt.draw()\n",
    "plt.show()"
   ]
  },
  {
   "cell_type": "markdown",
   "metadata": {
    "id": "QoIDj2Z6oRak"
   },
   "source": [
    "### Plot together"
   ]
  },
  {
   "cell_type": "code",
   "execution_count": null,
   "metadata": {
    "colab": {
     "base_uri": "https://localhost:8080/",
     "height": 449
    },
    "id": "Ge8D-sSLoQyz",
    "outputId": "446f6633-ea9d-48dc-d4b6-956ad68b3b92"
   },
   "outputs": [
    {
     "data": {
      "image/png": "[encoded data removed]",
      "text/plain": [
       "<Figure size 1080x1080 with 1 Axes>"
      ]
     },
     "metadata": {
      "tags": []
     },
     "output_type": "display_data"
    }
   ],
   "source": [
    "fig_size = plt.rcParams[\"figure.figsize\"]\n",
    "plt.rcParams[\"figure.figsize\"] = [15, 15]\n",
    "fig, axes = plt.subplots(nrows=1, ncols=1, sharex=True)\n",
    "\n",
    "plt.subplot(211)\n",
    "plt.plot(history.history['acc'])\n",
    "plt.plot(history.history['val_acc'])\n",
    "plt.title('Training Performance')\n",
    "plt.ylabel('Accuracy')\n",
    "plt.xlabel('Epochs')\n",
    "plt.legend(['Train', 'Validation'], loc='best')\n",
    "\n",
    "plt.draw()\n",
    "plt.show()"
   ]
  },
  {
   "cell_type": "markdown",
   "metadata": {
    "id": "KUkgNJVFvgXc"
   },
   "source": [
    "### Predict classes on validation data\n"
   ]
  },
  {
   "cell_type": "code",
   "execution_count": null,
   "metadata": {
    "id": "AQ4EXEMZoQeS"
   },
   "outputs": [],
   "source": [
    "prediction_classes_val = model.predict_classes(X_val)"
   ]
  },
  {
   "cell_type": "code",
   "execution_count": null,
   "metadata": {
    "colab": {
     "base_uri": "https://localhost:8080/",
     "height": 126
    },
    "id": "Y-2a33b4vm-2",
    "outputId": "a44e2be2-546a-469b-9c28-386af0e0abac"
   },
   "outputs": [
    {
     "data": {
      "text/plain": [
       "array([72, 73, 84, 97, 40, 62, 88, 52, 10, 46, 97, 24, 71, 18, 14, 83, 95,\n",
       "       11, 48, 72, 86, 82, 10, 41, 70, 52, 25, 92, 90, 25, 88, 95, 56, 89,\n",
       "        9, 59, 33, 50, 42, 36, 41,  6, 83, 87,  2, 10, 58,  5, 94, 93, 47,\n",
       "        2, 14,  3, 79,  3, 40, 19, 90, 70, 14, 75, 40, 36, 36, 63,  3, 47,\n",
       "       20, 34, 98, 73, 84, 79,  0, 38, 90, 28, 65, 37, 89, 66, 54, 36, 46,\n",
       "       27, 15, 18, 95, 19, 10, 14, 45, 94,  8, 28,  4, 40, 80, 53])"
      ]
     },
     "execution_count": 40,
     "metadata": {
      "tags": []
     },
     "output_type": "execute_result"
    }
   ],
   "source": [
    "prediction_classes_val[0:100]"
   ]
  },
  {
   "cell_type": "markdown",
   "metadata": {
    "id": "geTL9Zu4wJIK"
   },
   "source": [
    "#### Look at the correct validation values\n",
    "\n"
   ]
  },
  {
   "cell_type": "code",
   "execution_count": null,
   "metadata": {
    "colab": {
     "base_uri": "https://localhost:8080/",
     "height": 126
    },
    "id": "irpBRVLpwFf2",
    "outputId": "7376fddb-5739-4cf3-d386-17d16fe78f05"
   },
   "outputs": [
    {
     "data": {
      "text/plain": [
       "array([49, 65, 40, 32, 35, 62, 74, 52, 13,  2, 74,  7, 71, 77, 44, 70, 73,\n",
       "       56, 48, 66, 86, 79, 10, 41, 92, 96, 25,  1, 90, 44, 26, 95, 56, 89,\n",
       "       20, 80, 74, 24, 42, 88, 41,  6, 83, 87,  2, 22, 58,  5, 94, 93, 59,\n",
       "       24, 19, 55, 31, 21, 10, 89, 90, 92, 14, 78, 22, 24,  5, 74, 38, 52,\n",
       "       20, 42, 13, 73,  5, 79,  0, 79, 90, 28, 35, 37, 89, 38, 54, 77, 35,\n",
       "       12, 97, 33, 95, 19, 83, 62, 26, 94,  8, 28, 55, 22, 67,  0])"
      ]
     },
     "execution_count": 41,
     "metadata": {
      "tags": []
     },
     "output_type": "execute_result"
    }
   ],
   "source": [
    "np.argmax(Y_val,axis=1)[0:100]"
   ]
  },
  {
   "cell_type": "markdown",
   "metadata": {
    "id": "sdYM3OshwTTE"
   },
   "source": [
    "### The confusion matrix\n",
    "\n"
   ]
  },
  {
   "cell_type": "code",
   "execution_count": null,
   "metadata": {
    "colab": {
     "base_uri": "https://localhost:8080/",
     "height": 145
    },
    "id": "H9EunIEVwFc5",
    "outputId": "6470c72d-dcac-42a8-baa1-87c37b8850e2"
   },
   "outputs": [
    {
     "data": {
      "text/plain": [
       "array([[101,   1,   2, ...,   0,   0,   1],\n",
       "       [  0,  70,   0, ...,   0,   0,   0],\n",
       "       [  2,   1,  40, ...,   2,   7,   1],\n",
       "       ...,\n",
       "       [  0,   2,   0, ...,  51,   0,   0],\n",
       "       [  1,   1,  13, ...,   2,  35,   1],\n",
       "       [  0,   0,   1, ...,   2,   1,  42]])"
      ]
     },
     "execution_count": 42,
     "metadata": {
      "tags": []
     },
     "output_type": "execute_result"
    }
   ],
   "source": [
    "confusion_matrix(np.argmax(Y_val,1), prediction_classes_val)"
   ]
  },
  {
   "cell_type": "markdown",
   "metadata": {
    "id": "AhCH-6M_wvLB"
   },
   "source": [
    "### Evaluate the model\n"
   ]
  },
  {
   "cell_type": "code",
   "execution_count": null,
   "metadata": {
    "id": "P3EK3IARwlYB"
   },
   "outputs": [],
   "source": [
    "prediction_classes_test = model.predict_classes(X_test)"
   ]
  },
  {
   "cell_type": "code",
   "execution_count": null,
   "metadata": {
    "colab": {
     "base_uri": "https://localhost:8080/",
     "height": 145
    },
    "id": "dK4ElF07wld0",
    "outputId": "6708c421-2e8b-4175-c3d0-4ea8568b9975"
   },
   "outputs": [
    {
     "data": {
      "text/plain": [
       "array([[69,  1,  0, ...,  0,  0,  0],\n",
       "       [ 1, 59,  1, ...,  1,  1,  0],\n",
       "       [ 1,  1, 32, ...,  0,  7,  0],\n",
       "       ...,\n",
       "       [ 0,  0,  0, ..., 31,  3,  0],\n",
       "       [ 0,  1,  5, ...,  1, 19,  2],\n",
       "       [ 0,  0,  0, ...,  1,  0, 34]])"
      ]
     },
     "execution_count": 44,
     "metadata": {
      "tags": []
     },
     "output_type": "execute_result"
    }
   ],
   "source": [
    "confusion_matrix(np.argmax(Y_test,1), prediction_classes_test)"
   ]
  },
  {
   "cell_type": "code",
   "execution_count": null,
   "metadata": {
    "colab": {
     "base_uri": "https://localhost:8080/",
     "height": 35
    },
    "id": "3eZe9RRVwllg",
    "outputId": "05f3f18c-76b9-48f0-b08b-5821898121ce"
   },
   "outputs": [
    {
     "data": {
      "text/plain": [
       "0.3954"
      ]
     },
     "execution_count": 45,
     "metadata": {
      "tags": []
     },
     "output_type": "execute_result"
    }
   ],
   "source": [
    "accuracy_score(np.argmax(Y_test,1), prediction_classes_test)"
   ]
  },
  {
   "cell_type": "code",
   "execution_count": null,
   "metadata": {
    "id": "zqXbqpzTwljl"
   },
   "outputs": [],
   "source": []
  }
 ],
 "metadata": {
  "accelerator": "GPU",
  "colab": {
   "collapsed_sections": [],
   "name": "jérémie_bakambana_assign_3.ipynb",
   "provenance": []
  },
  "kernelspec": {
   "display_name": "Python 3",
   "language": "python",
   "name": "python3"
  },
  "language_info": {
   "codemirror_mode": {
    "name": "ipython",
    "version": 3
   },
   "file_extension": ".py",
   "mimetype": "text/x-python",
   "name": "python",
   "nbconvert_exporter": "python",
   "pygments_lexer": "ipython3",
   "version": "3.7.4"
  }
 },
 "nbformat": 4,
 "nbformat_minor": 1
}
